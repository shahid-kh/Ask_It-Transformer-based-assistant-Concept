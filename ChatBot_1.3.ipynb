{
  "nbformat": 4,
  "nbformat_minor": 0,
  "metadata": {
    "colab": {
      "name": "Welcome To Colaboratory",
      "provenance": [],
      "collapsed_sections": [],
      "toc_visible": true
    },
    "kernelspec": {
      "display_name": "Python 3",
      "language": "python",
      "name": "python3"
    },
    "accelerator": "TPU"
  },
  "cells": [
    {
      "cell_type": "code",
      "metadata": {
        "colab_type": "code",
        "id": "WSfGUJsbGqir",
        "colab": {
          "base_uri": "https://localhost:8080/",
          "height": 122
        },
        "outputId": "6acd4163-485f-49b0-d73e-8fd034352955"
      },
      "source": [
        "from google.colab import drive\n",
        "drive.mount(\"/mydrive\")"
      ],
      "execution_count": 1,
      "outputs": [
        {
          "output_type": "stream",
          "text": [
            "Go to this URL in a browser: https://accounts.google.com/o/oauth2/auth?client_id=947318989803-6bn6qk8qdgf4n4g3pfee6491hc0brc4i.apps.googleusercontent.com&redirect_uri=urn%3aietf%3awg%3aoauth%3a2.0%3aoob&response_type=code&scope=email%20https%3a%2f%2fwww.googleapis.com%2fauth%2fdocs.test%20https%3a%2f%2fwww.googleapis.com%2fauth%2fdrive%20https%3a%2f%2fwww.googleapis.com%2fauth%2fdrive.photos.readonly%20https%3a%2f%2fwww.googleapis.com%2fauth%2fpeopleapi.readonly\n",
            "\n",
            "Enter your authorization code:\n",
            "··········\n",
            "Mounted at /mydrive\n"
          ],
          "name": "stdout"
        }
      ]
    },
    {
      "cell_type": "code",
      "metadata": {
        "colab_type": "code",
        "id": "92KNGsPqGbli",
        "colab": {
          "base_uri": "https://localhost:8080/",
          "height": 513
        },
        "outputId": "0b03289b-dcb1-44fa-cf9c-053891b1982f"
      },
      "source": [
        "import json\n",
        "import tensorflow as tf\n",
        "assert tf.__version__.startswith('2')\n",
        "tf.random.set_seed(1234)\n",
        "\n",
        "!pip install tensorflow-datasets==1.2.0\n",
        "import tensorflow_datasets as tfds\n",
        "\n",
        "import os\n",
        "import re\n",
        "import numpy as np\n",
        "\n",
        "import matplotlib.pyplot as plt"
      ],
      "execution_count": 2,
      "outputs": [
        {
          "output_type": "stream",
          "text": [
            "Collecting tensorflow-datasets==1.2.0\n",
            "\u001b[?25l  Downloading https://files.pythonhosted.org/packages/6c/34/ff424223ed4331006aaa929efc8360b6459d427063dc59fc7b75d7e4bab3/tensorflow_datasets-1.2.0-py3-none-any.whl (2.3MB)\n",
            "\r\u001b[K     |▏                               | 10kB 21.3MB/s eta 0:00:01\r\u001b[K     |▎                               | 20kB 2.1MB/s eta 0:00:02\r\u001b[K     |▍                               | 30kB 2.7MB/s eta 0:00:01\r\u001b[K     |▋                               | 40kB 3.0MB/s eta 0:00:01\r\u001b[K     |▊                               | 51kB 2.5MB/s eta 0:00:01\r\u001b[K     |▉                               | 61kB 2.7MB/s eta 0:00:01\r\u001b[K     |█                               | 71kB 3.1MB/s eta 0:00:01\r\u001b[K     |█▏                              | 81kB 3.3MB/s eta 0:00:01\r\u001b[K     |█▎                              | 92kB 3.6MB/s eta 0:00:01\r\u001b[K     |█▌                              | 102kB 3.5MB/s eta 0:00:01\r\u001b[K     |█▋                              | 112kB 3.5MB/s eta 0:00:01\r\u001b[K     |█▊                              | 122kB 3.5MB/s eta 0:00:01\r\u001b[K     |█▉                              | 133kB 3.5MB/s eta 0:00:01\r\u001b[K     |██                              | 143kB 3.5MB/s eta 0:00:01\r\u001b[K     |██▏                             | 153kB 3.5MB/s eta 0:00:01\r\u001b[K     |██▎                             | 163kB 3.5MB/s eta 0:00:01\r\u001b[K     |██▌                             | 174kB 3.5MB/s eta 0:00:01\r\u001b[K     |██▋                             | 184kB 3.5MB/s eta 0:00:01\r\u001b[K     |██▊                             | 194kB 3.5MB/s eta 0:00:01\r\u001b[K     |███                             | 204kB 3.5MB/s eta 0:00:01\r\u001b[K     |███                             | 215kB 3.5MB/s eta 0:00:01\r\u001b[K     |███▏                            | 225kB 3.5MB/s eta 0:00:01\r\u001b[K     |███▎                            | 235kB 3.5MB/s eta 0:00:01\r\u001b[K     |███▌                            | 245kB 3.5MB/s eta 0:00:01\r\u001b[K     |███▋                            | 256kB 3.5MB/s eta 0:00:01\r\u001b[K     |███▊                            | 266kB 3.5MB/s eta 0:00:01\r\u001b[K     |████                            | 276kB 3.5MB/s eta 0:00:01\r\u001b[K     |████                            | 286kB 3.5MB/s eta 0:00:01\r\u001b[K     |████▏                           | 296kB 3.5MB/s eta 0:00:01\r\u001b[K     |████▍                           | 307kB 3.5MB/s eta 0:00:01\r\u001b[K     |████▌                           | 317kB 3.5MB/s eta 0:00:01\r\u001b[K     |████▋                           | 327kB 3.5MB/s eta 0:00:01\r\u001b[K     |████▉                           | 337kB 3.5MB/s eta 0:00:01\r\u001b[K     |█████                           | 348kB 3.5MB/s eta 0:00:01\r\u001b[K     |█████                           | 358kB 3.5MB/s eta 0:00:01\r\u001b[K     |█████▏                          | 368kB 3.5MB/s eta 0:00:01\r\u001b[K     |█████▍                          | 378kB 3.5MB/s eta 0:00:01\r\u001b[K     |█████▌                          | 389kB 3.5MB/s eta 0:00:01\r\u001b[K     |█████▋                          | 399kB 3.5MB/s eta 0:00:01\r\u001b[K     |█████▉                          | 409kB 3.5MB/s eta 0:00:01\r\u001b[K     |██████                          | 419kB 3.5MB/s eta 0:00:01\r\u001b[K     |██████                          | 430kB 3.5MB/s eta 0:00:01\r\u001b[K     |██████▎                         | 440kB 3.5MB/s eta 0:00:01\r\u001b[K     |██████▍                         | 450kB 3.5MB/s eta 0:00:01\r\u001b[K     |██████▌                         | 460kB 3.5MB/s eta 0:00:01\r\u001b[K     |██████▋                         | 471kB 3.5MB/s eta 0:00:01\r\u001b[K     |██████▉                         | 481kB 3.5MB/s eta 0:00:01\r\u001b[K     |███████                         | 491kB 3.5MB/s eta 0:00:01\r\u001b[K     |███████                         | 501kB 3.5MB/s eta 0:00:01\r\u001b[K     |███████▎                        | 512kB 3.5MB/s eta 0:00:01\r\u001b[K     |███████▍                        | 522kB 3.5MB/s eta 0:00:01\r\u001b[K     |███████▌                        | 532kB 3.5MB/s eta 0:00:01\r\u001b[K     |███████▊                        | 542kB 3.5MB/s eta 0:00:01\r\u001b[K     |███████▉                        | 552kB 3.5MB/s eta 0:00:01\r\u001b[K     |████████                        | 563kB 3.5MB/s eta 0:00:01\r\u001b[K     |████████▏                       | 573kB 3.5MB/s eta 0:00:01\r\u001b[K     |████████▎                       | 583kB 3.5MB/s eta 0:00:01\r\u001b[K     |████████▍                       | 593kB 3.5MB/s eta 0:00:01\r\u001b[K     |████████▌                       | 604kB 3.5MB/s eta 0:00:01\r\u001b[K     |████████▊                       | 614kB 3.5MB/s eta 0:00:01\r\u001b[K     |████████▉                       | 624kB 3.5MB/s eta 0:00:01\r\u001b[K     |█████████                       | 634kB 3.5MB/s eta 0:00:01\r\u001b[K     |█████████▏                      | 645kB 3.5MB/s eta 0:00:01\r\u001b[K     |█████████▎                      | 655kB 3.5MB/s eta 0:00:01\r\u001b[K     |█████████▍                      | 665kB 3.5MB/s eta 0:00:01\r\u001b[K     |█████████▋                      | 675kB 3.5MB/s eta 0:00:01\r\u001b[K     |█████████▊                      | 686kB 3.5MB/s eta 0:00:01\r\u001b[K     |█████████▉                      | 696kB 3.5MB/s eta 0:00:01\r\u001b[K     |██████████                      | 706kB 3.5MB/s eta 0:00:01\r\u001b[K     |██████████▏                     | 716kB 3.5MB/s eta 0:00:01\r\u001b[K     |██████████▎                     | 727kB 3.5MB/s eta 0:00:01\r\u001b[K     |██████████▍                     | 737kB 3.5MB/s eta 0:00:01\r\u001b[K     |██████████▋                     | 747kB 3.5MB/s eta 0:00:01\r\u001b[K     |██████████▊                     | 757kB 3.5MB/s eta 0:00:01\r\u001b[K     |██████████▉                     | 768kB 3.5MB/s eta 0:00:01\r\u001b[K     |███████████                     | 778kB 3.5MB/s eta 0:00:01\r\u001b[K     |███████████▏                    | 788kB 3.5MB/s eta 0:00:01\r\u001b[K     |███████████▎                    | 798kB 3.5MB/s eta 0:00:01\r\u001b[K     |███████████▌                    | 808kB 3.5MB/s eta 0:00:01\r\u001b[K     |███████████▋                    | 819kB 3.5MB/s eta 0:00:01\r\u001b[K     |███████████▊                    | 829kB 3.5MB/s eta 0:00:01\r\u001b[K     |███████████▉                    | 839kB 3.5MB/s eta 0:00:01\r\u001b[K     |████████████                    | 849kB 3.5MB/s eta 0:00:01\r\u001b[K     |████████████▏                   | 860kB 3.5MB/s eta 0:00:01\r\u001b[K     |████████████▎                   | 870kB 3.5MB/s eta 0:00:01\r\u001b[K     |████████████▌                   | 880kB 3.5MB/s eta 0:00:01\r\u001b[K     |████████████▋                   | 890kB 3.5MB/s eta 0:00:01\r\u001b[K     |████████████▊                   | 901kB 3.5MB/s eta 0:00:01\r\u001b[K     |█████████████                   | 911kB 3.5MB/s eta 0:00:01\r\u001b[K     |█████████████                   | 921kB 3.5MB/s eta 0:00:01\r\u001b[K     |█████████████▏                  | 931kB 3.5MB/s eta 0:00:01\r\u001b[K     |█████████████▎                  | 942kB 3.5MB/s eta 0:00:01\r\u001b[K     |█████████████▌                  | 952kB 3.5MB/s eta 0:00:01\r\u001b[K     |█████████████▋                  | 962kB 3.5MB/s eta 0:00:01\r\u001b[K     |█████████████▊                  | 972kB 3.5MB/s eta 0:00:01\r\u001b[K     |██████████████                  | 983kB 3.5MB/s eta 0:00:01\r\u001b[K     |██████████████                  | 993kB 3.5MB/s eta 0:00:01\r\u001b[K     |██████████████▏                 | 1.0MB 3.5MB/s eta 0:00:01\r\u001b[K     |██████████████▍                 | 1.0MB 3.5MB/s eta 0:00:01\r\u001b[K     |██████████████▌                 | 1.0MB 3.5MB/s eta 0:00:01\r\u001b[K     |██████████████▋                 | 1.0MB 3.5MB/s eta 0:00:01\r\u001b[K     |██████████████▉                 | 1.0MB 3.5MB/s eta 0:00:01\r\u001b[K     |███████████████                 | 1.1MB 3.5MB/s eta 0:00:01\r\u001b[K     |███████████████                 | 1.1MB 3.5MB/s eta 0:00:01\r\u001b[K     |███████████████▏                | 1.1MB 3.5MB/s eta 0:00:01\r\u001b[K     |███████████████▍                | 1.1MB 3.5MB/s eta 0:00:01\r\u001b[K     |███████████████▌                | 1.1MB 3.5MB/s eta 0:00:01\r\u001b[K     |███████████████▋                | 1.1MB 3.5MB/s eta 0:00:01\r\u001b[K     |███████████████▉                | 1.1MB 3.5MB/s eta 0:00:01\r\u001b[K     |████████████████                | 1.1MB 3.5MB/s eta 0:00:01\r\u001b[K     |████████████████                | 1.1MB 3.5MB/s eta 0:00:01\r\u001b[K     |████████████████▎               | 1.1MB 3.5MB/s eta 0:00:01\r\u001b[K     |████████████████▍               | 1.2MB 3.5MB/s eta 0:00:01\r\u001b[K     |████████████████▌               | 1.2MB 3.5MB/s eta 0:00:01\r\u001b[K     |████████████████▋               | 1.2MB 3.5MB/s eta 0:00:01\r\u001b[K     |████████████████▉               | 1.2MB 3.5MB/s eta 0:00:01\r\u001b[K     |█████████████████               | 1.2MB 3.5MB/s eta 0:00:01\r\u001b[K     |█████████████████               | 1.2MB 3.5MB/s eta 0:00:01\r\u001b[K     |█████████████████▎              | 1.2MB 3.5MB/s eta 0:00:01\r\u001b[K     |█████████████████▍              | 1.2MB 3.5MB/s eta 0:00:01\r\u001b[K     |█████████████████▌              | 1.2MB 3.5MB/s eta 0:00:01\r\u001b[K     |█████████████████▊              | 1.2MB 3.5MB/s eta 0:00:01\r\u001b[K     |█████████████████▉              | 1.3MB 3.5MB/s eta 0:00:01\r\u001b[K     |██████████████████              | 1.3MB 3.5MB/s eta 0:00:01\r\u001b[K     |██████████████████▏             | 1.3MB 3.5MB/s eta 0:00:01\r\u001b[K     |██████████████████▎             | 1.3MB 3.5MB/s eta 0:00:01\r\u001b[K     |██████████████████▍             | 1.3MB 3.5MB/s eta 0:00:01\r\u001b[K     |██████████████████▌             | 1.3MB 3.5MB/s eta 0:00:01\r\u001b[K     |██████████████████▊             | 1.3MB 3.5MB/s eta 0:00:01\r\u001b[K     |██████████████████▉             | 1.3MB 3.5MB/s eta 0:00:01\r\u001b[K     |███████████████████             | 1.3MB 3.5MB/s eta 0:00:01\r\u001b[K     |███████████████████▏            | 1.4MB 3.5MB/s eta 0:00:01\r\u001b[K     |███████████████████▎            | 1.4MB 3.5MB/s eta 0:00:01\r\u001b[K     |███████████████████▍            | 1.4MB 3.5MB/s eta 0:00:01\r\u001b[K     |███████████████████▋            | 1.4MB 3.5MB/s eta 0:00:01\r\u001b[K     |███████████████████▊            | 1.4MB 3.5MB/s eta 0:00:01\r\u001b[K     |███████████████████▉            | 1.4MB 3.5MB/s eta 0:00:01\r\u001b[K     |████████████████████            | 1.4MB 3.5MB/s eta 0:00:01\r\u001b[K     |████████████████████▏           | 1.4MB 3.5MB/s eta 0:00:01\r\u001b[K     |████████████████████▎           | 1.4MB 3.5MB/s eta 0:00:01\r\u001b[K     |████████████████████▍           | 1.4MB 3.5MB/s eta 0:00:01\r\u001b[K     |████████████████████▋           | 1.5MB 3.5MB/s eta 0:00:01\r\u001b[K     |████████████████████▊           | 1.5MB 3.5MB/s eta 0:00:01\r\u001b[K     |████████████████████▉           | 1.5MB 3.5MB/s eta 0:00:01\r\u001b[K     |█████████████████████           | 1.5MB 3.5MB/s eta 0:00:01\r\u001b[K     |█████████████████████▏          | 1.5MB 3.5MB/s eta 0:00:01\r\u001b[K     |█████████████████████▎          | 1.5MB 3.5MB/s eta 0:00:01\r\u001b[K     |█████████████████████▌          | 1.5MB 3.5MB/s eta 0:00:01\r\u001b[K     |█████████████████████▋          | 1.5MB 3.5MB/s eta 0:00:01\r\u001b[K     |█████████████████████▊          | 1.5MB 3.5MB/s eta 0:00:01\r\u001b[K     |█████████████████████▉          | 1.5MB 3.5MB/s eta 0:00:01\r\u001b[K     |██████████████████████          | 1.6MB 3.5MB/s eta 0:00:01\r\u001b[K     |██████████████████████▏         | 1.6MB 3.5MB/s eta 0:00:01\r\u001b[K     |██████████████████████▎         | 1.6MB 3.5MB/s eta 0:00:01\r\u001b[K     |██████████████████████▌         | 1.6MB 3.5MB/s eta 0:00:01\r\u001b[K     |██████████████████████▋         | 1.6MB 3.5MB/s eta 0:00:01\r\u001b[K     |██████████████████████▊         | 1.6MB 3.5MB/s eta 0:00:01\r\u001b[K     |███████████████████████         | 1.6MB 3.5MB/s eta 0:00:01\r\u001b[K     |███████████████████████         | 1.6MB 3.5MB/s eta 0:00:01\r\u001b[K     |███████████████████████▏        | 1.6MB 3.5MB/s eta 0:00:01\r\u001b[K     |███████████████████████▎        | 1.6MB 3.5MB/s eta 0:00:01\r\u001b[K     |███████████████████████▌        | 1.7MB 3.5MB/s eta 0:00:01\r\u001b[K     |███████████████████████▋        | 1.7MB 3.5MB/s eta 0:00:01\r\u001b[K     |███████████████████████▊        | 1.7MB 3.5MB/s eta 0:00:01\r\u001b[K     |████████████████████████        | 1.7MB 3.5MB/s eta 0:00:01\r\u001b[K     |████████████████████████        | 1.7MB 3.5MB/s eta 0:00:01\r\u001b[K     |████████████████████████▏       | 1.7MB 3.5MB/s eta 0:00:01\r\u001b[K     |████████████████████████▍       | 1.7MB 3.5MB/s eta 0:00:01\r\u001b[K     |████████████████████████▌       | 1.7MB 3.5MB/s eta 0:00:01\r\u001b[K     |████████████████████████▋       | 1.7MB 3.5MB/s eta 0:00:01\r\u001b[K     |████████████████████████▉       | 1.8MB 3.5MB/s eta 0:00:01\r\u001b[K     |█████████████████████████       | 1.8MB 3.5MB/s eta 0:00:01\r\u001b[K     |█████████████████████████       | 1.8MB 3.5MB/s eta 0:00:01\r\u001b[K     |█████████████████████████▏      | 1.8MB 3.5MB/s eta 0:00:01\r\u001b[K     |█████████████████████████▍      | 1.8MB 3.5MB/s eta 0:00:01\r\u001b[K     |█████████████████████████▌      | 1.8MB 3.5MB/s eta 0:00:01\r\u001b[K     |█████████████████████████▋      | 1.8MB 3.5MB/s eta 0:00:01\r\u001b[K     |█████████████████████████▉      | 1.8MB 3.5MB/s eta 0:00:01\r\u001b[K     |██████████████████████████      | 1.8MB 3.5MB/s eta 0:00:01\r\u001b[K     |██████████████████████████      | 1.8MB 3.5MB/s eta 0:00:01\r\u001b[K     |██████████████████████████▎     | 1.9MB 3.5MB/s eta 0:00:01\r\u001b[K     |██████████████████████████▍     | 1.9MB 3.5MB/s eta 0:00:01\r\u001b[K     |██████████████████████████▌     | 1.9MB 3.5MB/s eta 0:00:01\r\u001b[K     |██████████████████████████▋     | 1.9MB 3.5MB/s eta 0:00:01\r\u001b[K     |██████████████████████████▉     | 1.9MB 3.5MB/s eta 0:00:01\r\u001b[K     |███████████████████████████     | 1.9MB 3.5MB/s eta 0:00:01\r\u001b[K     |███████████████████████████     | 1.9MB 3.5MB/s eta 0:00:01\r\u001b[K     |███████████████████████████▎    | 1.9MB 3.5MB/s eta 0:00:01\r\u001b[K     |███████████████████████████▍    | 1.9MB 3.5MB/s eta 0:00:01\r\u001b[K     |███████████████████████████▌    | 1.9MB 3.5MB/s eta 0:00:01\r\u001b[K     |███████████████████████████▊    | 2.0MB 3.5MB/s eta 0:00:01\r\u001b[K     |███████████████████████████▉    | 2.0MB 3.5MB/s eta 0:00:01\r\u001b[K     |████████████████████████████    | 2.0MB 3.5MB/s eta 0:00:01\r\u001b[K     |████████████████████████████    | 2.0MB 3.5MB/s eta 0:00:01\r\u001b[K     |████████████████████████████▎   | 2.0MB 3.5MB/s eta 0:00:01\r\u001b[K     |████████████████████████████▍   | 2.0MB 3.5MB/s eta 0:00:01\r\u001b[K     |████████████████████████████▌   | 2.0MB 3.5MB/s eta 0:00:01\r\u001b[K     |████████████████████████████▊   | 2.0MB 3.5MB/s eta 0:00:01\r\u001b[K     |████████████████████████████▉   | 2.0MB 3.5MB/s eta 0:00:01\r\u001b[K     |█████████████████████████████   | 2.0MB 3.5MB/s eta 0:00:01\r\u001b[K     |█████████████████████████████▏  | 2.1MB 3.5MB/s eta 0:00:01\r\u001b[K     |█████████████████████████████▎  | 2.1MB 3.5MB/s eta 0:00:01\r\u001b[K     |█████████████████████████████▍  | 2.1MB 3.5MB/s eta 0:00:01\r\u001b[K     |█████████████████████████████▋  | 2.1MB 3.5MB/s eta 0:00:01\r\u001b[K     |█████████████████████████████▊  | 2.1MB 3.5MB/s eta 0:00:01\r\u001b[K     |█████████████████████████████▉  | 2.1MB 3.5MB/s eta 0:00:01\r\u001b[K     |██████████████████████████████  | 2.1MB 3.5MB/s eta 0:00:01\r\u001b[K     |██████████████████████████████▏ | 2.1MB 3.5MB/s eta 0:00:01\r\u001b[K     |██████████████████████████████▎ | 2.1MB 3.5MB/s eta 0:00:01\r\u001b[K     |██████████████████████████████▍ | 2.2MB 3.5MB/s eta 0:00:01\r\u001b[K     |██████████████████████████████▋ | 2.2MB 3.5MB/s eta 0:00:01\r\u001b[K     |██████████████████████████████▊ | 2.2MB 3.5MB/s eta 0:00:01\r\u001b[K     |██████████████████████████████▉ | 2.2MB 3.5MB/s eta 0:00:01\r\u001b[K     |███████████████████████████████ | 2.2MB 3.5MB/s eta 0:00:01\r\u001b[K     |███████████████████████████████▏| 2.2MB 3.5MB/s eta 0:00:01\r\u001b[K     |███████████████████████████████▎| 2.2MB 3.5MB/s eta 0:00:01\r\u001b[K     |███████████████████████████████▍| 2.2MB 3.5MB/s eta 0:00:01\r\u001b[K     |███████████████████████████████▋| 2.2MB 3.5MB/s eta 0:00:01\r\u001b[K     |███████████████████████████████▊| 2.2MB 3.5MB/s eta 0:00:01\r\u001b[K     |███████████████████████████████▉| 2.3MB 3.5MB/s eta 0:00:01\r\u001b[K     |████████████████████████████████| 2.3MB 3.5MB/s \n",
            "\u001b[?25hRequirement already satisfied: six in /usr/local/lib/python3.6/dist-packages (from tensorflow-datasets==1.2.0) (1.15.0)\n",
            "Requirement already satisfied: dill in /usr/local/lib/python3.6/dist-packages (from tensorflow-datasets==1.2.0) (0.3.2)\n",
            "Requirement already satisfied: requests>=2.19.0 in /usr/local/lib/python3.6/dist-packages (from tensorflow-datasets==1.2.0) (2.23.0)\n",
            "Requirement already satisfied: promise in /usr/local/lib/python3.6/dist-packages (from tensorflow-datasets==1.2.0) (2.3)\n",
            "Requirement already satisfied: numpy in /usr/local/lib/python3.6/dist-packages (from tensorflow-datasets==1.2.0) (1.18.5)\n",
            "Requirement already satisfied: tensorflow-metadata in /usr/local/lib/python3.6/dist-packages (from tensorflow-datasets==1.2.0) (0.22.2)\n",
            "Requirement already satisfied: protobuf>=3.6.1 in /usr/local/lib/python3.6/dist-packages (from tensorflow-datasets==1.2.0) (3.12.2)\n",
            "Requirement already satisfied: termcolor in /usr/local/lib/python3.6/dist-packages (from tensorflow-datasets==1.2.0) (1.1.0)\n",
            "Requirement already satisfied: psutil in /usr/local/lib/python3.6/dist-packages (from tensorflow-datasets==1.2.0) (5.4.8)\n",
            "Requirement already satisfied: tqdm in /usr/local/lib/python3.6/dist-packages (from tensorflow-datasets==1.2.0) (4.41.1)\n",
            "Requirement already satisfied: future in /usr/local/lib/python3.6/dist-packages (from tensorflow-datasets==1.2.0) (0.16.0)\n",
            "Requirement already satisfied: absl-py in /usr/local/lib/python3.6/dist-packages (from tensorflow-datasets==1.2.0) (0.9.0)\n",
            "Requirement already satisfied: wrapt in /usr/local/lib/python3.6/dist-packages (from tensorflow-datasets==1.2.0) (1.12.1)\n",
            "Requirement already satisfied: attrs in /usr/local/lib/python3.6/dist-packages (from tensorflow-datasets==1.2.0) (19.3.0)\n",
            "Requirement already satisfied: certifi>=2017.4.17 in /usr/local/lib/python3.6/dist-packages (from requests>=2.19.0->tensorflow-datasets==1.2.0) (2020.6.20)\n",
            "Requirement already satisfied: idna<3,>=2.5 in /usr/local/lib/python3.6/dist-packages (from requests>=2.19.0->tensorflow-datasets==1.2.0) (2.10)\n",
            "Requirement already satisfied: chardet<4,>=3.0.2 in /usr/local/lib/python3.6/dist-packages (from requests>=2.19.0->tensorflow-datasets==1.2.0) (3.0.4)\n",
            "Requirement already satisfied: urllib3!=1.25.0,!=1.25.1,<1.26,>=1.21.1 in /usr/local/lib/python3.6/dist-packages (from requests>=2.19.0->tensorflow-datasets==1.2.0) (1.24.3)\n",
            "Requirement already satisfied: googleapis-common-protos in /usr/local/lib/python3.6/dist-packages (from tensorflow-metadata->tensorflow-datasets==1.2.0) (1.52.0)\n",
            "Requirement already satisfied: setuptools in /usr/local/lib/python3.6/dist-packages (from protobuf>=3.6.1->tensorflow-datasets==1.2.0) (49.1.0)\n",
            "Installing collected packages: tensorflow-datasets\n",
            "  Found existing installation: tensorflow-datasets 2.1.0\n",
            "    Uninstalling tensorflow-datasets-2.1.0:\n",
            "      Successfully uninstalled tensorflow-datasets-2.1.0\n",
            "Successfully installed tensorflow-datasets-1.2.0\n"
          ],
          "name": "stdout"
        }
      ]
    },
    {
      "cell_type": "code",
      "metadata": {
        "id": "hgEKMq2wnQtL",
        "colab_type": "code",
        "colab": {
          "base_uri": "https://localhost:8080/",
          "height": 156
        },
        "outputId": "2139b6ce-e62c-45d6-c74c-d4a1513b09b5"
      },
      "source": [
        "resolver = tf.distribute.cluster_resolver.TPUClusterResolver(tpu='grpc://' + os.environ['COLAB_TPU_ADDR'])\n",
        "tf.config.experimental_connect_to_cluster(resolver)\n",
        "# This is the TPU initialization code that has to be at the beginning.\n",
        "tf.tpu.experimental.initialize_tpu_system(resolver)\n",
        "print(\"All devices: \", tf.config.list_logical_devices('TPU'))\n"
      ],
      "execution_count": 3,
      "outputs": [
        {
          "output_type": "stream",
          "text": [
            "INFO:tensorflow:Initializing the TPU system: grpc://10.54.69.98:8470\n"
          ],
          "name": "stdout"
        },
        {
          "output_type": "stream",
          "text": [
            "INFO:tensorflow:Initializing the TPU system: grpc://10.54.69.98:8470\n"
          ],
          "name": "stderr"
        },
        {
          "output_type": "stream",
          "text": [
            "INFO:tensorflow:Clearing out eager caches\n"
          ],
          "name": "stdout"
        },
        {
          "output_type": "stream",
          "text": [
            "INFO:tensorflow:Clearing out eager caches\n"
          ],
          "name": "stderr"
        },
        {
          "output_type": "stream",
          "text": [
            "INFO:tensorflow:Finished initializing TPU system.\n"
          ],
          "name": "stdout"
        },
        {
          "output_type": "stream",
          "text": [
            "INFO:tensorflow:Finished initializing TPU system.\n"
          ],
          "name": "stderr"
        },
        {
          "output_type": "stream",
          "text": [
            "All devices:  [LogicalDevice(name='/job:worker/replica:0/task:0/device:TPU:7', device_type='TPU'), LogicalDevice(name='/job:worker/replica:0/task:0/device:TPU:6', device_type='TPU'), LogicalDevice(name='/job:worker/replica:0/task:0/device:TPU:5', device_type='TPU'), LogicalDevice(name='/job:worker/replica:0/task:0/device:TPU:4', device_type='TPU'), LogicalDevice(name='/job:worker/replica:0/task:0/device:TPU:0', device_type='TPU'), LogicalDevice(name='/job:worker/replica:0/task:0/device:TPU:1', device_type='TPU'), LogicalDevice(name='/job:worker/replica:0/task:0/device:TPU:2', device_type='TPU'), LogicalDevice(name='/job:worker/replica:0/task:0/device:TPU:3', device_type='TPU')]\n"
          ],
          "name": "stdout"
        }
      ]
    },
    {
      "cell_type": "code",
      "metadata": {
        "colab_type": "code",
        "id": "kDOWoTaCINHp",
        "colab": {
          "base_uri": "https://localhost:8080/",
          "height": 615
        },
        "outputId": "890316ab-1f33-452d-e86f-45c4599fc5a2"
      },
      "source": [
        "strategy = tf.distribute.experimental.TPUStrategy(resolver)\n",
        "\n"
      ],
      "execution_count": 40,
      "outputs": [
        {
          "output_type": "stream",
          "text": [
            "INFO:tensorflow:Found TPU system:\n"
          ],
          "name": "stdout"
        },
        {
          "output_type": "stream",
          "text": [
            "INFO:tensorflow:Found TPU system:\n"
          ],
          "name": "stderr"
        },
        {
          "output_type": "stream",
          "text": [
            "INFO:tensorflow:*** Num TPU Cores: 8\n"
          ],
          "name": "stdout"
        },
        {
          "output_type": "stream",
          "text": [
            "INFO:tensorflow:*** Num TPU Cores: 8\n"
          ],
          "name": "stderr"
        },
        {
          "output_type": "stream",
          "text": [
            "INFO:tensorflow:*** Num TPU Workers: 1\n"
          ],
          "name": "stdout"
        },
        {
          "output_type": "stream",
          "text": [
            "INFO:tensorflow:*** Num TPU Workers: 1\n"
          ],
          "name": "stderr"
        },
        {
          "output_type": "stream",
          "text": [
            "INFO:tensorflow:*** Num TPU Cores Per Worker: 8\n"
          ],
          "name": "stdout"
        },
        {
          "output_type": "stream",
          "text": [
            "INFO:tensorflow:*** Num TPU Cores Per Worker: 8\n"
          ],
          "name": "stderr"
        },
        {
          "output_type": "stream",
          "text": [
            "INFO:tensorflow:*** Available Device: _DeviceAttributes(/job:localhost/replica:0/task:0/device:CPU:0, CPU, 0, 0)\n"
          ],
          "name": "stdout"
        },
        {
          "output_type": "stream",
          "text": [
            "INFO:tensorflow:*** Available Device: _DeviceAttributes(/job:localhost/replica:0/task:0/device:CPU:0, CPU, 0, 0)\n"
          ],
          "name": "stderr"
        },
        {
          "output_type": "stream",
          "text": [
            "INFO:tensorflow:*** Available Device: _DeviceAttributes(/job:localhost/replica:0/task:0/device:XLA_CPU:0, XLA_CPU, 0, 0)\n"
          ],
          "name": "stdout"
        },
        {
          "output_type": "stream",
          "text": [
            "INFO:tensorflow:*** Available Device: _DeviceAttributes(/job:localhost/replica:0/task:0/device:XLA_CPU:0, XLA_CPU, 0, 0)\n"
          ],
          "name": "stderr"
        },
        {
          "output_type": "stream",
          "text": [
            "INFO:tensorflow:*** Available Device: _DeviceAttributes(/job:worker/replica:0/task:0/device:CPU:0, CPU, 0, 0)\n"
          ],
          "name": "stdout"
        },
        {
          "output_type": "stream",
          "text": [
            "INFO:tensorflow:*** Available Device: _DeviceAttributes(/job:worker/replica:0/task:0/device:CPU:0, CPU, 0, 0)\n"
          ],
          "name": "stderr"
        },
        {
          "output_type": "stream",
          "text": [
            "INFO:tensorflow:*** Available Device: _DeviceAttributes(/job:worker/replica:0/task:0/device:TPU:0, TPU, 0, 0)\n"
          ],
          "name": "stdout"
        },
        {
          "output_type": "stream",
          "text": [
            "INFO:tensorflow:*** Available Device: _DeviceAttributes(/job:worker/replica:0/task:0/device:TPU:0, TPU, 0, 0)\n"
          ],
          "name": "stderr"
        },
        {
          "output_type": "stream",
          "text": [
            "INFO:tensorflow:*** Available Device: _DeviceAttributes(/job:worker/replica:0/task:0/device:TPU:1, TPU, 0, 0)\n"
          ],
          "name": "stdout"
        },
        {
          "output_type": "stream",
          "text": [
            "INFO:tensorflow:*** Available Device: _DeviceAttributes(/job:worker/replica:0/task:0/device:TPU:1, TPU, 0, 0)\n"
          ],
          "name": "stderr"
        },
        {
          "output_type": "stream",
          "text": [
            "INFO:tensorflow:*** Available Device: _DeviceAttributes(/job:worker/replica:0/task:0/device:TPU:2, TPU, 0, 0)\n"
          ],
          "name": "stdout"
        },
        {
          "output_type": "stream",
          "text": [
            "INFO:tensorflow:*** Available Device: _DeviceAttributes(/job:worker/replica:0/task:0/device:TPU:2, TPU, 0, 0)\n"
          ],
          "name": "stderr"
        },
        {
          "output_type": "stream",
          "text": [
            "INFO:tensorflow:*** Available Device: _DeviceAttributes(/job:worker/replica:0/task:0/device:TPU:3, TPU, 0, 0)\n"
          ],
          "name": "stdout"
        },
        {
          "output_type": "stream",
          "text": [
            "INFO:tensorflow:*** Available Device: _DeviceAttributes(/job:worker/replica:0/task:0/device:TPU:3, TPU, 0, 0)\n"
          ],
          "name": "stderr"
        },
        {
          "output_type": "stream",
          "text": [
            "INFO:tensorflow:*** Available Device: _DeviceAttributes(/job:worker/replica:0/task:0/device:TPU:4, TPU, 0, 0)\n"
          ],
          "name": "stdout"
        },
        {
          "output_type": "stream",
          "text": [
            "INFO:tensorflow:*** Available Device: _DeviceAttributes(/job:worker/replica:0/task:0/device:TPU:4, TPU, 0, 0)\n"
          ],
          "name": "stderr"
        },
        {
          "output_type": "stream",
          "text": [
            "INFO:tensorflow:*** Available Device: _DeviceAttributes(/job:worker/replica:0/task:0/device:TPU:5, TPU, 0, 0)\n"
          ],
          "name": "stdout"
        },
        {
          "output_type": "stream",
          "text": [
            "INFO:tensorflow:*** Available Device: _DeviceAttributes(/job:worker/replica:0/task:0/device:TPU:5, TPU, 0, 0)\n"
          ],
          "name": "stderr"
        },
        {
          "output_type": "stream",
          "text": [
            "INFO:tensorflow:*** Available Device: _DeviceAttributes(/job:worker/replica:0/task:0/device:TPU:6, TPU, 0, 0)\n"
          ],
          "name": "stdout"
        },
        {
          "output_type": "stream",
          "text": [
            "INFO:tensorflow:*** Available Device: _DeviceAttributes(/job:worker/replica:0/task:0/device:TPU:6, TPU, 0, 0)\n"
          ],
          "name": "stderr"
        },
        {
          "output_type": "stream",
          "text": [
            "INFO:tensorflow:*** Available Device: _DeviceAttributes(/job:worker/replica:0/task:0/device:TPU:7, TPU, 0, 0)\n"
          ],
          "name": "stdout"
        },
        {
          "output_type": "stream",
          "text": [
            "INFO:tensorflow:*** Available Device: _DeviceAttributes(/job:worker/replica:0/task:0/device:TPU:7, TPU, 0, 0)\n"
          ],
          "name": "stderr"
        },
        {
          "output_type": "stream",
          "text": [
            "INFO:tensorflow:*** Available Device: _DeviceAttributes(/job:worker/replica:0/task:0/device:TPU_SYSTEM:0, TPU_SYSTEM, 0, 0)\n"
          ],
          "name": "stdout"
        },
        {
          "output_type": "stream",
          "text": [
            "INFO:tensorflow:*** Available Device: _DeviceAttributes(/job:worker/replica:0/task:0/device:TPU_SYSTEM:0, TPU_SYSTEM, 0, 0)\n"
          ],
          "name": "stderr"
        },
        {
          "output_type": "stream",
          "text": [
            "INFO:tensorflow:*** Available Device: _DeviceAttributes(/job:worker/replica:0/task:0/device:XLA_CPU:0, XLA_CPU, 0, 0)\n"
          ],
          "name": "stdout"
        },
        {
          "output_type": "stream",
          "text": [
            "INFO:tensorflow:*** Available Device: _DeviceAttributes(/job:worker/replica:0/task:0/device:XLA_CPU:0, XLA_CPU, 0, 0)\n"
          ],
          "name": "stderr"
        }
      ]
    },
    {
      "cell_type": "code",
      "metadata": {
        "id": "8XXwNv9Sp_Xn",
        "colab_type": "code",
        "colab": {}
      },
      "source": [
        "filenames=[]\n",
        "filepaths=[]\n",
        "data_list=[]\n",
        "file_init_path='/mydrive/My Drive/ChatBot_Trnsfrmer_Taskmaster2/'\n",
        "filenames=os.listdir('/mydrive/My Drive/ChatBot_Trnsfrmer_Taskmaster2')\n",
        "\n",
        "for file in filenames:\n",
        "  path=file_init_path+file\n",
        "  filepaths.append(path)\n",
        "  \n",
        "for file in filepaths:\n",
        "  with open(file) as f:\n",
        "    data=json.load(f)\n",
        "    data_list.append(data)"
      ],
      "execution_count": 12,
      "outputs": []
    },
    {
      "cell_type": "code",
      "metadata": {
        "colab_type": "code",
        "id": "wW_DzcNzJk1E",
        "colab": {
          "base_uri": "https://localhost:8080/",
          "height": 34
        },
        "outputId": "d996f907-1a69-47ca-8aee-4b00c0224e8b"
      },
      "source": [
        ""
      ],
      "execution_count": null,
      "outputs": [
        {
          "output_type": "stream",
          "text": [
            "1050\n"
          ],
          "name": "stdout"
        }
      ]
    },
    {
      "cell_type": "code",
      "metadata": {
        "colab_type": "code",
        "id": "V8eHy741GoQj",
        "colab": {
          "base_uri": "https://localhost:8080/",
          "height": 34
        },
        "outputId": "f7839dcf-c448-4ca9-83ab-54df4857635d"
      },
      "source": [
        "conversation=[]\n",
        "for data in data_list:\n",
        "\n",
        "  for line in data:\n",
        "    conversation.append(line['utterances'])\n",
        "\n",
        "print(len(conversation))\n",
        "\n"
      ],
      "execution_count": 13,
      "outputs": [
        {
          "output_type": "stream",
          "text": [
            "17304\n"
          ],
          "name": "stdout"
        }
      ]
    },
    {
      "cell_type": "code",
      "metadata": {
        "id": "3UN3Fa44APq_",
        "colab_type": "code",
        "colab": {}
      },
      "source": [
        "def preprocess_sentence(sentence):\n",
        "  sentence = sentence.lower().strip()\n",
        "  # creating a space between a word and the punctuation following it\n",
        "  # eg: \"he is a boy.\" => \"he is a boy .\"\n",
        "  sentence = re.sub(r\"([?.!,])\", r\" \\1 \", sentence)\n",
        "  sentence = re.sub(r'[\" \"]+', \" \", sentence)\n",
        "  # replacing everything with space except (a-z, A-Z, \".\", \"?\", \"!\", \",\")\n",
        "  sentence = re.sub(r\"[^a-zA-Z?.!,]+\", \" \", sentence)\n",
        "  sentence = sentence.strip()\n",
        "  # adding a start and an end token to the sentence\n",
        "  return sentence\n"
      ],
      "execution_count": 14,
      "outputs": []
    },
    {
      "cell_type": "code",
      "metadata": {
        "id": "vRKqLeBczlB0",
        "colab_type": "code",
        "colab": {}
      },
      "source": [
        "USER=[]\n",
        "BOT=[]\n",
        "def add_text(speaker,text):\n",
        "  if (speaker==\"USER\"):\n",
        "    USER.append(preprocess_sentence(text))\n",
        "  elif (speaker==\"ASSISTANT\"):\n",
        "    BOT.append(preprocess_sentence(text))\n",
        "  else:\n",
        "    print(\"Error\")"
      ],
      "execution_count": 15,
      "outputs": []
    },
    {
      "cell_type": "code",
      "metadata": {
        "id": "rYwGQMMFyUtg",
        "colab_type": "code",
        "colab": {}
      },
      "source": [
        "def load_QA():\n",
        "  last_speaker=\"None\"\n",
        "  current_speaker=\"None\"\n",
        "  temp_text=\"\"\n",
        "  for segment in conversation:\n",
        "    for p in segment:\n",
        "      current_speaker=p['speaker']\n",
        "      if (last_speaker==\"None\"):\n",
        "        temp_text=temp_text+p['text']\n",
        "      \n",
        "      else:\n",
        "        if (current_speaker==last_speaker):\n",
        "          temp_text=temp_text+p['text']\n",
        "\n",
        "        else:\n",
        "          add_text(last_speaker,temp_text)\n",
        "          temp_text=\"\"\n",
        "          temp_text=temp_text+p['text']\n",
        "    \n",
        "      last_speaker=current_speaker\n",
        "\n",
        "  return BOT,USER\n",
        "      \n",
        "\n",
        "    \n",
        "\n",
        "    \n"
      ],
      "execution_count": 16,
      "outputs": []
    },
    {
      "cell_type": "code",
      "metadata": {
        "id": "GOax2jzAAs2h",
        "colab_type": "code",
        "colab": {
          "base_uri": "https://localhost:8080/",
          "height": 71
        },
        "outputId": "3e828931-7db9-4dde-a0a0-735e64d60601"
      },
      "source": [
        "\n",
        "questions,answers=load_QA()\n",
        "\n",
        "print('Sample question: {}'.format(questions[1000]))\n",
        "print('Sample answer: {}'.format(answers[1000]))"
      ],
      "execution_count": 17,
      "outputs": [
        {
          "output_type": "stream",
          "text": [
            "Sample question: what would you like to order in indian food for two people ?\n",
            "Sample answer: i d like to order prawn coconut curry and a bowl of chicken curry with two liter orange sodas and that s it .\n"
          ],
          "name": "stdout"
        }
      ]
    },
    {
      "cell_type": "code",
      "metadata": {
        "id": "gWtQQ3zashNN",
        "colab_type": "code",
        "colab": {
          "base_uri": "https://localhost:8080/",
          "height": 51
        },
        "outputId": "03995ce1-8fe5-4561-b27d-94c37e51077f"
      },
      "source": [
        "print(len(questions))\n",
        "print(len(answers))"
      ],
      "execution_count": 18,
      "outputs": [
        {
          "output_type": "stream",
          "text": [
            "142241\n",
            "142240\n"
          ],
          "name": "stdout"
        }
      ]
    },
    {
      "cell_type": "code",
      "metadata": {
        "id": "SHLOyQ9E2Ts5",
        "colab_type": "code",
        "colab": {
          "base_uri": "https://localhost:8080/",
          "height": 394
        },
        "outputId": "639e0cf1-bced-4ed2-f87f-ecd26f064abf"
      },
      "source": [
        "\n"
      ],
      "execution_count": null,
      "outputs": [
        {
          "output_type": "stream",
          "text": [
            "Requirement already satisfied: tensorflow-datasets==1.2.0 in /usr/local/lib/python3.6/dist-packages (1.2.0)\n",
            "Requirement already satisfied: attrs in /usr/local/lib/python3.6/dist-packages (from tensorflow-datasets==1.2.0) (19.3.0)\n",
            "Requirement already satisfied: dill in /usr/local/lib/python3.6/dist-packages (from tensorflow-datasets==1.2.0) (0.3.2)\n",
            "Requirement already satisfied: requests>=2.19.0 in /usr/local/lib/python3.6/dist-packages (from tensorflow-datasets==1.2.0) (2.23.0)\n",
            "Requirement already satisfied: wrapt in /usr/local/lib/python3.6/dist-packages (from tensorflow-datasets==1.2.0) (1.12.1)\n",
            "Requirement already satisfied: six in /usr/local/lib/python3.6/dist-packages (from tensorflow-datasets==1.2.0) (1.15.0)\n",
            "Requirement already satisfied: protobuf>=3.6.1 in /usr/local/lib/python3.6/dist-packages (from tensorflow-datasets==1.2.0) (3.12.2)\n",
            "Requirement already satisfied: absl-py in /usr/local/lib/python3.6/dist-packages (from tensorflow-datasets==1.2.0) (0.9.0)\n",
            "Requirement already satisfied: tensorflow-metadata in /usr/local/lib/python3.6/dist-packages (from tensorflow-datasets==1.2.0) (0.22.2)\n",
            "Requirement already satisfied: psutil in /usr/local/lib/python3.6/dist-packages (from tensorflow-datasets==1.2.0) (5.4.8)\n",
            "Requirement already satisfied: future in /usr/local/lib/python3.6/dist-packages (from tensorflow-datasets==1.2.0) (0.16.0)\n",
            "Requirement already satisfied: numpy in /usr/local/lib/python3.6/dist-packages (from tensorflow-datasets==1.2.0) (1.18.5)\n",
            "Requirement already satisfied: promise in /usr/local/lib/python3.6/dist-packages (from tensorflow-datasets==1.2.0) (2.3)\n",
            "Requirement already satisfied: tqdm in /usr/local/lib/python3.6/dist-packages (from tensorflow-datasets==1.2.0) (4.41.1)\n",
            "Requirement already satisfied: termcolor in /usr/local/lib/python3.6/dist-packages (from tensorflow-datasets==1.2.0) (1.1.0)\n",
            "Requirement already satisfied: urllib3!=1.25.0,!=1.25.1,<1.26,>=1.21.1 in /usr/local/lib/python3.6/dist-packages (from requests>=2.19.0->tensorflow-datasets==1.2.0) (1.24.3)\n",
            "Requirement already satisfied: chardet<4,>=3.0.2 in /usr/local/lib/python3.6/dist-packages (from requests>=2.19.0->tensorflow-datasets==1.2.0) (3.0.4)\n",
            "Requirement already satisfied: idna<3,>=2.5 in /usr/local/lib/python3.6/dist-packages (from requests>=2.19.0->tensorflow-datasets==1.2.0) (2.10)\n",
            "Requirement already satisfied: certifi>=2017.4.17 in /usr/local/lib/python3.6/dist-packages (from requests>=2.19.0->tensorflow-datasets==1.2.0) (2020.6.20)\n",
            "Requirement already satisfied: setuptools in /usr/local/lib/python3.6/dist-packages (from protobuf>=3.6.1->tensorflow-datasets==1.2.0) (49.1.0)\n",
            "Requirement already satisfied: googleapis-common-protos in /usr/local/lib/python3.6/dist-packages (from tensorflow-metadata->tensorflow-datasets==1.2.0) (1.52.0)\n"
          ],
          "name": "stdout"
        }
      ]
    },
    {
      "cell_type": "code",
      "metadata": {
        "colab_type": "code",
        "id": "GqBEIwXoGpQq",
        "colab": {}
      },
      "source": [
        "# Build tokenizer using tfds for both questions and answers\n",
        "tokenizer = tfds.features.text.SubwordTextEncoder.build_from_corpus(\n",
        "    questions + answers, target_vocab_size=2**13)\n",
        "\n",
        "# Define start and end token to indicate the start and end of a sentence\n",
        "START_TOKEN, END_TOKEN = [tokenizer.vocab_size], [tokenizer.vocab_size + 1]\n",
        "\n",
        "# Vocabulary size plus start and end token\n",
        "VOCAB_SIZE = tokenizer.vocab_size + 2\n"
      ],
      "execution_count": 19,
      "outputs": []
    },
    {
      "cell_type": "code",
      "metadata": {
        "id": "dRwJBJ85Dciy",
        "colab_type": "code",
        "colab": {
          "base_uri": "https://localhost:8080/",
          "height": 34
        },
        "outputId": "374e0010-83b2-4036-94a1-605c69c7c48d"
      },
      "source": [
        "print('Tokenized sample question: {}'.format(tokenizer.encode(questions[20])))"
      ],
      "execution_count": 20,
      "outputs": [
        {
          "output_type": "stream",
          "text": [
            "Tokenized sample question: [11, 3, 5, 23, 34, 367, 193, 28, 339, 2, 34, 117, 41, 36, 297, 14, 256, 169, 15, 44, 238, 1]\n"
          ],
          "name": "stdout"
        }
      ]
    },
    {
      "cell_type": "code",
      "metadata": {
        "id": "u3AB6YFCDnTU",
        "colab_type": "code",
        "colab": {}
      },
      "source": [
        "# Maximum sentence length\n",
        "MAX_LENGTH = 40\n",
        "\n",
        "\n",
        "# Tokenize, filter and pad sentences\n",
        "def tokenize_and_filter(inputs, outputs):\n",
        "  tokenized_inputs, tokenized_outputs = [], []\n",
        "  \n",
        "  for (sentence1, sentence2) in zip(inputs, outputs):\n",
        "    # tokenize sentence\n",
        "    sentence1 = START_TOKEN + tokenizer.encode(sentence1) + END_TOKEN\n",
        "    sentence2 = START_TOKEN + tokenizer.encode(sentence2) + END_TOKEN\n",
        "    # check tokenized sentence max length\n",
        "    if len(sentence1) <= MAX_LENGTH and len(sentence2) <= MAX_LENGTH:\n",
        "      tokenized_inputs.append(sentence1)\n",
        "      tokenized_outputs.append(sentence2)\n",
        "  \n",
        "  # pad tokenized sentences\n",
        "  tokenized_inputs = tf.keras.preprocessing.sequence.pad_sequences(\n",
        "      tokenized_inputs, maxlen=MAX_LENGTH, padding='post')\n",
        "  tokenized_outputs = tf.keras.preprocessing.sequence.pad_sequences(\n",
        "      tokenized_outputs, maxlen=MAX_LENGTH, padding='post')\n",
        "  \n",
        "  return tokenized_inputs, tokenized_outputs\n",
        "\n",
        "\n",
        "questions, answers = tokenize_and_filter(questions, answers)"
      ],
      "execution_count": 21,
      "outputs": []
    },
    {
      "cell_type": "code",
      "metadata": {
        "id": "LjsojxVODyJs",
        "colab_type": "code",
        "colab": {
          "base_uri": "https://localhost:8080/",
          "height": 51
        },
        "outputId": "7d7f7bb0-deff-4fc7-9c85-fff3dd1ba46b"
      },
      "source": [
        "print('Vocab size: {}'.format(VOCAB_SIZE))\n",
        "print('Number of samples: {}'.format(len(questions)))"
      ],
      "execution_count": 22,
      "outputs": [
        {
          "output_type": "stream",
          "text": [
            "Vocab size: 8214\n",
            "Number of samples: 135314\n"
          ],
          "name": "stdout"
        }
      ]
    },
    {
      "cell_type": "code",
      "metadata": {
        "id": "9DB7X7PiDoUr",
        "colab_type": "code",
        "colab": {}
      },
      "source": [
        "BATCH_SIZE = 64\n",
        "BUFFER_SIZE = 20000\n",
        "\n",
        "# decoder inputs use the previous target as input\n",
        "# remove START_TOKEN from targets\n",
        "dataset = tf.data.Dataset.from_tensor_slices((\n",
        "    {\n",
        "        'inputs': questions,\n",
        "        'dec_inputs': answers[:, :-1]\n",
        "    },\n",
        "    {\n",
        "        'outputs': answers[:, 1:]\n",
        "    },\n",
        "))\n",
        "\n",
        "dataset = dataset.cache()\n",
        "dataset = dataset.shuffle(BUFFER_SIZE)\n",
        "dataset = dataset.batch(BATCH_SIZE)\n",
        "dataset = dataset.prefetch(tf.data.experimental.AUTOTUNE)"
      ],
      "execution_count": 23,
      "outputs": []
    },
    {
      "cell_type": "code",
      "metadata": {
        "id": "-oOhuh8tEexC",
        "colab_type": "code",
        "colab": {
          "base_uri": "https://localhost:8080/",
          "height": 54
        },
        "outputId": "88c8d3d2-aa0d-4011-b646-0ab2bb7c2546"
      },
      "source": [
        "print(dataset)"
      ],
      "execution_count": 24,
      "outputs": [
        {
          "output_type": "stream",
          "text": [
            "<PrefetchDataset shapes: ({inputs: (None, 40), dec_inputs: (None, 39)}, {outputs: (None, 39)}), types: ({inputs: tf.int32, dec_inputs: tf.int32}, {outputs: tf.int32})>\n"
          ],
          "name": "stdout"
        }
      ]
    },
    {
      "cell_type": "code",
      "metadata": {
        "id": "AnqDAhUJEg8Y",
        "colab_type": "code",
        "colab": {}
      },
      "source": [
        "def scaled_dot_product_attention(query, key, value, mask):\n",
        "  \"\"\"Calculate the attention weights. \"\"\"\n",
        "  matmul_qk = tf.matmul(query, key, transpose_b=True)\n",
        "\n",
        "  # scale matmul_qk\n",
        "  depth = tf.cast(tf.shape(key)[-1], tf.float32)\n",
        "  logits = matmul_qk / tf.math.sqrt(depth)\n",
        "\n",
        "  # add the mask to zero out padding tokens\n",
        "  if mask is not None:\n",
        "    logits += (mask * -1e9)\n",
        "\n",
        "  # softmax is normalized on the last axis (seq_len_k)\n",
        "  attention_weights = tf.nn.softmax(logits, axis=-1)\n",
        "\n",
        "  output = tf.matmul(attention_weights, value)\n",
        "\n",
        "  return output"
      ],
      "execution_count": 25,
      "outputs": []
    },
    {
      "cell_type": "code",
      "metadata": {
        "id": "45LTs5chExAo",
        "colab_type": "code",
        "colab": {}
      },
      "source": [
        "class MultiHeadAttention(tf.keras.layers.Layer):\n",
        "\n",
        "  def __init__(self, d_model, num_heads, name=\"multi_head_attention\"):\n",
        "    super(MultiHeadAttention, self).__init__(name=name)\n",
        "    self.num_heads = num_heads\n",
        "    self.d_model = d_model\n",
        "\n",
        "    assert d_model % self.num_heads == 0\n",
        "\n",
        "    self.depth = d_model // self.num_heads\n",
        "\n",
        "    self.query_dense = tf.keras.layers.Dense(units=d_model)\n",
        "    self.key_dense = tf.keras.layers.Dense(units=d_model)\n",
        "    self.value_dense = tf.keras.layers.Dense(units=d_model)\n",
        "\n",
        "    self.dense = tf.keras.layers.Dense(units=d_model)\n",
        "\n",
        "  def split_heads(self, inputs, batch_size):\n",
        "    inputs = tf.reshape(\n",
        "        inputs, shape=(batch_size, -1, self.num_heads, self.depth))\n",
        "    return tf.transpose(inputs, perm=[0, 2, 1, 3])\n",
        "\n",
        "  def call(self, inputs):\n",
        "    query, key, value, mask = inputs['query'], inputs['key'], inputs[\n",
        "        'value'], inputs['mask']\n",
        "    batch_size = tf.shape(query)[0]\n",
        "\n",
        "    # linear layers\n",
        "    query = self.query_dense(query)\n",
        "    key = self.key_dense(key)\n",
        "    value = self.value_dense(value)\n",
        "\n",
        "    # split heads\n",
        "    query = self.split_heads(query, batch_size)\n",
        "    key = self.split_heads(key, batch_size)\n",
        "    value = self.split_heads(value, batch_size)\n",
        "\n",
        "    # scaled dot-product attention\n",
        "    scaled_attention = scaled_dot_product_attention(query, key, value, mask)\n",
        "\n",
        "    scaled_attention = tf.transpose(scaled_attention, perm=[0, 2, 1, 3])\n",
        "\n",
        "    # concatenation of heads\n",
        "    concat_attention = tf.reshape(scaled_attention,\n",
        "                                  (batch_size, -1, self.d_model))\n",
        "\n",
        "    # final linear layer\n",
        "    outputs = self.dense(concat_attention)\n",
        "\n",
        "    return outputs"
      ],
      "execution_count": 26,
      "outputs": []
    },
    {
      "cell_type": "code",
      "metadata": {
        "id": "-4VKpsR-FHVv",
        "colab_type": "code",
        "colab": {}
      },
      "source": [
        "def create_padding_mask(x):\n",
        "  mask = tf.cast(tf.math.equal(x, 0), tf.float32)\n",
        "  # (batch_size, 1, 1, sequence length)\n",
        "  return mask[:, tf.newaxis, tf.newaxis, :]"
      ],
      "execution_count": 27,
      "outputs": []
    },
    {
      "cell_type": "code",
      "metadata": {
        "id": "wsaIYkf0FLCa",
        "colab_type": "code",
        "colab": {}
      },
      "source": [
        "def create_look_ahead_mask(x):\n",
        "  seq_len = tf.shape(x)[1]\n",
        "  look_ahead_mask = 1 - tf.linalg.band_part(tf.ones((seq_len, seq_len)), -1, 0)\n",
        "  padding_mask = create_padding_mask(x)\n",
        "  return tf.maximum(look_ahead_mask, padding_mask)"
      ],
      "execution_count": 28,
      "outputs": []
    },
    {
      "cell_type": "code",
      "metadata": {
        "id": "1BED5y4YFSPR",
        "colab_type": "code",
        "colab": {}
      },
      "source": [
        "class PositionalEncoding(tf.keras.layers.Layer):\n",
        "\n",
        "  def __init__(self, position, d_model):\n",
        "    super(PositionalEncoding, self).__init__()\n",
        "    self.pos_encoding = self.positional_encoding(position, d_model)\n",
        "\n",
        "  def get_angles(self, position, i, d_model):\n",
        "    angles = 1 / tf.pow(10000, (2 * (i // 2)) / tf.cast(d_model, tf.float32))\n",
        "    return position * angles\n",
        "\n",
        "  def positional_encoding(self, position, d_model):\n",
        "    angle_rads = self.get_angles(\n",
        "        position=tf.range(position, dtype=tf.float32)[:, tf.newaxis],\n",
        "        i=tf.range(d_model, dtype=tf.float32)[tf.newaxis, :],\n",
        "        d_model=d_model)\n",
        "    # apply sin to even index in the array\n",
        "    sines = tf.math.sin(angle_rads[:, 0::2])\n",
        "    # apply cos to odd index in the array\n",
        "    cosines = tf.math.cos(angle_rads[:, 1::2])\n",
        "\n",
        "    pos_encoding = tf.concat([sines, cosines], axis=-1)\n",
        "    pos_encoding = pos_encoding[tf.newaxis, ...]\n",
        "    return tf.cast(pos_encoding, tf.float32)\n",
        "\n",
        "  def call(self, inputs):\n",
        "    return inputs + self.pos_encoding[:, :tf.shape(inputs)[1], :]"
      ],
      "execution_count": 29,
      "outputs": []
    },
    {
      "cell_type": "code",
      "metadata": {
        "id": "KqX_dqYCFfeX",
        "colab_type": "code",
        "colab": {}
      },
      "source": [
        "def encoder_layer(units, d_model, num_heads, dropout, name=\"encoder_layer\"):\n",
        "  inputs = tf.keras.Input(shape=(None, d_model), name=\"inputs\")\n",
        "  padding_mask = tf.keras.Input(shape=(1, 1, None), name=\"padding_mask\")\n",
        "\n",
        "  attention = MultiHeadAttention(\n",
        "      d_model, num_heads, name=\"attention\")({\n",
        "          'query': inputs,\n",
        "          'key': inputs,\n",
        "          'value': inputs,\n",
        "          'mask': padding_mask\n",
        "      })\n",
        "  attention = tf.keras.layers.Dropout(rate=dropout)(attention)\n",
        "  attention = tf.keras.layers.LayerNormalization(\n",
        "      epsilon=1e-6)(inputs + attention)\n",
        "\n",
        "  outputs = tf.keras.layers.Dense(units=units, activation='relu')(attention)\n",
        "  outputs = tf.keras.layers.Dense(units=d_model)(outputs)\n",
        "  outputs = tf.keras.layers.Dropout(rate=dropout)(outputs)\n",
        "  outputs = tf.keras.layers.LayerNormalization(\n",
        "      epsilon=1e-6)(attention + outputs)\n",
        "\n",
        "  return tf.keras.Model(\n",
        "      inputs=[inputs, padding_mask], outputs=outputs, name=name)"
      ],
      "execution_count": 30,
      "outputs": []
    },
    {
      "cell_type": "code",
      "metadata": {
        "id": "6tguZtIKFuu3",
        "colab_type": "code",
        "colab": {}
      },
      "source": [
        "def encoder(vocab_size,\n",
        "            num_layers,\n",
        "            units,\n",
        "            d_model,\n",
        "            num_heads,\n",
        "            dropout,\n",
        "            name=\"encoder\"):\n",
        "  inputs = tf.keras.Input(shape=(None,), name=\"inputs\")\n",
        "  padding_mask = tf.keras.Input(shape=(1, 1, None), name=\"padding_mask\")\n",
        "\n",
        "  embeddings = tf.keras.layers.Embedding(vocab_size, d_model)(inputs)\n",
        "  embeddings *= tf.math.sqrt(tf.cast(d_model, tf.float32))\n",
        "  embeddings = PositionalEncoding(vocab_size, d_model)(embeddings)\n",
        "\n",
        "  outputs = tf.keras.layers.Dropout(rate=dropout)(embeddings)\n",
        "\n",
        "  for i in range(num_layers):\n",
        "    outputs = encoder_layer(\n",
        "        units=units,\n",
        "        d_model=d_model,\n",
        "        num_heads=num_heads,\n",
        "        dropout=dropout,\n",
        "        name=\"encoder_layer_{}\".format(i),\n",
        "    )([outputs, padding_mask])\n",
        "\n",
        "  return tf.keras.Model(\n",
        "      inputs=[inputs, padding_mask], outputs=outputs, name=name)"
      ],
      "execution_count": 31,
      "outputs": []
    },
    {
      "cell_type": "code",
      "metadata": {
        "id": "X8HFSma3F_pO",
        "colab_type": "code",
        "colab": {}
      },
      "source": [
        "def decoder_layer(units, d_model, num_heads, dropout, name=\"decoder_layer\"):\n",
        "  inputs = tf.keras.Input(shape=(None, d_model), name=\"inputs\")\n",
        "  enc_outputs = tf.keras.Input(shape=(None, d_model), name=\"encoder_outputs\")\n",
        "  look_ahead_mask = tf.keras.Input(\n",
        "      shape=(1, None, None), name=\"look_ahead_mask\")\n",
        "  padding_mask = tf.keras.Input(shape=(1, 1, None), name='padding_mask')\n",
        "\n",
        "  attention1 = MultiHeadAttention(\n",
        "      d_model, num_heads, name=\"attention_1\")(inputs={\n",
        "          'query': inputs,\n",
        "          'key': inputs,\n",
        "          'value': inputs,\n",
        "          'mask': look_ahead_mask\n",
        "      })\n",
        "  attention1 = tf.keras.layers.LayerNormalization(\n",
        "      epsilon=1e-6)(attention1 + inputs)\n",
        "\n",
        "  attention2 = MultiHeadAttention(\n",
        "      d_model, num_heads, name=\"attention_2\")(inputs={\n",
        "          'query': attention1,\n",
        "          'key': enc_outputs,\n",
        "          'value': enc_outputs,\n",
        "          'mask': padding_mask\n",
        "      })\n",
        "  attention2 = tf.keras.layers.Dropout(rate=dropout)(attention2)\n",
        "  attention2 = tf.keras.layers.LayerNormalization(\n",
        "      epsilon=1e-6)(attention2 + attention1)\n",
        "\n",
        "  outputs = tf.keras.layers.Dense(units=units, activation='relu')(attention2)\n",
        "  outputs = tf.keras.layers.Dense(units=d_model)(outputs)\n",
        "  outputs = tf.keras.layers.Dropout(rate=dropout)(outputs)\n",
        "  outputs = tf.keras.layers.LayerNormalization(\n",
        "      epsilon=1e-6)(outputs + attention2)\n",
        "\n",
        "  return tf.keras.Model(\n",
        "      inputs=[inputs, enc_outputs, look_ahead_mask, padding_mask],\n",
        "      outputs=outputs,\n",
        "      name=name)"
      ],
      "execution_count": 32,
      "outputs": []
    },
    {
      "cell_type": "code",
      "metadata": {
        "id": "z73I5VbJGD-2",
        "colab_type": "code",
        "colab": {}
      },
      "source": [
        "def decoder(vocab_size,\n",
        "            num_layers,\n",
        "            units,\n",
        "            d_model,\n",
        "            num_heads,\n",
        "            dropout,\n",
        "            name='decoder'):\n",
        "  inputs = tf.keras.Input(shape=(None,), name='inputs')\n",
        "  enc_outputs = tf.keras.Input(shape=(None, d_model), name='encoder_outputs')\n",
        "  look_ahead_mask = tf.keras.Input(\n",
        "      shape=(1, None, None), name='look_ahead_mask')\n",
        "  padding_mask = tf.keras.Input(shape=(1, 1, None), name='padding_mask')\n",
        "  \n",
        "  embeddings = tf.keras.layers.Embedding(vocab_size, d_model)(inputs)\n",
        "  embeddings *= tf.math.sqrt(tf.cast(d_model, tf.float32))\n",
        "  embeddings = PositionalEncoding(vocab_size, d_model)(embeddings)\n",
        "\n",
        "  outputs = tf.keras.layers.Dropout(rate=dropout)(embeddings)\n",
        "\n",
        "  for i in range(num_layers):\n",
        "    outputs = decoder_layer(\n",
        "        units=units,\n",
        "        d_model=d_model,\n",
        "        num_heads=num_heads,\n",
        "        dropout=dropout,\n",
        "        name='decoder_layer_{}'.format(i),\n",
        "    )(inputs=[outputs, enc_outputs, look_ahead_mask, padding_mask])\n",
        "\n",
        "  return tf.keras.Model(\n",
        "      inputs=[inputs, enc_outputs, look_ahead_mask, padding_mask],\n",
        "      outputs=outputs,\n",
        "      name=name)"
      ],
      "execution_count": 33,
      "outputs": []
    },
    {
      "cell_type": "code",
      "metadata": {
        "id": "00cE7vkaGGg-",
        "colab_type": "code",
        "colab": {}
      },
      "source": [
        "def transformer(vocab_size,\n",
        "                num_layers,\n",
        "                units,\n",
        "                d_model,\n",
        "                num_heads,\n",
        "                dropout,\n",
        "                name=\"transformer\"):\n",
        "  inputs = tf.keras.Input(shape=(None,), name=\"inputs\")\n",
        "  dec_inputs = tf.keras.Input(shape=(None,), name=\"dec_inputs\")\n",
        "\n",
        "  enc_padding_mask = tf.keras.layers.Lambda(\n",
        "      create_padding_mask, output_shape=(1, 1, None),\n",
        "      name='enc_padding_mask')(inputs)\n",
        "  # mask the future tokens for decoder inputs at the 1st attention block\n",
        "  look_ahead_mask = tf.keras.layers.Lambda(\n",
        "      create_look_ahead_mask,\n",
        "      output_shape=(1, None, None),\n",
        "      name='look_ahead_mask')(dec_inputs)\n",
        "  # mask the encoder outputs for the 2nd attention block\n",
        "  dec_padding_mask = tf.keras.layers.Lambda(\n",
        "      create_padding_mask, output_shape=(1, 1, None),\n",
        "      name='dec_padding_mask')(inputs)\n",
        "\n",
        "  enc_outputs = encoder(\n",
        "      vocab_size=vocab_size,\n",
        "      num_layers=num_layers,\n",
        "      units=units,\n",
        "      d_model=d_model,\n",
        "      num_heads=num_heads,\n",
        "      dropout=dropout,\n",
        "  )(inputs=[inputs, enc_padding_mask])\n",
        "\n",
        "  dec_outputs = decoder(\n",
        "      vocab_size=vocab_size,\n",
        "      num_layers=num_layers,\n",
        "      units=units,\n",
        "      d_model=d_model,\n",
        "      num_heads=num_heads,\n",
        "      dropout=dropout,\n",
        "  )(inputs=[dec_inputs, enc_outputs, look_ahead_mask, dec_padding_mask])\n",
        "\n",
        "  outputs = tf.keras.layers.Dense(units=vocab_size, name=\"outputs\")(dec_outputs)\n",
        "\n",
        "  return tf.keras.Model(inputs=[inputs, dec_inputs], outputs=outputs, name=name)"
      ],
      "execution_count": 34,
      "outputs": []
    },
    {
      "cell_type": "code",
      "metadata": {
        "id": "C1VBZCQjGUlx",
        "colab_type": "code",
        "colab": {}
      },
      "source": [
        "tf.keras.backend.clear_session()\n",
        "\n",
        "# Hyper-parameters\n",
        "NUM_LAYERS = 2\n",
        "D_MODEL = 256\n",
        "NUM_HEADS = 8\n",
        "UNITS = 512\n",
        "DROPOUT = 0.1\n",
        "\n"
      ],
      "execution_count": 35,
      "outputs": []
    },
    {
      "cell_type": "code",
      "metadata": {
        "id": "QiTRJel9Ga8f",
        "colab_type": "code",
        "colab": {}
      },
      "source": [
        "def loss_function(y_true, y_pred):\n",
        "  y_true = tf.reshape(y_true, shape=(-1, MAX_LENGTH - 1))\n",
        "  \n",
        "  loss = tf.keras.losses.SparseCategoricalCrossentropy(\n",
        "      from_logits=True, reduction='none')(y_true, y_pred)\n",
        "\n",
        "  mask = tf.cast(tf.not_equal(y_true, 0), tf.float32)\n",
        "  loss = tf.multiply(loss, mask)\n",
        "\n",
        "  return tf.reduce_mean(loss)"
      ],
      "execution_count": 36,
      "outputs": []
    },
    {
      "cell_type": "code",
      "metadata": {
        "id": "ycxhBOxYGcue",
        "colab_type": "code",
        "colab": {}
      },
      "source": [
        "class CustomSchedule(tf.keras.optimizers.schedules.LearningRateSchedule):\n",
        "\n",
        "  def __init__(self, d_model, warmup_steps=4000):\n",
        "    super(CustomSchedule, self).__init__()\n",
        "\n",
        "    self.d_model = d_model\n",
        "    self.d_model = tf.cast(self.d_model, tf.float32)\n",
        "\n",
        "    self.warmup_steps = warmup_steps\n",
        "\n",
        "  def __call__(self, step):\n",
        "    arg1 = tf.math.rsqrt(step)\n",
        "    arg2 = step * (self.warmup_steps**-1.5)\n",
        "\n",
        "    return tf.math.rsqrt(self.d_model) * tf.math.minimum(arg1, arg2)"
      ],
      "execution_count": 37,
      "outputs": []
    },
    {
      "cell_type": "code",
      "metadata": {
        "id": "DrUssHnwGlCI",
        "colab_type": "code",
        "colab": {}
      },
      "source": [
        "learning_rate = CustomSchedule(D_MODEL)\n",
        "\n",
        "optimizer = tf.keras.optimizers.Adam(\n",
        "    learning_rate, beta_1=0.9, beta_2=0.98, epsilon=1e-9)\n",
        "\n",
        "def accuracy(y_true, y_pred):\n",
        "  # ensure labels have shape (batch_size, MAX_LENGTH - 1)\n",
        "  y_true = tf.reshape(y_true, shape=(-1, MAX_LENGTH - 1))\n",
        "  return tf.keras.metrics.sparse_categorical_accuracy(y_true, y_pred)\n",
        "\n"
      ],
      "execution_count": 38,
      "outputs": []
    },
    {
      "cell_type": "code",
      "metadata": {
        "id": "NqFNX-Ovo278",
        "colab_type": "code",
        "colab": {}
      },
      "source": [
        "with strategy.scope():\n",
        "  model = transformer(\n",
        "    vocab_size=VOCAB_SIZE,\n",
        "    num_layers=NUM_LAYERS,\n",
        "    units=UNITS,\n",
        "    d_model=D_MODEL,\n",
        "    num_heads=NUM_HEADS,\n",
        "    dropout=DROPOUT)\n",
        "  model.compile(optimizer=optimizer, loss=loss_function, metrics=[accuracy])"
      ],
      "execution_count": 41,
      "outputs": []
    },
    {
      "cell_type": "code",
      "metadata": {
        "id": "qZ1QIgVNGpHg",
        "colab_type": "code",
        "colab": {
          "base_uri": "https://localhost:8080/",
          "height": 714
        },
        "outputId": "70db3180-44b6-4742-dbfd-ed421857fb2d"
      },
      "source": [
        "EPOCHS = 20\n",
        "\n",
        "model.fit(dataset, epochs=EPOCHS)"
      ],
      "execution_count": 42,
      "outputs": [
        {
          "output_type": "stream",
          "text": [
            "Epoch 1/20\n",
            "2115/2115 [==============================] - 70s 33ms/step - accuracy: 0.1049 - loss: nan\n",
            "Epoch 2/20\n",
            "2115/2115 [==============================] - 67s 31ms/step - accuracy: 0.1446 - loss: nan\n",
            "Epoch 3/20\n",
            "2115/2115 [==============================] - 67s 32ms/step - accuracy: 0.1506 - loss: nan\n",
            "Epoch 4/20\n",
            "2115/2115 [==============================] - 67s 31ms/step - accuracy: 0.1553 - loss: nan\n",
            "Epoch 5/20\n",
            "2115/2115 [==============================] - 66s 31ms/step - accuracy: 0.1581 - loss: nan\n",
            "Epoch 6/20\n",
            "2115/2115 [==============================] - 66s 31ms/step - accuracy: 0.1604 - loss: nan\n",
            "Epoch 7/20\n",
            "2115/2115 [==============================] - 66s 31ms/step - accuracy: 0.1620 - loss: nan\n",
            "Epoch 8/20\n",
            "2115/2115 [==============================] - 66s 31ms/step - accuracy: 0.1637 - loss: nan\n",
            "Epoch 9/20\n",
            "2115/2115 [==============================] - 66s 31ms/step - accuracy: 0.1651 - loss: nan\n",
            "Epoch 10/20\n",
            "2115/2115 [==============================] - 66s 31ms/step - accuracy: 0.1661 - loss: nan\n",
            "Epoch 11/20\n",
            "2115/2115 [==============================] - 66s 31ms/step - accuracy: 0.1673 - loss: nan\n",
            "Epoch 12/20\n",
            "2115/2115 [==============================] - 67s 32ms/step - accuracy: 0.1683 - loss: nan\n",
            "Epoch 13/20\n",
            "2115/2115 [==============================] - 68s 32ms/step - accuracy: 0.1693 - loss: nan\n",
            "Epoch 14/20\n",
            "2115/2115 [==============================] - 65s 31ms/step - accuracy: 0.1702 - loss: nan\n",
            "Epoch 15/20\n",
            "2115/2115 [==============================] - 66s 31ms/step - accuracy: 0.1711 - loss: nan\n",
            "Epoch 16/20\n",
            "2115/2115 [==============================] - 66s 31ms/step - accuracy: 0.1719 - loss: nan\n",
            "Epoch 17/20\n",
            "2115/2115 [==============================] - 66s 31ms/step - accuracy: 0.1728 - loss: nan\n",
            "Epoch 18/20\n",
            "2115/2115 [==============================] - 66s 31ms/step - accuracy: 0.1736 - loss: nan\n",
            "Epoch 19/20\n",
            "2115/2115 [==============================] - 65s 31ms/step - accuracy: 0.1742 - loss: nan\n",
            "Epoch 20/20\n",
            "2115/2115 [==============================] - 67s 32ms/step - accuracy: 0.1750 - loss: nan\n"
          ],
          "name": "stdout"
        },
        {
          "output_type": "execute_result",
          "data": {
            "text/plain": [
              "<tensorflow.python.keras.callbacks.History at 0x7fb5c0f4f5f8>"
            ]
          },
          "metadata": {
            "tags": []
          },
          "execution_count": 42
        }
      ]
    },
    {
      "cell_type": "code",
      "metadata": {
        "id": "w2W874bBHCXu",
        "colab_type": "code",
        "colab": {}
      },
      "source": [
        "def evaluate(sentence):\n",
        "  sentence = preprocess_sentence(sentence)\n",
        "\n",
        "  sentence = tf.expand_dims(\n",
        "      START_TOKEN + tokenizer.encode(sentence) + END_TOKEN, axis=0)\n",
        "\n",
        "  output = tf.expand_dims(START_TOKEN, 0)\n",
        "\n",
        "  for i in range(MAX_LENGTH):\n",
        "    predictions = model(inputs=[sentence, output], training=False)\n",
        "\n",
        "    # select the last word from the seq_len dimension\n",
        "    predictions = predictions[:, -1:, :]\n",
        "    predicted_id = tf.cast(tf.argmax(predictions, axis=-1), tf.int32)\n",
        "\n",
        "    # return the result if the predicted_id is equal to the end token\n",
        "    if tf.equal(predicted_id, END_TOKEN[0]):\n",
        "      break\n",
        "\n",
        "    # concatenated the predicted_id to the output which is given to the decoder\n",
        "    # as its input.\n",
        "    output = tf.concat([output, predicted_id], axis=-1)\n",
        "\n",
        "  return tf.squeeze(output, axis=0)\n",
        "\n",
        "\n",
        "def predict(sentence):\n",
        "  prediction = evaluate(sentence)\n",
        "\n",
        "  predicted_sentence = tokenizer.decode(\n",
        "      [i for i in prediction if i < tokenizer.vocab_size])\n",
        "\n",
        "  print('Input: {}'.format(sentence))\n",
        "  print('Output: {}'.format(predicted_sentence))\n",
        "\n",
        "  return predicted_sentence"
      ],
      "execution_count": 43,
      "outputs": []
    },
    {
      "cell_type": "code",
      "metadata": {
        "id": "fFpmbuOWHMzl",
        "colab_type": "code",
        "colab": {
          "base_uri": "https://localhost:8080/",
          "height": 51
        },
        "outputId": "163ea6a5-57e0-432a-b1d4-476f1756acf7"
      },
      "source": [
        "output = predict('What will you eat')"
      ],
      "execution_count": 45,
      "outputs": [
        {
          "output_type": "stream",
          "text": [
            "Input: What will you eat\n",
            "Output: i m looking for a place to have dinner tonight .\n"
          ],
          "name": "stdout"
        }
      ]
    }
  ]
}