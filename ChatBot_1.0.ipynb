{
 "cells": [
  {
   "cell_type": "code",
   "execution_count": 1,
   "metadata": {
    "colab": {},
    "colab_type": "code",
    "id": "WSfGUJsbGqir"
   },
   "outputs": [],
   "source": [
    "from google.colab import drive"
   ]
  },
  {
   "cell_type": "code",
   "execution_count": 2,
   "metadata": {
    "colab": {
     "base_uri": "https://localhost:8080/",
     "height": 122
    },
    "colab_type": "code",
    "id": "I0_PLu8EG1iS",
    "outputId": "5616ecab-0a4e-48f7-e5c6-d3d3550144f8"
   },
   "outputs": [
    {
     "name": "stdout",
     "output_type": "stream",
     "text": [
      "Go to this URL in a browser: https://accounts.google.com/o/oauth2/auth?client_id=947318989803-6bn6qk8qdgf4n4g3pfee6491hc0brc4i.apps.googleusercontent.com&redirect_uri=urn%3aietf%3awg%3aoauth%3a2.0%3aoob&response_type=code&scope=email%20https%3a%2f%2fwww.googleapis.com%2fauth%2fdocs.test%20https%3a%2f%2fwww.googleapis.com%2fauth%2fdrive%20https%3a%2f%2fwww.googleapis.com%2fauth%2fdrive.photos.readonly%20https%3a%2f%2fwww.googleapis.com%2fauth%2fpeopleapi.readonly\n",
      "\n",
      "Enter your authorization code:\n",
      "··········\n",
      "Mounted at /mydrive\n"
     ]
    }
   ],
   "source": [
    "drive.mount(\"/mydrive\")"
   ]
  },
  {
   "cell_type": "code",
   "execution_count": 3,
   "metadata": {
    "colab": {},
    "colab_type": "code",
    "id": "92KNGsPqGbli"
   },
   "outputs": [],
   "source": [
    "import json\n",
    "import tensorflow as tf"
   ]
  },
  {
   "cell_type": "code",
   "execution_count": 4,
   "metadata": {
    "colab": {},
    "colab_type": "code",
    "id": "kDOWoTaCINHp"
   },
   "outputs": [],
   "source": [
    "with open('/mydrive/My Drive/food-ordering.json') as f:\n",
    "  data=json.load(f)\n"
   ]
  },
  {
   "cell_type": "code",
   "execution_count": 14,
   "metadata": {
    "colab": {
     "base_uri": "https://localhost:8080/",
     "height": 34
    },
    "colab_type": "code",
    "id": "wW_DzcNzJk1E",
    "outputId": "d996f907-1a69-47ca-8aee-4b00c0224e8b"
   },
   "outputs": [
    {
     "name": "stdout",
     "output_type": "stream",
     "text": [
      "1050\n"
     ]
    }
   ],
   "source": []
  },
  {
   "cell_type": "code",
   "execution_count": 20,
   "metadata": {
    "colab": {
     "base_uri": "https://localhost:8080/",
     "height": 34
    },
    "colab_type": "code",
    "id": "V8eHy741GoQj",
    "outputId": "07dd202a-dfba-4a5b-b24f-6dc8d7dc9e43"
   },
   "outputs": [
    {
     "name": "stdout",
     "output_type": "stream",
     "text": [
      "1050\n"
     ]
    }
   ],
   "source": [
    "conversation=[]\n",
    "for line in data:\n",
    "  conversation.append(line['utterances'])\n",
    "print(len(conversation))"
   ]
  },
  {
   "cell_type": "code",
   "execution_count": 42,
   "metadata": {
    "colab": {
     "base_uri": "https://localhost:8080/",
     "height": 1000
    },
    "colab_type": "code",
    "id": "4NCqEXx2N8AU",
    "outputId": "cd0b8b5d-d444-41b7-a8a3-81a657a799e8"
   },
   "outputs": [
    {
     "name": "stdout",
     "output_type": "stream",
     "text": [
      "{'index': 0, 'speaker': 'ASSISTANT', 'text': 'Hi.'}\n",
      "{'index': 1, 'speaker': 'ASSISTANT', 'text': 'How can I help you?'}\n",
      "{'index': 2, 'speaker': 'ASSISTANT', 'text': 'What would you like to order in Barbecue?', 'segments': [{'start_index': 32, 'end_index': 40, 'text': 'Barbecue', 'annotations': [{'name': 'food_order.type.food'}]}]}\n",
      "{'index': 3, 'speaker': 'USER', 'text': \"Yeah, I'd like to get a rack of ribs.\", 'segments': [{'start_index': 22, 'end_index': 36, 'text': 'a rack of ribs', 'annotations': [{'name': 'food_order.name.item'}]}]}\n",
      "{'index': 4, 'speaker': 'USER', 'text': 'What kind of sides can I get with that?'}\n",
      "{'index': 5, 'speaker': 'ASSISTANT', 'text': 'With rack of ribs, I would suggest Barbecue sauce.', 'segments': [{'start_index': 0, 'end_index': 17, 'text': 'With rack of ribs', 'annotations': [{'name': 'food_order.name.item'}]}, {'start_index': 35, 'end_index': 49, 'text': 'Barbecue sauce', 'annotations': [{'name': 'food_order.name.item'}]}]}\n",
      "{'index': 6, 'speaker': 'USER', 'text': \"Yeah. Of course, I want the barbecue sauce and ribs, but I'm talking about sides. You know, like slaw or macaroni and cheese. I want I'd like macaroni and cheese, if they got it.\", 'segments': [{'start_index': 28, 'end_index': 42, 'text': 'barbecue sauce', 'annotations': [{'name': 'food_order.name.item'}]}, {'start_index': 47, 'end_index': 51, 'text': 'ribs', 'annotations': [{'name': 'food_order.name.item'}]}, {'start_index': 97, 'end_index': 124, 'text': 'slaw or macaroni and cheese', 'annotations': [{'name': 'food_order.other_description.item'}]}, {'start_index': 105, 'end_index': 124, 'text': 'macaroni and cheese', 'annotations': [{'name': 'food_order.other_description.item'}]}]}\n",
      "{'index': 7, 'speaker': 'ASSISTANT', 'text': 'Would you like to add extra?'}\n",
      "{'index': 8, 'speaker': 'USER', 'text': \"No, I'd like to get a salad with that. No tomatoes, with ranch dressing.\", 'segments': [{'start_index': 39, 'end_index': 71, 'text': 'No tomatoes, with ranch dressing', 'annotations': [{'name': 'food_order.other_description.item'}]}, {'start_index': 20, 'end_index': 27, 'text': 'a salad', 'annotations': [{'name': 'food_order.name.item'}]}]}\n",
      "{'index': 9, 'speaker': 'ASSISTANT', 'text': 'Salad with no tomatoes and ranch dressing has been added to your order.', 'segments': [{'start_index': 0, 'end_index': 5, 'text': 'Salad', 'annotations': [{'name': 'food_order.name.item'}]}, {'start_index': 6, 'end_index': 41, 'text': 'with no tomatoes and ranch dressing', 'annotations': [{'name': 'food_order.other_description.item'}]}]}\n",
      "{'index': 10, 'speaker': 'ASSISTANT', 'text': 'Is there anything else you would like to add like fries or drinks?', 'segments': [{'start_index': 50, 'end_index': 55, 'text': 'fries', 'annotations': [{'name': 'food_order.type.food'}]}, {'start_index': 59, 'end_index': 65, 'text': 'drinks', 'annotations': [{'name': 'food_order.type.food'}]}]}\n",
      "{'index': 11, 'speaker': 'USER', 'text': 'Can I get a potato, a baked potato?', 'segments': [{'start_index': 12, 'end_index': 18, 'text': 'potato', 'annotations': [{'name': 'food_order.name.item'}]}, {'start_index': 22, 'end_index': 34, 'text': 'baked potato', 'annotations': [{'name': 'food_order.name.item'}]}]}\n",
      "{'index': 12, 'speaker': 'USER', 'text': 'A Diet Coke or Pepsi, whichever one they have.', 'segments': [{'start_index': 0, 'end_index': 11, 'text': 'A Diet Coke', 'annotations': [{'name': 'food_order.name.item'}]}, {'start_index': 15, 'end_index': 20, 'text': 'Pepsi', 'annotations': [{'name': 'food_order.name.item'}]}]}\n",
      "{'index': 13, 'speaker': 'ASSISTANT', 'text': 'Baked potato and diet coke has been added to the order.', 'segments': [{'start_index': 0, 'end_index': 12, 'text': 'Baked potato', 'annotations': [{'name': 'food_order.name.item'}]}, {'start_index': 17, 'end_index': 26, 'text': 'diet coke', 'annotations': [{'name': 'food_order.name.item'}]}]}\n",
      "{'index': 14, 'speaker': 'USER', 'text': 'That sounds great.'}\n",
      "{'index': 15, 'speaker': 'ASSISTANT', 'text': 'Is there anything else you would like to add?'}\n",
      "{'index': 16, 'speaker': 'USER', 'text': \"No, I think that'll do it for me. Thanks.\"}\n",
      "{'index': 17, 'speaker': 'ASSISTANT', 'text': 'Okay, I have your personal details on file, your order will be ready in 20 minutes.', 'segments': [{'start_index': 72, 'end_index': 82, 'text': '20 minutes', 'annotations': [{'name': 'food_order.time.pickup'}]}]}\n",
      "{'index': 18, 'speaker': 'USER', 'text': 'Thank you.'}\n",
      "{'index': 19, 'speaker': 'ASSISTANT', 'text': \"You're welcome.\"}\n",
      "{'index': 20, 'speaker': 'ASSISTANT', 'text': 'See you later.'}\n",
      "{'index': 21, 'speaker': 'ASSISTANT', 'text': 'Bye.'}\n",
      "{'index': 0, 'speaker': 'ASSISTANT', 'text': 'Hello, How can I assist you?'}\n",
      "{'index': 1, 'speaker': 'USER', 'text': 'Hi, I had to step away for minutes. What was I doing again?'}\n",
      "{'index': 2, 'speaker': 'ASSISTANT', 'text': 'You were ordering Italian food?', 'segments': [{'start_index': 18, 'end_index': 25, 'text': 'Italian', 'annotations': [{'name': 'food_order.type.food'}]}]}\n",
      "{'index': 3, 'speaker': 'USER', 'text': \"Oh, that's right.\\xa0Can I order takeout for two people, please, for Italian?\", 'segments': [{'start_index': 30, 'end_index': 37, 'text': 'takeout', 'annotations': [{'name': 'food_order.type.retrieval'}]}, {'start_index': 42, 'end_index': 52, 'text': 'two people', 'annotations': [{'name': 'food_order.num.people'}]}, {'start_index': 66, 'end_index': 73, 'text': 'Italian', 'annotations': [{'name': 'food_order.type.food'}]}]}\n",
      "{'index': 4, 'speaker': 'USER', 'text': 'Can I order takeout for two people, please, for Italian?', 'segments': [{'start_index': 12, 'end_index': 19, 'text': 'takeout', 'annotations': [{'name': 'food_order.type.retrieval'}]}, {'start_index': 24, 'end_index': 34, 'text': 'two people', 'annotations': [{'name': 'food_order.num.people'}]}, {'start_index': 48, 'end_index': 55, 'text': 'Italian', 'annotations': [{'name': 'food_order.type.food'}]}]}\n",
      "{'index': 5, 'speaker': 'ASSISTANT', 'text': 'Sure, What would you like to order in Italian food.', 'segments': [{'start_index': 38, 'end_index': 45, 'text': 'Italian', 'annotations': [{'name': 'food_order.type.food'}]}]}\n",
      "{'index': 6, 'speaker': 'USER', 'text': 'Can I get chicken fettuccine alfredo and Spaghetti and meatballs, please.', 'segments': [{'start_index': 10, 'end_index': 36, 'text': 'chicken fettuccine alfredo', 'annotations': [{'name': 'food_order.name.item'}]}, {'start_index': 41, 'end_index': 50, 'text': 'Spaghetti', 'annotations': [{'name': 'food_order.name.item'}]}, {'start_index': 55, 'end_index': 64, 'text': 'meatballs', 'annotations': [{'name': 'food_order.name.item'}]}]}\n",
      "{'index': 7, 'speaker': 'ASSISTANT', 'text': 'Just to confirm you would like to order chicken fettuccine alfredo and spaghetti with meatballs.', 'segments': [{'start_index': 40, 'end_index': 66, 'text': 'chicken fettuccine alfredo', 'annotations': [{'name': 'food_order.name.item'}]}, {'start_index': 71, 'end_index': 95, 'text': 'spaghetti with meatballs', 'annotations': [{'name': 'food_order.name.item'}]}]}\n",
      "{'index': 8, 'speaker': 'USER', 'text': 'Yes.'}\n",
      "{'index': 9, 'speaker': 'ASSISTANT', 'text': 'Would you like to add something as sides like garlic bread.', 'segments': [{'start_index': 46, 'end_index': 58, 'text': 'garlic bread', 'annotations': [{'name': 'food_order.name.item'}]}]}\n",
      "{'index': 10, 'speaker': 'USER', 'text': 'Yes. Can I get a garlic bread too, please? And. Couple packets of Parmesan cheese, please.', 'segments': [{'start_index': 17, 'end_index': 29, 'text': 'garlic bread', 'annotations': [{'name': 'food_order.name.item'}]}, {'start_index': 48, 'end_index': 81, 'text': 'Couple packets of Parmesan cheese', 'annotations': [{'name': 'food_order.other_description.item'}]}]}\n",
      "{'index': 11, 'speaker': 'USER', 'text': 'Couple packets of Parmesan cheese, please.', 'segments': [{'start_index': 0, 'end_index': 33, 'text': 'Couple packets of Parmesan cheese', 'annotations': [{'name': 'food_order.other_description.item'}]}]}\n",
      "{'index': 12, 'speaker': 'ASSISTANT', 'text': 'Just to confirm you would like to add garlic bread and packets of Parmesan cheese.', 'segments': [{'start_index': 38, 'end_index': 50, 'text': 'garlic bread', 'annotations': [{'name': 'food_order.other_description.item'}]}, {'start_index': 55, 'end_index': 81, 'text': 'packets of Parmesan cheese', 'annotations': [{'name': 'food_order.other_description.item'}]}]}\n",
      "{'index': 13, 'speaker': 'USER', 'text': 'Yes.'}\n",
      "{'index': 14, 'speaker': 'ASSISTANT', 'text': 'Anything else to drink?'}\n",
      "{'index': 15, 'speaker': 'USER', 'text': 'Can I get a 2-L bottle of orange soda?', 'segments': [{'start_index': 12, 'end_index': 37, 'text': '2-L bottle of orange soda', 'annotations': [{'name': 'food_order.name.item'}]}]}\n",
      "{'index': 16, 'speaker': 'ASSISTANT', 'text': 'Yes, two-liter bottle of orange soda added to your order.', 'segments': [{'start_index': 5, 'end_index': 36, 'text': 'two-liter bottle of orange soda', 'annotations': [{'name': 'food_order.name.item'}]}]}\n",
      "{'index': 17, 'speaker': 'USER', 'text': \"That'll be it.\"}\n",
      "{'index': 18, 'speaker': 'ASSISTANT', 'text': 'Okay. I have your personal details on file. Your order will be ready for pick-up in about 20 minutes.', 'segments': [{'start_index': 73, 'end_index': 80, 'text': 'pick-up', 'annotations': [{'name': 'food_order.type.retrieval'}]}, {'start_index': 84, 'end_index': 100, 'text': 'about 20 minutes', 'annotations': [{'name': 'food_order.time.pickup'}]}]}\n",
      "{'index': 19, 'speaker': 'USER', 'text': 'Thank you very much for your help.'}\n",
      "{'index': 20, 'speaker': 'ASSISTANT', 'text': 'Your welcome.'}\n",
      "{'index': 0, 'speaker': 'ASSISTANT', 'text': 'Hello. How can I help you?'}\n",
      "{'index': 1, 'speaker': 'USER', 'text': \"Hi. I'd like to order a sandwich takeout order for one.\", 'segments': [{'start_index': 24, 'end_index': 32, 'text': 'sandwich', 'annotations': [{'name': 'food_order.name.item'}]}, {'start_index': 33, 'end_index': 40, 'text': 'takeout', 'annotations': [{'name': 'food_order.type.retrieval'}]}, {'start_index': 51, 'end_index': 54, 'text': 'one', 'annotations': [{'name': 'food_order.num.people'}]}]}\n",
      "{'index': 2, 'speaker': 'ASSISTANT', 'text': 'Okay and how would you like a sandwich?', 'segments': [{'start_index': 30, 'end_index': 38, 'text': 'sandwich', 'annotations': [{'name': 'food_order.name.item'}]}]}\n",
      "{'index': 3, 'speaker': 'USER', 'text': \"I'd like one BLT on rye bread with a lemonade and a side of potato chips.\", 'segments': [{'start_index': 9, 'end_index': 29, 'text': 'one BLT on rye bread', 'annotations': [{'name': 'food_order.name.item'}]}, {'start_index': 35, 'end_index': 45, 'text': 'a lemonade', 'annotations': [{'name': 'food_order.name.item'}]}, {'start_index': 50, 'end_index': 56, 'text': 'a side', 'annotations': [{'name': 'food_order.other_description.item'}]}, {'start_index': 57, 'end_index': 72, 'text': 'of potato chips', 'annotations': [{'name': 'food_order.name.item'}]}]}\n",
      "{'index': 4, 'speaker': 'ASSISTANT', 'text': \"I'm sorry, but your audio was breaking up, can you repeat that?\"}\n",
      "{'index': 5, 'speaker': 'USER', 'text': \"Yes. I'd like one BLT on rye bread with a lemonade and a side of potato chips.\", 'segments': [{'start_index': 14, 'end_index': 34, 'text': 'one BLT on rye bread', 'annotations': [{'name': 'food_order.name.item'}]}, {'start_index': 40, 'end_index': 50, 'text': 'a lemonade', 'annotations': [{'name': 'food_order.name.item'}]}, {'start_index': 55, 'end_index': 61, 'text': 'a side', 'annotations': [{'name': 'food_order.other_description.item'}]}, {'start_index': 62, 'end_index': 77, 'text': 'of potato chips', 'annotations': [{'name': 'food_order.name.item'}]}]}\n",
      "{'index': 6, 'speaker': 'ASSISTANT', 'text': 'One BLT on rye bread with a lemonade and a side of potato chips. Is that correct?', 'segments': [{'start_index': 0, 'end_index': 20, 'text': 'One BLT on rye bread', 'annotations': [{'name': 'food_order.name.item'}]}, {'start_index': 26, 'end_index': 36, 'text': 'a lemonade', 'annotations': [{'name': 'food_order.name.item'}]}, {'start_index': 41, 'end_index': 47, 'text': 'a side', 'annotations': [{'name': 'food_order.other_description.item'}]}, {'start_index': 48, 'end_index': 63, 'text': 'of potato chips', 'annotations': [{'name': 'food_order.name.item'}]}]}\n",
      "{'index': 7, 'speaker': 'USER', 'text': 'Yes.'}\n",
      "{'index': 8, 'speaker': 'ASSISTANT', 'text': 'Okay, I have your personal details on file. Your order will be ready for pick-up in about 20 minutes.', 'segments': [{'start_index': 73, 'end_index': 80, 'text': 'pick-up', 'annotations': [{'name': 'food_order.type.retrieval'}]}, {'start_index': 84, 'end_index': 100, 'text': 'about 20 minutes', 'annotations': [{'name': 'food_order.time.pickup'}]}]}\n",
      "{'index': 9, 'speaker': 'USER', 'text': 'Thank you. Bye.'}\n",
      "{'index': 10, 'speaker': 'ASSISTANT', 'text': \"You're welcome.\"}\n",
      "{'index': 11, 'speaker': 'ASSISTANT', 'text': 'Bye.'}\n",
      "{'index': 0, 'speaker': 'ASSISTANT', 'text': 'Hello, How can I help you?'}\n",
      "{'index': 1, 'speaker': 'USER', 'text': \"Hi, I'm in this really like super three-way relationship, and we are looking to buy some sandwiches. Can you help me with that?\", 'segments': [{'start_index': 89, 'end_index': 99, 'text': 'sandwiches', 'annotations': [{'name': 'food_order.type.food'}]}]}\n",
      "{'index': 2, 'speaker': 'ASSISTANT', 'text': 'Yes, I can. What kind of sandwiches would you like to order?', 'segments': [{'start_index': 25, 'end_index': 35, 'text': 'sandwiches', 'annotations': [{'name': 'food_order.type.food'}]}]}\n",
      "{'index': 3, 'speaker': 'USER', 'text': 'I would like one BLT, one chip butty, and two Reubens.', 'segments': [{'start_index': 13, 'end_index': 20, 'text': 'one BLT', 'annotations': [{'name': 'food_order.name.item'}]}, {'start_index': 22, 'end_index': 36, 'text': 'one chip butty', 'annotations': [{'name': 'food_order.name.item'}]}, {'start_index': 42, 'end_index': 53, 'text': 'two Reubens', 'annotations': [{'name': 'food_order.name.item'}]}]}\n",
      "{'index': 4, 'speaker': 'USER', 'text': 'Okay.'}\n",
      "{'index': 5, 'speaker': 'ASSISTANT', 'text': \"Just to confirm, you would like to order one BLT, one chip buddy, 2 Ruben's.\", 'segments': [{'start_index': 41, 'end_index': 48, 'text': 'one BLT', 'annotations': [{'name': 'food_order.name.item'}]}, {'start_index': 50, 'end_index': 64, 'text': 'one chip buddy', 'annotations': [{'name': 'food_order.name.item'}]}, {'start_index': 66, 'end_index': 75, 'text': \"2 Ruben's\", 'annotations': [{'name': 'food_order.name.item'}]}]}\n",
      "{'index': 6, 'speaker': 'USER', 'text': \"Yes. That's absolutely right.\"}\n",
      "{'index': 7, 'speaker': 'USER', 'text': 'Hey, Can I get extra mayo with all of that?', 'segments': [{'start_index': 15, 'end_index': 42, 'text': 'extra mayo with all of that', 'annotations': [{'name': 'food_order.other_description.item'}]}]}\n",
      "{'index': 8, 'speaker': 'USER', 'text': 'Can you do that for me?'}\n",
      "{'index': 9, 'speaker': 'ASSISTANT', 'text': 'Is there anything else you would like to order?'}\n",
      "{'index': 10, 'speaker': 'USER', 'text': 'Can I get that?'}\n",
      "{'index': 11, 'speaker': 'ASSISTANT', 'text': 'As requested your sandwiches will be prepared with extra mayo.', 'segments': [{'start_index': 18, 'end_index': 28, 'text': 'sandwiches', 'annotations': [{'name': 'food_order.name.item'}]}, {'start_index': 46, 'end_index': 61, 'text': 'with extra mayo', 'annotations': [{'name': 'food_order.other_description.item'}]}]}\n",
      "{'index': 12, 'speaker': 'USER', 'text': 'All right, thank you so much.'}\n",
      "{'index': 13, 'speaker': 'ASSISTANT', 'text': 'You are welcome.'}\n",
      "{'index': 14, 'speaker': 'ASSISTANT', 'text': 'What do you like to add anything to drink?'}\n",
      "{'index': 15, 'speaker': 'USER', 'text': 'No, we have water here.'}\n",
      "{'index': 16, 'speaker': 'ASSISTANT', 'text': 'Okay. I have your personal details on file. Your order will be ready for pick-up in about 20 minutes.', 'segments': [{'start_index': 73, 'end_index': 80, 'text': 'pick-up', 'annotations': [{'name': 'food_order.type.retrieval'}]}, {'start_index': 84, 'end_index': 100, 'text': 'about 20 minutes', 'annotations': [{'name': 'food_order.time.pickup'}]}]}\n",
      "{'index': 17, 'speaker': 'USER', 'text': 'Alright, thank you so much. You are a rock star.'}\n",
      "{'index': 18, 'speaker': 'ASSISTANT', 'text': 'You are welcome.'}\n",
      "{'index': 19, 'speaker': 'ASSISTANT', 'text': 'Good bye.'}\n",
      "{'index': 20, 'speaker': 'USER', 'text': 'See you.'}\n",
      "{'index': 0, 'speaker': 'ASSISTANT', 'text': 'How can I help you?'}\n",
      "{'index': 1, 'speaker': 'USER', 'text': \"Yes, I'd like to order hot dogs for three people, please.\", 'segments': [{'start_index': 36, 'end_index': 48, 'text': 'three people', 'annotations': [{'name': 'food_order.num.people'}]}, {'start_index': 23, 'end_index': 31, 'text': 'hot dogs', 'annotations': [{'name': 'food_order.name.item'}]}]}\n",
      "{'index': 2, 'speaker': 'ASSISTANT', 'text': 'Just to confirm you would like to order hot dogs for three people.', 'segments': [{'start_index': 53, 'end_index': 65, 'text': 'three people', 'annotations': [{'name': 'food_order.num.people'}]}, {'start_index': 40, 'end_index': 48, 'text': 'hot dogs', 'annotations': [{'name': 'food_order.name.item'}]}]}\n",
      "{'index': 3, 'speaker': 'USER', 'text': 'Yes.'}\n",
      "{'index': 4, 'speaker': 'ASSISTANT', 'text': 'What kind of hot dogs would you like to order?', 'segments': [{'start_index': 13, 'end_index': 21, 'text': 'hot dogs', 'annotations': [{'name': 'food_order.name.item'}]}]}\n",
      "{'index': 5, 'speaker': 'USER', 'text': \"Three hot dogs, everything on it, please. And three large order of fries and three Cherry Cokes, please. And that'll be it.\", 'segments': [{'start_index': 0, 'end_index': 14, 'text': 'Three hot dogs', 'annotations': [{'name': 'food_order.name.item'}]}, {'start_index': 16, 'end_index': 32, 'text': 'everything on it', 'annotations': [{'name': 'food_order.other_description.item'}]}, {'start_index': 46, 'end_index': 72, 'text': 'three large order of fries', 'annotations': [{'name': 'food_order.name.item'}]}, {'start_index': 77, 'end_index': 95, 'text': 'three Cherry Cokes', 'annotations': [{'name': 'food_order.name.item'}]}]}\n",
      "{'index': 6, 'speaker': 'ASSISTANT', 'text': 'Just to confirm you would like to order three hot dogs with everything on it, three large fries and three Cherry Cokes.', 'segments': [{'start_index': 40, 'end_index': 54, 'text': 'three hot dogs', 'annotations': [{'name': 'food_order.name.item'}]}, {'start_index': 55, 'end_index': 76, 'text': 'with everything on it', 'annotations': [{'name': 'food_order.other_description.item'}]}, {'start_index': 78, 'end_index': 95, 'text': 'three large fries', 'annotations': [{'name': 'food_order.name.item'}]}, {'start_index': 100, 'end_index': 118, 'text': 'three Cherry Cokes', 'annotations': [{'name': 'food_order.name.item'}]}]}\n",
      "{'index': 7, 'speaker': 'USER', 'text': 'Yes.'}\n",
      "{'index': 8, 'speaker': 'ASSISTANT', 'text': 'Is there anything else you would like to order?'}\n",
      "{'index': 9, 'speaker': 'USER', 'text': \"That'll be it.\"}\n",
      "{'index': 10, 'speaker': 'ASSISTANT', 'text': '\"Okay, I have your personal details on file. Your order will be ready for pick-up in 20 minutes\".', 'segments': [{'start_index': 74, 'end_index': 81, 'text': 'pick-up', 'annotations': [{'name': 'food_order.type.retrieval'}]}, {'start_index': 85, 'end_index': 95, 'text': '20 minutes', 'annotations': [{'name': 'food_order.time.pickup'}]}]}\n",
      "{'index': 11, 'speaker': 'USER', 'text': 'Thank you.'}\n",
      "{'index': 12, 'speaker': 'ASSISTANT', 'text': 'Your welcome.'}\n",
      "{'index': 13, 'speaker': 'USER', 'text': 'Bye-bye.'}\n",
      "{'index': 14, 'speaker': 'ASSISTANT', 'text': 'Bye, talk to you next time.'}\n",
      "{'index': 0, 'speaker': 'ASSISTANT', 'text': 'Hello, how can I help you?'}\n",
      "{'index': 1, 'speaker': 'USER', 'text': 'I just want to do a reorder.'}\n",
      "{'index': 2, 'speaker': 'ASSISTANT', 'text': 'Sure, let me bring that up. Looks like you had 1 market burrito with black beans and spicy salsa and 1 chicken taco platter with refried beans. Is that right?', 'segments': [{'start_index': 47, 'end_index': 63, 'text': '1 market burrito', 'annotations': [{'name': 'food_order.name.item'}]}, {'start_index': 64, 'end_index': 96, 'text': 'with black beans and spicy salsa', 'annotations': [{'name': 'food_order.other_description.item'}]}, {'start_index': 101, 'end_index': 123, 'text': '1 chicken taco platter', 'annotations': [{'name': 'food_order.name.item'}]}, {'start_index': 124, 'end_index': 142, 'text': 'with refried beans', 'annotations': [{'name': 'food_order.other_description.item'}]}]}\n",
      "{'index': 3, 'speaker': 'USER', 'text': \"That's correct but I'd like to add two iced teas if you don't mind.\", 'segments': [{'start_index': 35, 'end_index': 48, 'text': 'two iced teas', 'annotations': [{'name': 'food_order.name.item'}]}]}\n",
      "{'index': 4, 'speaker': 'ASSISTANT', 'text': \"Two iced teas sure. I've added that to the order.\", 'segments': [{'start_index': 0, 'end_index': 13, 'text': 'Two iced teas', 'annotations': [{'name': 'food_order.name.item'}]}]}\n",
      "{'index': 5, 'speaker': 'USER', 'text': 'Okay. Well, thank you very much.'}\n",
      "{'index': 6, 'speaker': 'ASSISTANT', 'text': 'Anything else?'}\n",
      "{'index': 7, 'speaker': 'USER', 'text': \"No, that'll be it. Thank you very much.\"}\n",
      "{'index': 8, 'speaker': 'ASSISTANT', 'text': 'Okay. Let me confirm what you have: 1 market burrito with black beans and spicy salsa and 1 chicken taco platter with refried beans and 2 ice teas.', 'segments': [{'start_index': 36, 'end_index': 52, 'text': '1 market burrito', 'annotations': [{'name': 'food_order.name.item'}]}, {'start_index': 53, 'end_index': 85, 'text': 'with black beans and spicy salsa', 'annotations': [{'name': 'food_order.other_description.item'}]}, {'start_index': 90, 'end_index': 112, 'text': '1 chicken taco platter', 'annotations': [{'name': 'food_order.name.item'}]}, {'start_index': 113, 'end_index': 131, 'text': 'with refried beans', 'annotations': [{'name': 'food_order.other_description.item'}]}, {'start_index': 136, 'end_index': 146, 'text': '2 ice teas', 'annotations': [{'name': 'food_order.name.item'}]}]}\n",
      "{'index': 9, 'speaker': 'USER', 'text': \"Okay. That's correct.\"}\n",
      "{'index': 10, 'speaker': 'ASSISTANT', 'text': 'Okay. Your order will be ready for pick-up in about 20 minutes.', 'segments': [{'start_index': 35, 'end_index': 42, 'text': 'pick-up', 'annotations': [{'name': 'food_order.type.retrieval'}]}, {'start_index': 52, 'end_index': 62, 'text': '20 minutes', 'annotations': [{'name': 'food_order.time.pickup'}]}]}\n",
      "{'index': 11, 'speaker': 'USER', 'text': 'Okay, thank you. You have a great and wonderful day.'}\n",
      "{'index': 0, 'speaker': 'ASSISTANT', 'text': 'How can I help you?'}\n",
      "{'index': 1, 'speaker': 'USER', 'text': 'Hi assistant. I would like to order some food.'}\n",
      "{'index': 2, 'speaker': 'ASSISTANT', 'text': 'Sure. For how many people?'}\n",
      "{'index': 3, 'speaker': 'USER', 'text': 'For three people.', 'segments': [{'start_index': 4, 'end_index': 16, 'text': 'three people', 'annotations': [{'name': 'food_order.num.people'}]}]}\n",
      "{'index': 4, 'speaker': 'USER', 'text': \"I'd like to order six hot dogs for take out.\", 'segments': [{'start_index': 18, 'end_index': 30, 'text': 'six hot dogs', 'annotations': [{'name': 'food_order.name.item'}]}, {'start_index': 35, 'end_index': 43, 'text': 'take out', 'annotations': [{'name': 'food_order.type.retrieval'}]}]}\n",
      "{'index': 5, 'speaker': 'ASSISTANT', 'text': 'Anything else?'}\n",
      "{'index': 6, 'speaker': 'USER', 'text': 'I would like them to have ketchup, mustard, onions, and relish on them.', 'segments': [{'start_index': 0, 'end_index': 70, 'text': 'I would like them to have ketchup, mustard, onions, and relish on them', 'annotations': [{'name': 'food_order.other_description.item'}]}]}\n",
      "{'index': 7, 'speaker': 'ASSISTANT', 'text': 'I have your personal details on file. Your order will be ready for pick-up in about 20 minutes.', 'segments': [{'start_index': 67, 'end_index': 74, 'text': 'pick-up', 'annotations': [{'name': 'food_order.type.retrieval'}]}, {'start_index': 78, 'end_index': 94, 'text': 'about 20 minutes', 'annotations': [{'name': 'food_order.time.pickup'}]}]}\n",
      "{'index': 8, 'speaker': 'USER', 'text': 'Okay. Good bye.'}\n",
      "{'index': 0, 'speaker': 'USER', 'text': \"Hi. I'd like to order a hot dog.\", 'segments': [{'start_index': 24, 'end_index': 31, 'text': 'hot dog', 'annotations': [{'name': 'food_order.name.item'}]}]}\n",
      "{'index': 1, 'speaker': 'ASSISTANT', 'text': 'Hello, How can I help you?'}\n",
      "{'index': 2, 'speaker': 'ASSISTANT', 'text': 'Okay.'}\n",
      "{'index': 3, 'speaker': 'ASSISTANT', 'text': 'Yes.'}\n",
      "{'index': 4, 'speaker': 'ASSISTANT', 'text': 'Okay, and how would you like the hot dog ordered? One hot dog with everything on it, pickled and jalapenos on the side, with a large fries and coke. Does that complete your order?', 'segments': [{'start_index': 33, 'end_index': 40, 'text': 'hot dog', 'annotations': [{'name': 'food_order.name.item'}]}, {'start_index': 50, 'end_index': 61, 'text': 'One hot dog', 'annotations': [{'name': 'food_order.name.item'}]}, {'start_index': 62, 'end_index': 83, 'text': 'with everything on it', 'annotations': [{'name': 'food_order.other_description.item'}]}, {'start_index': 85, 'end_index': 106, 'text': 'pickled and jalapenos', 'annotations': [{'name': 'food_order.name.item'}]}, {'start_index': 107, 'end_index': 118, 'text': 'on the side', 'annotations': [{'name': 'food_order.other_description.item'}]}, {'start_index': 125, 'end_index': 138, 'text': 'a large fries', 'annotations': [{'name': 'food_order.name.item'}]}, {'start_index': 143, 'end_index': 147, 'text': 'coke', 'annotations': [{'name': 'food_order.name.item'}]}]}\n",
      "{'index': 5, 'speaker': 'ASSISTANT', 'text': 'OK. I have your personal details on file. Your order will be ready for pick-up in about 20 minutes.', 'segments': [{'start_index': 71, 'end_index': 78, 'text': 'pick-up', 'annotations': [{'name': 'food_order.type.retrieval'}]}, {'start_index': 82, 'end_index': 98, 'text': 'about 20 minutes', 'annotations': [{'name': 'food_order.time.pickup'}]}]}\n",
      "{'index': 6, 'speaker': 'ASSISTANT', 'text': 'Until next time.'}\n",
      "{'index': 7, 'speaker': 'ASSISTANT', 'text': 'Bye.'}\n",
      "{'index': 0, 'speaker': 'USER', 'text': 'Hello.'}\n",
      "{'index': 1, 'speaker': 'ASSISTANT', 'text': 'Hello, How can I help you?'}\n",
      "{'index': 2, 'speaker': 'USER', 'text': \"Hi. Today I need to find a restaurant for take-out for one person, and I'm looking for burritos to eat.\", 'segments': [{'start_index': 42, 'end_index': 50, 'text': 'take-out', 'annotations': [{'name': 'food_order.type.retrieval'}]}, {'start_index': 55, 'end_index': 65, 'text': 'one person', 'annotations': [{'name': 'food_order.num.people'}]}, {'start_index': 87, 'end_index': 95, 'text': 'burritos', 'annotations': [{'name': 'food_order.type.food'}]}]}\n",
      "{'index': 3, 'speaker': 'ASSISTANT', 'text': 'Okay.'}\n",
      "{'index': 4, 'speaker': 'ASSISTANT', 'text': 'What would you like to order?'}\n",
      "{'index': 5, 'speaker': 'USER', 'text': \"I'm looking to order two beef burritos, and a large Hi-C.\", 'segments': [{'start_index': 21, 'end_index': 38, 'text': 'two beef burritos', 'annotations': [{'name': 'food_order.name.item'}]}, {'start_index': 46, 'end_index': 56, 'text': 'large Hi-C', 'annotations': [{'name': 'food_order.name.item'}]}]}\n",
      "{'index': 6, 'speaker': 'ASSISTANT', 'text': '2 beef burritos and a large Hi-C.', 'segments': [{'start_index': 0, 'end_index': 15, 'text': '2 beef burritos', 'annotations': [{'name': 'food_order.name.item'}]}, {'start_index': 22, 'end_index': 32, 'text': 'large Hi-C', 'annotations': [{'name': 'food_order.name.item'}]}]}\n",
      "{'index': 7, 'speaker': 'USER', 'text': \"Yes, that's correct.\"}\n",
      "{'index': 8, 'speaker': 'ASSISTANT', 'text': 'Anything else?'}\n",
      "{'index': 9, 'speaker': 'USER', 'text': \"Oh, that's pretty much it for now.\"}\n",
      "{'index': 10, 'speaker': 'ASSISTANT', 'text': 'Okay. I have your personal details on file. Your order will be ready for pick-up in about 20 minutes.', 'segments': [{'start_index': 73, 'end_index': 80, 'text': 'pick-up', 'annotations': [{'name': 'food_order.type.retrieval'}]}, {'start_index': 90, 'end_index': 100, 'text': '20 minutes', 'annotations': [{'name': 'food_order.time.pickup'}]}]}\n",
      "{'index': 11, 'speaker': 'USER', 'text': \"Awesome. That's pretty good timing for me. Thank you for your help today.\"}\n",
      "{'index': 12, 'speaker': 'ASSISTANT', 'text': 'Do you need anything else?'}\n",
      "{'index': 13, 'speaker': 'USER', 'text': \"Nothing else today. That's it. Thank you for that. Bye.\"}\n",
      "{'index': 14, 'speaker': 'ASSISTANT', 'text': 'Goodbye.'}\n",
      "{'index': 0, 'speaker': 'ASSISTANT', 'text': 'Hello user.'}\n",
      "{'index': 1, 'speaker': 'ASSISTANT', 'text': 'How can I help you?'}\n",
      "{'index': 2, 'speaker': 'USER', 'text': 'Hi, I would like to place an order of Mexican food for one person.', 'segments': [{'start_index': 38, 'end_index': 45, 'text': 'Mexican', 'annotations': [{'name': 'food_order.type.food'}]}, {'start_index': 55, 'end_index': 65, 'text': 'one person', 'annotations': [{'name': 'food_order.num.people'}]}]}\n",
      "{'index': 3, 'speaker': 'ASSISTANT', 'text': 'Okay, what would you like to order?'}\n",
      "{'index': 4, 'speaker': 'USER', 'text': 'Get me the chicken beef quesadilla and a soft shell beef taco without lettuce.', 'segments': [{'start_index': 11, 'end_index': 34, 'text': 'chicken beef quesadilla', 'annotations': [{'name': 'food_order.name.item'}]}, {'start_index': 41, 'end_index': 61, 'text': 'soft shell beef taco', 'annotations': [{'name': 'food_order.name.item'}]}, {'start_index': 62, 'end_index': 77, 'text': 'without lettuce', 'annotations': [{'name': 'food_order.other_description.item'}]}]}\n",
      "{'index': 5, 'speaker': 'ASSISTANT', 'text': 'One order of chicken beef quesadilla, one soft shell beef taco without lettuce. Anything else?', 'segments': [{'start_index': 0, 'end_index': 36, 'text': 'One order of chicken beef quesadilla', 'annotations': [{'name': 'food_order.name.item'}]}, {'start_index': 38, 'end_index': 62, 'text': 'one soft shell beef taco', 'annotations': [{'name': 'food_order.name.item'}]}, {'start_index': 63, 'end_index': 78, 'text': 'without lettuce', 'annotations': [{'name': 'food_order.other_description.item'}]}]}\n",
      "{'index': 6, 'speaker': 'USER', 'text': 'I wanted to add a sweet ice tea and also get me some nacho chips and cinnamon curly cues.', 'segments': [{'start_index': 18, 'end_index': 31, 'text': 'sweet ice tea', 'annotations': [{'name': 'food_order.name.item'}]}, {'start_index': 53, 'end_index': 64, 'text': 'nacho chips', 'annotations': [{'name': 'food_order.name.item'}]}, {'start_index': 69, 'end_index': 88, 'text': 'cinnamon curly cues', 'annotations': [{'name': 'food_order.name.item'}]}]}\n",
      "{'index': 7, 'speaker': 'ASSISTANT', 'text': 'One order of chicken beef quesadilla, one soft shell beef taco without lettuce, nachos and cinnamon cues and a sweet tea. Does that complete your order?', 'segments': [{'start_index': 0, 'end_index': 36, 'text': 'One order of chicken beef quesadilla', 'annotations': [{'name': 'food_order.name.item'}]}, {'start_index': 38, 'end_index': 62, 'text': 'one soft shell beef taco', 'annotations': [{'name': 'food_order.name.item'}]}, {'start_index': 63, 'end_index': 78, 'text': 'without lettuce', 'annotations': [{'name': 'food_order.other_description.item'}]}, {'start_index': 80, 'end_index': 86, 'text': 'nachos', 'annotations': [{'name': 'food_order.name.item'}]}, {'start_index': 91, 'end_index': 104, 'text': 'cinnamon cues', 'annotations': [{'name': 'food_order.name.item'}]}, {'start_index': 109, 'end_index': 120, 'text': 'a sweet tea', 'annotations': [{'name': 'food_order.name.item'}]}]}\n",
      "{'index': 8, 'speaker': 'USER', 'text': 'Yes.'}\n",
      "{'index': 9, 'speaker': 'ASSISTANT', 'text': 'Okay, I have your personal details on file. Your order will be ready for pick-up in about 20 minutes.', 'segments': [{'start_index': 73, 'end_index': 80, 'text': 'pick-up', 'annotations': [{'name': 'food_order.type.retrieval'}]}, {'start_index': 84, 'end_index': 100, 'text': 'about 20 minutes', 'annotations': [{'name': 'food_order.time.pickup'}]}]}\n",
      "{'index': 10, 'speaker': 'USER', 'text': 'All right, thank you.'}\n",
      "{'index': 11, 'speaker': 'ASSISTANT', 'text': 'See you later, bye.'}\n"
     ]
    }
   ],
   "source": [
    "USER=[]\n",
    "BOT=[]\n",
    "last_speaker=\"None\"\n",
    "current_speaker=\"None\"\n",
    "full_text=\"\"\n",
    "temp_text=\"\"\n",
    "for segment in conversation[0:10]:\n",
    "  for p in segment:\n",
    "    \n",
    "    current_speaker=p['speaker']\n",
    "    temp_text=p['text']\n",
    "    if(current_speaker!=last_speaker):\n",
    "      if(current_speaker=='ASSISTANT'):\n",
    "        BOT.append(fu)\n",
    "      else:\n",
    "        USER.append(p['text'])\n",
    "    else:\n",
    "      full_text=full_text+temp_text\n",
    "\n",
    "\n",
    "    \n",
    "\n",
    "\n",
    "\n"
   ]
  },
  {
   "cell_type": "code",
   "execution_count": 36,
   "metadata": {
    "colab": {},
    "colab_type": "code",
    "id": "nqoFI5HKKzpj"
   },
   "outputs": [],
   "source": [
    "USER=[]\n",
    "BOT=[]\n",
    "for segment in conversation:\n",
    "  for p in segment:\n",
    "    if(p['speaker']=='USER'):\n",
    "      USER.append(p['text'])\n",
    "    else:\n",
    "      BOT.append(p['text'])"
   ]
  },
  {
   "cell_type": "code",
   "execution_count": 41,
   "metadata": {
    "colab": {
     "base_uri": "https://localhost:8080/",
     "height": 377
    },
    "colab_type": "code",
    "id": "Vr5jQdUPJE5u",
    "outputId": "efabfd4b-e33d-447e-d6d8-fe553bf76428"
   },
   "outputs": [
    {
     "name": "stdout",
     "output_type": "stream",
     "text": [
      "Hi.\n",
      "Yeah, I'd like to get a rack of ribs.\n",
      "How can I help you?\n",
      "What kind of sides can I get with that?\n",
      "What would you like to order in Barbecue?\n",
      "Yeah. Of course, I want the barbecue sauce and ribs, but I'm talking about sides. You know, like slaw or macaroni and cheese. I want I'd like macaroni and cheese, if they got it.\n",
      "With rack of ribs, I would suggest Barbecue sauce.\n",
      "No, I'd like to get a salad with that. No tomatoes, with ranch dressing.\n",
      "Would you like to add extra?\n",
      "Can I get a potato, a baked potato?\n",
      "Salad with no tomatoes and ranch dressing has been added to your order.\n",
      "A Diet Coke or Pepsi, whichever one they have.\n",
      "Is there anything else you would like to add like fries or drinks?\n",
      "That sounds great.\n",
      "Baked potato and diet coke has been added to the order.\n",
      "No, I think that'll do it for me. Thanks.\n",
      "Is there anything else you would like to add?\n",
      "Thank you.\n",
      "Okay, I have your personal details on file, your order will be ready in 20 minutes.\n",
      "Hi, I had to step away for minutes. What was I doing again?\n"
     ]
    }
   ],
   "source": [
    "for i in range(0,10):\n",
    "  print(BOT[i])\n",
    "  print(USER[i])\n",
    " \n"
   ]
  },
  {
   "cell_type": "code",
   "execution_count": null,
   "metadata": {
    "colab": {},
    "colab_type": "code",
    "id": "GqBEIwXoGpQq"
   },
   "outputs": [],
   "source": []
  }
 ],
 "metadata": {
  "colab": {
   "collapsed_sections": [],
   "name": "Welcome To Colaboratory",
   "provenance": [],
   "toc_visible": true
  },
  "kernelspec": {
   "display_name": "Python 3",
   "language": "python",
   "name": "python3"
  }
 },
 "nbformat": 4,
 "nbformat_minor": 1
}
