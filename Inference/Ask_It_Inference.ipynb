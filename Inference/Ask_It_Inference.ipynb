{
  "nbformat": 4,
  "nbformat_minor": 0,
  "metadata": {
    "colab": {
      "name": "Welcome To Colaboratory",
      "provenance": [],
      "collapsed_sections": [],
      "toc_visible": true
    },
    "kernelspec": {
      "display_name": "Python 3",
      "language": "python",
      "name": "python3"
    },
    "accelerator": "TPU"
  },
  "cells": [
    {
      "cell_type": "markdown",
      "metadata": {
        "id": "V27IM_Vf8iOz",
        "colab_type": "text"
      },
      "source": [
        "# Transformer based Dialogue Model on Google  TaskMaster-2 DataSet-Inference\n",
        "\n",
        "Follow on Github : https://github.com/shahid-kh/ChatBot_Transformer\n",
        "\n",
        "\n",
        "Follow on Linkedin: http://linkedin.com/in/shahid-khan-3abab5193\n",
        "\n",
        "\n",
        "This code is inspired from official Tutorial of tensorflow:\n",
        "https://blog.tensorflow.org/2019/05/transformer-chatbot-tutorial-with-tensorflow-2.html\n",
        "\n",
        "I extended this work to use different dataset Google Taskmaster-2 to see interesting results on General chats as assistant for various tasks of daily routine eg. Food ordering,Flight booking etc."
      ]
    },
    {
      "cell_type": "markdown",
      "metadata": {
        "id": "f1rJ8RN080Dc",
        "colab_type": "text"
      },
      "source": [
        "# Mount your Drive for PreTrained weights Loading"
      ]
    },
    {
      "cell_type": "code",
      "metadata": {
        "colab_type": "code",
        "id": "WSfGUJsbGqir",
        "colab": {
          "base_uri": "https://localhost:8080/",
          "height": 34
        },
        "outputId": "5fc235e5-f1a9-4c5e-c4e1-72d9b8cea103"
      },
      "source": [
        "from google.colab import drive\n",
        "drive.mount(\"/mydrive\")"
      ],
      "execution_count": 1,
      "outputs": [
        {
          "output_type": "stream",
          "text": [
            "Mounted at /mydrive\n"
          ],
          "name": "stdout"
        }
      ]
    },
    {
      "cell_type": "markdown",
      "metadata": {
        "id": "NpxQbM857wfo",
        "colab_type": "text"
      },
      "source": [
        "# Pip Installations for Speech Recognition"
      ]
    },
    {
      "cell_type": "code",
      "metadata": {
        "id": "dHb_nttv7vJS",
        "colab_type": "code",
        "colab": {
          "base_uri": "https://localhost:8080/",
          "height": 122
        },
        "outputId": "8b7d60ec-97fa-4d87-d4ae-b68c79468bee"
      },
      "source": [
        "!pip install ffmpeg-python"
      ],
      "execution_count": 2,
      "outputs": [
        {
          "output_type": "stream",
          "text": [
            "Collecting ffmpeg-python\n",
            "  Downloading https://files.pythonhosted.org/packages/d7/0c/56be52741f75bad4dc6555991fabd2e07b432d333da82c11ad701123888a/ffmpeg_python-0.2.0-py3-none-any.whl\n",
            "Requirement already satisfied: future in /usr/local/lib/python3.6/dist-packages (from ffmpeg-python) (0.16.0)\n",
            "Installing collected packages: ffmpeg-python\n",
            "Successfully installed ffmpeg-python-0.2.0\n"
          ],
          "name": "stdout"
        }
      ]
    },
    {
      "cell_type": "code",
      "metadata": {
        "id": "iFlF8gNL71nZ",
        "colab_type": "code",
        "colab": {
          "base_uri": "https://localhost:8080/",
          "height": 122
        },
        "outputId": "57fcf239-373f-42f2-b47b-f43600279667"
      },
      "source": [
        "!pip install SpeechRecognition"
      ],
      "execution_count": 3,
      "outputs": [
        {
          "output_type": "stream",
          "text": [
            "Collecting SpeechRecognition\n",
            "\u001b[?25l  Downloading https://files.pythonhosted.org/packages/26/e1/7f5678cd94ec1234269d23756dbdaa4c8cfaed973412f88ae8adf7893a50/SpeechRecognition-3.8.1-py2.py3-none-any.whl (32.8MB)\n",
            "\u001b[K     |████████████████████████████████| 32.8MB 116kB/s \n",
            "\u001b[?25hInstalling collected packages: SpeechRecognition\n",
            "Successfully installed SpeechRecognition-3.8.1\n"
          ],
          "name": "stdout"
        }
      ]
    },
    {
      "cell_type": "code",
      "metadata": {
        "id": "nIR_zfd0D7Vs",
        "colab_type": "code",
        "colab": {
          "base_uri": "https://localhost:8080/",
          "height": 360
        },
        "outputId": "8e46e0cd-ce20-499f-91ef-43848826e0cc"
      },
      "source": [
        "!pip install gTTS"
      ],
      "execution_count": 4,
      "outputs": [
        {
          "output_type": "stream",
          "text": [
            "Collecting gTTS\n",
            "  Downloading https://files.pythonhosted.org/packages/a1/0c/4ca77eca3b739a4a08360930643f58d714e302fee0d2f8c654e67d9af8e7/gTTS-2.1.1-py3-none-any.whl\n",
            "Requirement already satisfied: click in /usr/local/lib/python3.6/dist-packages (from gTTS) (7.1.2)\n",
            "Requirement already satisfied: six in /usr/local/lib/python3.6/dist-packages (from gTTS) (1.15.0)\n",
            "Requirement already satisfied: requests in /usr/local/lib/python3.6/dist-packages (from gTTS) (2.23.0)\n",
            "Collecting gtts-token>=1.1.3\n",
            "  Downloading https://files.pythonhosted.org/packages/e7/25/ca6e9cd3275bfc3097fe6b06cc31db6d3dfaf32e032e0f73fead9c9a03ce/gTTS-token-1.1.3.tar.gz\n",
            "Requirement already satisfied: beautifulsoup4 in /usr/local/lib/python3.6/dist-packages (from gTTS) (4.6.3)\n",
            "Requirement already satisfied: chardet<4,>=3.0.2 in /usr/local/lib/python3.6/dist-packages (from requests->gTTS) (3.0.4)\n",
            "Requirement already satisfied: certifi>=2017.4.17 in /usr/local/lib/python3.6/dist-packages (from requests->gTTS) (2020.6.20)\n",
            "Requirement already satisfied: urllib3!=1.25.0,!=1.25.1,<1.26,>=1.21.1 in /usr/local/lib/python3.6/dist-packages (from requests->gTTS) (1.24.3)\n",
            "Requirement already satisfied: idna<3,>=2.5 in /usr/local/lib/python3.6/dist-packages (from requests->gTTS) (2.10)\n",
            "Building wheels for collected packages: gtts-token\n",
            "  Building wheel for gtts-token (setup.py) ... \u001b[?25l\u001b[?25hdone\n",
            "  Created wheel for gtts-token: filename=gTTS_token-1.1.3-cp36-none-any.whl size=4096 sha256=93ef85b3afddf76fdb31ef850fd7a07ec048d4cf1e3ed4b4d98f4b43d2cad0d6\n",
            "  Stored in directory: /root/.cache/pip/wheels/dd/11/61/33f7e51bf545e910552b2255eead2a7cd8ef54064b46dceb34\n",
            "Successfully built gtts-token\n",
            "Installing collected packages: gtts-token, gTTS\n",
            "Successfully installed gTTS-2.1.1 gtts-token-1.1.3\n"
          ],
          "name": "stdout"
        }
      ]
    },
    {
      "cell_type": "code",
      "metadata": {
        "id": "-__xv6sV0C_n",
        "colab_type": "code",
        "colab": {
          "base_uri": "https://localhost:8080/",
          "height": 105
        },
        "outputId": "0b8c508e-9a05-4dd6-b7f2-f1da83ffc478"
      },
      "source": [
        "!pip install playsound"
      ],
      "execution_count": 5,
      "outputs": [
        {
          "output_type": "stream",
          "text": [
            "Collecting playsound\n",
            "  Downloading https://files.pythonhosted.org/packages/f5/16/10d897b0a83fb4b05b03a63d7a2667ab75f857f67f7062fd447dd3f49bf7/playsound-1.2.2-py2.py3-none-any.whl\n",
            "Installing collected packages: playsound\n",
            "Successfully installed playsound-1.2.2\n"
          ],
          "name": "stdout"
        }
      ]
    },
    {
      "cell_type": "markdown",
      "metadata": {
        "id": "l4nqTAua89xn",
        "colab_type": "text"
      },
      "source": [
        "#Necessary imports"
      ]
    },
    {
      "cell_type": "code",
      "metadata": {
        "colab_type": "code",
        "id": "92KNGsPqGbli",
        "colab": {}
      },
      "source": [
        "import json\n",
        "import tensorflow as tf\n",
        "assert tf.__version__.startswith('2')\n",
        "tf.random.set_seed(1234)\n",
        "import os\n",
        "import re\n",
        "import numpy as np\n",
        "import speech_recognition as sr\n",
        "from os import path\n",
        "import scipy\n",
        "from IPython.display import HTML, Audio\n",
        "from google.colab.output import eval_js\n",
        "from base64 import b64decode\n",
        "from scipy.io.wavfile import read as wav_read\n",
        "import io\n",
        "import ffmpeg\n",
        "from gtts import gTTS #Import Google Text to Speech\n",
        "\n"
      ],
      "execution_count": 6,
      "outputs": []
    },
    {
      "cell_type": "markdown",
      "metadata": {
        "id": "xfCWmmVH9Cs7",
        "colab_type": "text"
      },
      "source": [
        "#Configuring TPU Strategy\n",
        "Dont forget to change runtime type to TPU before running this Colab"
      ]
    },
    {
      "cell_type": "code",
      "metadata": {
        "id": "hgEKMq2wnQtL",
        "colab_type": "code",
        "colab": {
          "base_uri": "https://localhost:8080/",
          "height": 751
        },
        "outputId": "f5f496cd-6fc5-4bf9-a35a-6f7167a15de4"
      },
      "source": [
        "resolver = tf.distribute.cluster_resolver.TPUClusterResolver(tpu='grpc://' + os.environ['COLAB_TPU_ADDR'])\n",
        "tf.config.experimental_connect_to_cluster(resolver)\n",
        "# This is the TPU initialization code that has to be at the beginning.\n",
        "tf.tpu.experimental.initialize_tpu_system(resolver)\n",
        "print(\"All devices: \", tf.config.list_logical_devices('TPU'))\n",
        "strategy = tf.distribute.experimental.TPUStrategy(resolver)\n"
      ],
      "execution_count": 7,
      "outputs": [
        {
          "output_type": "stream",
          "text": [
            "INFO:tensorflow:Initializing the TPU system: grpc://10.21.223.162:8470\n"
          ],
          "name": "stdout"
        },
        {
          "output_type": "stream",
          "text": [
            "INFO:tensorflow:Initializing the TPU system: grpc://10.21.223.162:8470\n"
          ],
          "name": "stderr"
        },
        {
          "output_type": "stream",
          "text": [
            "INFO:tensorflow:Clearing out eager caches\n"
          ],
          "name": "stdout"
        },
        {
          "output_type": "stream",
          "text": [
            "INFO:tensorflow:Clearing out eager caches\n"
          ],
          "name": "stderr"
        },
        {
          "output_type": "stream",
          "text": [
            "INFO:tensorflow:Finished initializing TPU system.\n"
          ],
          "name": "stdout"
        },
        {
          "output_type": "stream",
          "text": [
            "INFO:tensorflow:Finished initializing TPU system.\n",
            "WARNING:absl:`tf.distribute.experimental.TPUStrategy` is deprecated, please use  the non experimental symbol `tf.distribute.TPUStrategy` instead.\n"
          ],
          "name": "stderr"
        },
        {
          "output_type": "stream",
          "text": [
            "All devices:  [LogicalDevice(name='/job:worker/replica:0/task:0/device:TPU:7', device_type='TPU'), LogicalDevice(name='/job:worker/replica:0/task:0/device:TPU:6', device_type='TPU'), LogicalDevice(name='/job:worker/replica:0/task:0/device:TPU:5', device_type='TPU'), LogicalDevice(name='/job:worker/replica:0/task:0/device:TPU:4', device_type='TPU'), LogicalDevice(name='/job:worker/replica:0/task:0/device:TPU:0', device_type='TPU'), LogicalDevice(name='/job:worker/replica:0/task:0/device:TPU:1', device_type='TPU'), LogicalDevice(name='/job:worker/replica:0/task:0/device:TPU:2', device_type='TPU'), LogicalDevice(name='/job:worker/replica:0/task:0/device:TPU:3', device_type='TPU')]\n",
            "INFO:tensorflow:Found TPU system:\n"
          ],
          "name": "stdout"
        },
        {
          "output_type": "stream",
          "text": [
            "INFO:tensorflow:Found TPU system:\n"
          ],
          "name": "stderr"
        },
        {
          "output_type": "stream",
          "text": [
            "INFO:tensorflow:*** Num TPU Cores: 8\n"
          ],
          "name": "stdout"
        },
        {
          "output_type": "stream",
          "text": [
            "INFO:tensorflow:*** Num TPU Cores: 8\n"
          ],
          "name": "stderr"
        },
        {
          "output_type": "stream",
          "text": [
            "INFO:tensorflow:*** Num TPU Workers: 1\n"
          ],
          "name": "stdout"
        },
        {
          "output_type": "stream",
          "text": [
            "INFO:tensorflow:*** Num TPU Workers: 1\n"
          ],
          "name": "stderr"
        },
        {
          "output_type": "stream",
          "text": [
            "INFO:tensorflow:*** Num TPU Cores Per Worker: 8\n"
          ],
          "name": "stdout"
        },
        {
          "output_type": "stream",
          "text": [
            "INFO:tensorflow:*** Num TPU Cores Per Worker: 8\n"
          ],
          "name": "stderr"
        },
        {
          "output_type": "stream",
          "text": [
            "INFO:tensorflow:*** Available Device: _DeviceAttributes(/job:localhost/replica:0/task:0/device:CPU:0, CPU, 0, 0)\n"
          ],
          "name": "stdout"
        },
        {
          "output_type": "stream",
          "text": [
            "INFO:tensorflow:*** Available Device: _DeviceAttributes(/job:localhost/replica:0/task:0/device:CPU:0, CPU, 0, 0)\n"
          ],
          "name": "stderr"
        },
        {
          "output_type": "stream",
          "text": [
            "INFO:tensorflow:*** Available Device: _DeviceAttributes(/job:localhost/replica:0/task:0/device:XLA_CPU:0, XLA_CPU, 0, 0)\n"
          ],
          "name": "stdout"
        },
        {
          "output_type": "stream",
          "text": [
            "INFO:tensorflow:*** Available Device: _DeviceAttributes(/job:localhost/replica:0/task:0/device:XLA_CPU:0, XLA_CPU, 0, 0)\n"
          ],
          "name": "stderr"
        },
        {
          "output_type": "stream",
          "text": [
            "INFO:tensorflow:*** Available Device: _DeviceAttributes(/job:worker/replica:0/task:0/device:CPU:0, CPU, 0, 0)\n"
          ],
          "name": "stdout"
        },
        {
          "output_type": "stream",
          "text": [
            "INFO:tensorflow:*** Available Device: _DeviceAttributes(/job:worker/replica:0/task:0/device:CPU:0, CPU, 0, 0)\n"
          ],
          "name": "stderr"
        },
        {
          "output_type": "stream",
          "text": [
            "INFO:tensorflow:*** Available Device: _DeviceAttributes(/job:worker/replica:0/task:0/device:TPU:0, TPU, 0, 0)\n"
          ],
          "name": "stdout"
        },
        {
          "output_type": "stream",
          "text": [
            "INFO:tensorflow:*** Available Device: _DeviceAttributes(/job:worker/replica:0/task:0/device:TPU:0, TPU, 0, 0)\n"
          ],
          "name": "stderr"
        },
        {
          "output_type": "stream",
          "text": [
            "INFO:tensorflow:*** Available Device: _DeviceAttributes(/job:worker/replica:0/task:0/device:TPU:1, TPU, 0, 0)\n"
          ],
          "name": "stdout"
        },
        {
          "output_type": "stream",
          "text": [
            "INFO:tensorflow:*** Available Device: _DeviceAttributes(/job:worker/replica:0/task:0/device:TPU:1, TPU, 0, 0)\n"
          ],
          "name": "stderr"
        },
        {
          "output_type": "stream",
          "text": [
            "INFO:tensorflow:*** Available Device: _DeviceAttributes(/job:worker/replica:0/task:0/device:TPU:2, TPU, 0, 0)\n"
          ],
          "name": "stdout"
        },
        {
          "output_type": "stream",
          "text": [
            "INFO:tensorflow:*** Available Device: _DeviceAttributes(/job:worker/replica:0/task:0/device:TPU:2, TPU, 0, 0)\n"
          ],
          "name": "stderr"
        },
        {
          "output_type": "stream",
          "text": [
            "INFO:tensorflow:*** Available Device: _DeviceAttributes(/job:worker/replica:0/task:0/device:TPU:3, TPU, 0, 0)\n"
          ],
          "name": "stdout"
        },
        {
          "output_type": "stream",
          "text": [
            "INFO:tensorflow:*** Available Device: _DeviceAttributes(/job:worker/replica:0/task:0/device:TPU:3, TPU, 0, 0)\n"
          ],
          "name": "stderr"
        },
        {
          "output_type": "stream",
          "text": [
            "INFO:tensorflow:*** Available Device: _DeviceAttributes(/job:worker/replica:0/task:0/device:TPU:4, TPU, 0, 0)\n"
          ],
          "name": "stdout"
        },
        {
          "output_type": "stream",
          "text": [
            "INFO:tensorflow:*** Available Device: _DeviceAttributes(/job:worker/replica:0/task:0/device:TPU:4, TPU, 0, 0)\n"
          ],
          "name": "stderr"
        },
        {
          "output_type": "stream",
          "text": [
            "INFO:tensorflow:*** Available Device: _DeviceAttributes(/job:worker/replica:0/task:0/device:TPU:5, TPU, 0, 0)\n"
          ],
          "name": "stdout"
        },
        {
          "output_type": "stream",
          "text": [
            "INFO:tensorflow:*** Available Device: _DeviceAttributes(/job:worker/replica:0/task:0/device:TPU:5, TPU, 0, 0)\n"
          ],
          "name": "stderr"
        },
        {
          "output_type": "stream",
          "text": [
            "INFO:tensorflow:*** Available Device: _DeviceAttributes(/job:worker/replica:0/task:0/device:TPU:6, TPU, 0, 0)\n"
          ],
          "name": "stdout"
        },
        {
          "output_type": "stream",
          "text": [
            "INFO:tensorflow:*** Available Device: _DeviceAttributes(/job:worker/replica:0/task:0/device:TPU:6, TPU, 0, 0)\n"
          ],
          "name": "stderr"
        },
        {
          "output_type": "stream",
          "text": [
            "INFO:tensorflow:*** Available Device: _DeviceAttributes(/job:worker/replica:0/task:0/device:TPU:7, TPU, 0, 0)\n"
          ],
          "name": "stdout"
        },
        {
          "output_type": "stream",
          "text": [
            "INFO:tensorflow:*** Available Device: _DeviceAttributes(/job:worker/replica:0/task:0/device:TPU:7, TPU, 0, 0)\n"
          ],
          "name": "stderr"
        },
        {
          "output_type": "stream",
          "text": [
            "INFO:tensorflow:*** Available Device: _DeviceAttributes(/job:worker/replica:0/task:0/device:TPU_SYSTEM:0, TPU_SYSTEM, 0, 0)\n"
          ],
          "name": "stdout"
        },
        {
          "output_type": "stream",
          "text": [
            "INFO:tensorflow:*** Available Device: _DeviceAttributes(/job:worker/replica:0/task:0/device:TPU_SYSTEM:0, TPU_SYSTEM, 0, 0)\n"
          ],
          "name": "stderr"
        },
        {
          "output_type": "stream",
          "text": [
            "INFO:tensorflow:*** Available Device: _DeviceAttributes(/job:worker/replica:0/task:0/device:XLA_CPU:0, XLA_CPU, 0, 0)\n"
          ],
          "name": "stdout"
        },
        {
          "output_type": "stream",
          "text": [
            "INFO:tensorflow:*** Available Device: _DeviceAttributes(/job:worker/replica:0/task:0/device:XLA_CPU:0, XLA_CPU, 0, 0)\n"
          ],
          "name": "stderr"
        }
      ]
    },
    {
      "cell_type": "markdown",
      "metadata": {
        "id": "oHov9Dm8UE9u",
        "colab_type": "text"
      },
      "source": [
        "# Preprocess sentence before prediction"
      ]
    },
    {
      "cell_type": "code",
      "metadata": {
        "id": "3UN3Fa44APq_",
        "colab_type": "code",
        "colab": {}
      },
      "source": [
        "def preprocess_sentence(sentence):\n",
        "  sentence = sentence.lower().strip()\n",
        "  # creating a space between a word and the punctuation following it\n",
        "  # eg: \"he is a boy.\" => \"he is a boy .\"\n",
        "  sentence = re.sub(r\"([?.!,])\", r\" \\1 \", sentence)\n",
        "  sentence = re.sub(r'[\" \"]+', \" \", sentence)\n",
        "  # replacing everything with space except (a-z, A-Z, \".\", \"?\", \"!\", \",\")\n",
        "  sentence = re.sub(r\"[^a-zA-Z?.!,]+\", \" \", sentence)\n",
        "  sentence = sentence.strip()\n",
        "  # adding a start and an end token to the sentence\n",
        "  return sentence\n"
      ],
      "execution_count": 8,
      "outputs": []
    },
    {
      "cell_type": "markdown",
      "metadata": {
        "id": "afYb5Ud_ULD2",
        "colab_type": "text"
      },
      "source": [
        "# Load Saved Tokenizer pickled at the time of training\n",
        "Change paths accordingly as per your saved weigths location"
      ]
    },
    {
      "cell_type": "code",
      "metadata": {
        "id": "RwWWA8CaL8iP",
        "colab_type": "code",
        "colab": {}
      },
      "source": [
        "import pickle\n",
        "with open('/mydrive/My Drive/ChatBot_Trnsfrmer_Taskmaster2/Pretrained_Weights/tokenizer_chatbot.pickle', 'rb') as handle:\n",
        "    tokenizer = pickle.load(handle)\n",
        "\n",
        "VOCAB_SIZE=tokenizer.vocab_size\n",
        "START_TOKEN, END_TOKEN = [tokenizer.vocab_size], [tokenizer.vocab_size+1]\n",
        "MAX_LENGTH = 40\n"
      ],
      "execution_count": 9,
      "outputs": []
    },
    {
      "cell_type": "markdown",
      "metadata": {
        "id": "0imNURFcUiOT",
        "colab_type": "text"
      },
      "source": [
        "# Model Building\n",
        "We need to build complete model architecture and compile to load pre trained weights as we have saved weights only not the complete model."
      ]
    },
    {
      "cell_type": "markdown",
      "metadata": {
        "id": "9YjZrp4e-qOP",
        "colab_type": "text"
      },
      "source": [
        "# Attention Codes"
      ]
    },
    {
      "cell_type": "code",
      "metadata": {
        "id": "AnqDAhUJEg8Y",
        "colab_type": "code",
        "colab": {}
      },
      "source": [
        "def scaled_dot_product_attention(query, key, value, mask):\n",
        "  \"\"\"Calculate the attention weights. \"\"\"\n",
        "  matmul_qk = tf.matmul(query, key, transpose_b=True)\n",
        "\n",
        "  # scale matmul_qk\n",
        "  depth = tf.cast(tf.shape(key)[-1], tf.float32)\n",
        "  logits = matmul_qk / tf.math.sqrt(depth)\n",
        "\n",
        "  # add the mask to zero out padding tokens\n",
        "  if mask is not None:\n",
        "    logits += (mask * -1e9)\n",
        "\n",
        "  # softmax is normalized on the last axis (seq_len_k)\n",
        "  attention_weights = tf.nn.softmax(logits, axis=-1)\n",
        "\n",
        "  output = tf.matmul(attention_weights, value)\n",
        "\n",
        "  return output"
      ],
      "execution_count": 10,
      "outputs": []
    },
    {
      "cell_type": "code",
      "metadata": {
        "id": "45LTs5chExAo",
        "colab_type": "code",
        "colab": {}
      },
      "source": [
        "class MultiHeadAttention(tf.keras.layers.Layer):\n",
        "\n",
        "  def __init__(self, d_model, num_heads, name=\"multi_head_attention\"):\n",
        "    super(MultiHeadAttention, self).__init__(name=name)\n",
        "    self.num_heads = num_heads\n",
        "    self.d_model = d_model\n",
        "\n",
        "    assert d_model % self.num_heads == 0\n",
        "\n",
        "    self.depth = d_model // self.num_heads\n",
        "\n",
        "    self.query_dense = tf.keras.layers.Dense(units=d_model)\n",
        "    self.key_dense = tf.keras.layers.Dense(units=d_model)\n",
        "    self.value_dense = tf.keras.layers.Dense(units=d_model)\n",
        "\n",
        "    self.dense = tf.keras.layers.Dense(units=d_model)\n",
        "\n",
        "  def split_heads(self, inputs, batch_size):\n",
        "    inputs = tf.reshape(\n",
        "        inputs, shape=(batch_size, -1, self.num_heads, self.depth))\n",
        "    return tf.transpose(inputs, perm=[0, 2, 1, 3])\n",
        "\n",
        "  def call(self, inputs):\n",
        "    query, key, value, mask = inputs['query'], inputs['key'], inputs[\n",
        "        'value'], inputs['mask']\n",
        "    batch_size = tf.shape(query)[0]\n",
        "\n",
        "    # linear layers\n",
        "    query = self.query_dense(query)\n",
        "    key = self.key_dense(key)\n",
        "    value = self.value_dense(value)\n",
        "\n",
        "    # split heads\n",
        "    query = self.split_heads(query, batch_size)\n",
        "    key = self.split_heads(key, batch_size)\n",
        "    value = self.split_heads(value, batch_size)\n",
        "\n",
        "    # scaled dot-product attention\n",
        "    scaled_attention = scaled_dot_product_attention(query, key, value, mask)\n",
        "\n",
        "    scaled_attention = tf.transpose(scaled_attention, perm=[0, 2, 1, 3])\n",
        "\n",
        "    # concatenation of heads\n",
        "    concat_attention = tf.reshape(scaled_attention,\n",
        "                                  (batch_size, -1, self.d_model))\n",
        "\n",
        "    # final linear layer\n",
        "    outputs = self.dense(concat_attention)\n",
        "\n",
        "    return outputs"
      ],
      "execution_count": 11,
      "outputs": []
    },
    {
      "cell_type": "markdown",
      "metadata": {
        "id": "_q92zdwH-vfe",
        "colab_type": "text"
      },
      "source": [
        "#Masks as per paper from Transfomers architecture"
      ]
    },
    {
      "cell_type": "code",
      "metadata": {
        "id": "-4VKpsR-FHVv",
        "colab_type": "code",
        "colab": {}
      },
      "source": [
        "def create_padding_mask(x):\n",
        "  mask = tf.cast(tf.math.equal(x, 0), tf.float32)\n",
        "  # (batch_size, 1, 1, sequence length)\n",
        "  return mask[:, tf.newaxis, tf.newaxis, :]"
      ],
      "execution_count": 12,
      "outputs": []
    },
    {
      "cell_type": "code",
      "metadata": {
        "id": "wsaIYkf0FLCa",
        "colab_type": "code",
        "colab": {}
      },
      "source": [
        "def create_look_ahead_mask(x):\n",
        "  seq_len = tf.shape(x)[1]\n",
        "  look_ahead_mask = 1 - tf.linalg.band_part(tf.ones((seq_len, seq_len)), -1, 0)\n",
        "  padding_mask = create_padding_mask(x)\n",
        "  return tf.maximum(look_ahead_mask, padding_mask)"
      ],
      "execution_count": 13,
      "outputs": []
    },
    {
      "cell_type": "markdown",
      "metadata": {
        "id": "p0YVdih7-3Fu",
        "colab_type": "text"
      },
      "source": [
        "#Positional encoding as we are not using RNN/LSTMs."
      ]
    },
    {
      "cell_type": "code",
      "metadata": {
        "id": "1BED5y4YFSPR",
        "colab_type": "code",
        "colab": {}
      },
      "source": [
        "class PositionalEncoding(tf.keras.layers.Layer):\n",
        "\n",
        "  def __init__(self, position, d_model):\n",
        "    super(PositionalEncoding, self).__init__()\n",
        "    self.pos_encoding = self.positional_encoding(position, d_model)\n",
        "\n",
        "  def get_angles(self, position, i, d_model):\n",
        "    angles = 1 / tf.pow(10000, (2 * (i // 2)) / tf.cast(d_model, tf.float32))\n",
        "    return position * angles\n",
        "\n",
        "  def positional_encoding(self, position, d_model):\n",
        "    angle_rads = self.get_angles(\n",
        "        position=tf.range(position, dtype=tf.float32)[:, tf.newaxis],\n",
        "        i=tf.range(d_model, dtype=tf.float32)[tf.newaxis, :],\n",
        "        d_model=d_model)\n",
        "    # apply sin to even index in the array\n",
        "    sines = tf.math.sin(angle_rads[:, 0::2])\n",
        "    # apply cos to odd index in the array\n",
        "    cosines = tf.math.cos(angle_rads[:, 1::2])\n",
        "\n",
        "    pos_encoding = tf.concat([sines, cosines], axis=-1)\n",
        "    pos_encoding = pos_encoding[tf.newaxis, ...]\n",
        "    return tf.cast(pos_encoding, tf.float32)\n",
        "\n",
        "  def call(self, inputs):\n",
        "    return inputs + self.pos_encoding[:, :tf.shape(inputs)[1], :]"
      ],
      "execution_count": 15,
      "outputs": []
    },
    {
      "cell_type": "markdown",
      "metadata": {
        "id": "aONnbQak-_oy",
        "colab_type": "text"
      },
      "source": [
        "#Encoder"
      ]
    },
    {
      "cell_type": "code",
      "metadata": {
        "id": "KqX_dqYCFfeX",
        "colab_type": "code",
        "colab": {}
      },
      "source": [
        "def encoder_layer(units, d_model, num_heads, dropout, name=\"encoder_layer\"):\n",
        "  inputs = tf.keras.Input(shape=(None, d_model), name=\"inputs\")\n",
        "  padding_mask = tf.keras.Input(shape=(1, 1, None), name=\"padding_mask\")\n",
        "\n",
        "  attention = MultiHeadAttention(\n",
        "      d_model, num_heads, name=\"attention\")({\n",
        "          'query': inputs,\n",
        "          'key': inputs,\n",
        "          'value': inputs,\n",
        "          'mask': padding_mask\n",
        "      })\n",
        "  attention = tf.keras.layers.Dropout(rate=dropout)(attention)\n",
        "  attention = tf.keras.layers.LayerNormalization(\n",
        "      epsilon=1e-6)(inputs + attention)\n",
        "\n",
        "  outputs = tf.keras.layers.Dense(units=units, activation='relu')(attention)\n",
        "  outputs = tf.keras.layers.Dense(units=d_model)(outputs)\n",
        "  outputs = tf.keras.layers.Dropout(rate=dropout)(outputs)\n",
        "  outputs = tf.keras.layers.LayerNormalization(\n",
        "      epsilon=1e-6)(attention + outputs)\n",
        "\n",
        "  return tf.keras.Model(\n",
        "      inputs=[inputs, padding_mask], outputs=outputs, name=name)"
      ],
      "execution_count": 16,
      "outputs": []
    },
    {
      "cell_type": "code",
      "metadata": {
        "id": "6tguZtIKFuu3",
        "colab_type": "code",
        "colab": {}
      },
      "source": [
        "def encoder(vocab_size,\n",
        "            num_layers,\n",
        "            units,\n",
        "            d_model,\n",
        "            num_heads,\n",
        "            dropout,\n",
        "            name=\"encoder\"):\n",
        "  inputs = tf.keras.Input(shape=(None,), name=\"inputs\")\n",
        "  padding_mask = tf.keras.Input(shape=(1, 1, None), name=\"padding_mask\")\n",
        "\n",
        "  embeddings = tf.keras.layers.Embedding(vocab_size, d_model)(inputs)\n",
        "  embeddings *= tf.math.sqrt(tf.cast(d_model, tf.float32))\n",
        "  embeddings = PositionalEncoding(vocab_size, d_model)(embeddings)\n",
        "\n",
        "  outputs = tf.keras.layers.Dropout(rate=dropout)(embeddings)\n",
        "\n",
        "  for i in range(num_layers):\n",
        "    outputs = encoder_layer(\n",
        "        units=units,\n",
        "        d_model=d_model,\n",
        "        num_heads=num_heads,\n",
        "        dropout=dropout,\n",
        "        name=\"encoder_layer_{}\".format(i),\n",
        "    )([outputs, padding_mask])\n",
        "\n",
        "  return tf.keras.Model(\n",
        "      inputs=[inputs, padding_mask], outputs=outputs, name=name)"
      ],
      "execution_count": 17,
      "outputs": []
    },
    {
      "cell_type": "markdown",
      "metadata": {
        "id": "VD_xoYPw_CLQ",
        "colab_type": "text"
      },
      "source": [
        "#Decoder"
      ]
    },
    {
      "cell_type": "code",
      "metadata": {
        "id": "X8HFSma3F_pO",
        "colab_type": "code",
        "colab": {}
      },
      "source": [
        "def decoder_layer(units, d_model, num_heads, dropout, name=\"decoder_layer\"):\n",
        "  inputs = tf.keras.Input(shape=(None, d_model), name=\"inputs\")\n",
        "  enc_outputs = tf.keras.Input(shape=(None, d_model), name=\"encoder_outputs\")\n",
        "  look_ahead_mask = tf.keras.Input(\n",
        "      shape=(1, None, None), name=\"look_ahead_mask\")\n",
        "  padding_mask = tf.keras.Input(shape=(1, 1, None), name='padding_mask')\n",
        "\n",
        "  attention1 = MultiHeadAttention(\n",
        "      d_model, num_heads, name=\"attention_1\")(inputs={\n",
        "          'query': inputs,\n",
        "          'key': inputs,\n",
        "          'value': inputs,\n",
        "          'mask': look_ahead_mask\n",
        "      })\n",
        "  attention1 = tf.keras.layers.LayerNormalization(\n",
        "      epsilon=1e-6)(attention1 + inputs)\n",
        "\n",
        "  attention2 = MultiHeadAttention(\n",
        "      d_model, num_heads, name=\"attention_2\")(inputs={\n",
        "          'query': attention1,\n",
        "          'key': enc_outputs,\n",
        "          'value': enc_outputs,\n",
        "          'mask': padding_mask\n",
        "      })\n",
        "  attention2 = tf.keras.layers.Dropout(rate=dropout)(attention2)\n",
        "  attention2 = tf.keras.layers.LayerNormalization(\n",
        "      epsilon=1e-6)(attention2 + attention1)\n",
        "\n",
        "  outputs = tf.keras.layers.Dense(units=units, activation='relu')(attention2)\n",
        "  outputs = tf.keras.layers.Dense(units=d_model)(outputs)\n",
        "  outputs = tf.keras.layers.Dropout(rate=dropout)(outputs)\n",
        "  outputs = tf.keras.layers.LayerNormalization(\n",
        "      epsilon=1e-6)(outputs + attention2)\n",
        "\n",
        "  return tf.keras.Model(\n",
        "      inputs=[inputs, enc_outputs, look_ahead_mask, padding_mask],\n",
        "      outputs=outputs,\n",
        "      name=name)"
      ],
      "execution_count": 18,
      "outputs": []
    },
    {
      "cell_type": "code",
      "metadata": {
        "id": "z73I5VbJGD-2",
        "colab_type": "code",
        "colab": {}
      },
      "source": [
        "def decoder(vocab_size,\n",
        "            num_layers,\n",
        "            units,\n",
        "            d_model,\n",
        "            num_heads,\n",
        "            dropout,\n",
        "            name='decoder'):\n",
        "  inputs = tf.keras.Input(shape=(None,), name='inputs')\n",
        "  enc_outputs = tf.keras.Input(shape=(None, d_model), name='encoder_outputs')\n",
        "  look_ahead_mask = tf.keras.Input(\n",
        "      shape=(1, None, None), name='look_ahead_mask')\n",
        "  padding_mask = tf.keras.Input(shape=(1, 1, None), name='padding_mask')\n",
        "  \n",
        "  embeddings = tf.keras.layers.Embedding(vocab_size, d_model)(inputs)\n",
        "  embeddings *= tf.math.sqrt(tf.cast(d_model, tf.float32))\n",
        "  embeddings = PositionalEncoding(vocab_size, d_model)(embeddings)\n",
        "\n",
        "  outputs = tf.keras.layers.Dropout(rate=dropout)(embeddings)\n",
        "\n",
        "  for i in range(num_layers):\n",
        "    outputs = decoder_layer(\n",
        "        units=units,\n",
        "        d_model=d_model,\n",
        "        num_heads=num_heads,\n",
        "        dropout=dropout,\n",
        "        name='decoder_layer_{}'.format(i),\n",
        "    )(inputs=[outputs, enc_outputs, look_ahead_mask, padding_mask])\n",
        "\n",
        "  return tf.keras.Model(\n",
        "      inputs=[inputs, enc_outputs, look_ahead_mask, padding_mask],\n",
        "      outputs=outputs,\n",
        "      name=name)"
      ],
      "execution_count": 19,
      "outputs": []
    },
    {
      "cell_type": "markdown",
      "metadata": {
        "id": "flHQXSdQ_Ee4",
        "colab_type": "text"
      },
      "source": [
        "#Transformer "
      ]
    },
    {
      "cell_type": "code",
      "metadata": {
        "id": "00cE7vkaGGg-",
        "colab_type": "code",
        "colab": {}
      },
      "source": [
        "def transformer(vocab_size,\n",
        "                num_layers,\n",
        "                units,\n",
        "                d_model,\n",
        "                num_heads,\n",
        "                dropout,\n",
        "                name=\"transformer\"):\n",
        "  inputs = tf.keras.Input(shape=(None,), name=\"inputs\")\n",
        "  dec_inputs = tf.keras.Input(shape=(None,), name=\"dec_inputs\")\n",
        "\n",
        "  enc_padding_mask = tf.keras.layers.Lambda(\n",
        "      create_padding_mask, output_shape=(1, 1, None),\n",
        "      name='enc_padding_mask')(inputs)\n",
        "  # mask the future tokens for decoder inputs at the 1st attention block\n",
        "  look_ahead_mask = tf.keras.layers.Lambda(\n",
        "      create_look_ahead_mask,\n",
        "      output_shape=(1, None, None),\n",
        "      name='look_ahead_mask')(dec_inputs)\n",
        "  # mask the encoder outputs for the 2nd attention block\n",
        "  dec_padding_mask = tf.keras.layers.Lambda(\n",
        "      create_padding_mask, output_shape=(1, 1, None),\n",
        "      name='dec_padding_mask')(inputs)\n",
        "  \n",
        "  enc_outputs = encoder(\n",
        "      vocab_size=vocab_size,\n",
        "      num_layers=num_layers,\n",
        "      units=units,\n",
        "      d_model=d_model,\n",
        "      num_heads=num_heads,\n",
        "      dropout=dropout,\n",
        "    )(inputs=[inputs, enc_padding_mask])\n",
        "\n",
        "  dec_outputs = decoder(\n",
        "      vocab_size=vocab_size,\n",
        "      num_layers=num_layers,\n",
        "      units=units,\n",
        "      d_model=d_model,\n",
        "      num_heads=num_heads,\n",
        "      dropout=dropout,\n",
        "    )(inputs=[dec_inputs, enc_outputs, look_ahead_mask, dec_padding_mask])\n",
        "\n",
        "  outputs = tf.keras.layers.Dense(units=vocab_size, name=\"outputs\")(dec_outputs)\n",
        "\n",
        "  return tf.keras.Model(inputs=[inputs, dec_inputs], outputs=outputs, name=name)\n",
        "  "
      ],
      "execution_count": 20,
      "outputs": []
    },
    {
      "cell_type": "markdown",
      "metadata": {
        "id": "iwkc16a5_IMK",
        "colab_type": "text"
      },
      "source": [
        "# Hyperparameters"
      ]
    },
    {
      "cell_type": "code",
      "metadata": {
        "id": "C1VBZCQjGUlx",
        "colab_type": "code",
        "colab": {}
      },
      "source": [
        "tf.keras.backend.clear_session()\n",
        "\n",
        "# Hyper-parameters\n",
        "NUM_LAYERS = 6 #2,6\n",
        "D_MODEL = 256\n",
        "NUM_HEADS = 8  #8\n",
        "UNITS = 512\n",
        "DROPOUT = 0.1\n",
        "\n"
      ],
      "execution_count": 21,
      "outputs": []
    },
    {
      "cell_type": "markdown",
      "metadata": {
        "id": "R1DUGnwn_MO-",
        "colab_type": "text"
      },
      "source": [
        "#Loss Function,Accuracy and Custom learning rate scheduler\n",
        "Feel free to experiment with learning rate "
      ]
    },
    {
      "cell_type": "code",
      "metadata": {
        "id": "QiTRJel9Ga8f",
        "colab_type": "code",
        "colab": {}
      },
      "source": [
        "def loss_function(y_true, y_pred):\n",
        "  y_true = tf.reshape(y_true, shape=(-1, MAX_LENGTH - 1))\n",
        "  \n",
        "  loss = tf.keras.losses.SparseCategoricalCrossentropy(\n",
        "      from_logits=True, reduction='none')(y_true, y_pred)\n",
        "\n",
        "  mask = tf.cast(tf.not_equal(y_true, 0), tf.float32)\n",
        "  loss = tf.multiply(loss, mask)\n",
        "\n",
        "  return tf.reduce_mean(loss)"
      ],
      "execution_count": 22,
      "outputs": []
    },
    {
      "cell_type": "code",
      "metadata": {
        "id": "ycxhBOxYGcue",
        "colab_type": "code",
        "colab": {}
      },
      "source": [
        "class CustomSchedule(tf.keras.optimizers.schedules.LearningRateSchedule):\n",
        "\n",
        "  def __init__(self, d_model, warmup_steps=4000):\n",
        "    super(CustomSchedule, self).__init__()\n",
        "\n",
        "    self.d_model = d_model\n",
        "    self.d_model = tf.cast(self.d_model, tf.float32)\n",
        "\n",
        "    self.warmup_steps = warmup_steps\n",
        "\n",
        "  def __call__(self, step):\n",
        "    arg1 = tf.math.rsqrt(step)\n",
        "    arg2 = step * (self.warmup_steps**-1.5)\n",
        "\n",
        "    return tf.math.rsqrt(self.d_model) * tf.math.minimum(arg1, arg2)"
      ],
      "execution_count": 23,
      "outputs": []
    },
    {
      "cell_type": "code",
      "metadata": {
        "id": "DrUssHnwGlCI",
        "colab_type": "code",
        "colab": {}
      },
      "source": [
        "import datetime\n",
        "learning_rate = CustomSchedule(D_MODEL)\n",
        "\n",
        "optimizer = tf.keras.optimizers.Adam(\n",
        "    learning_rate, beta_1=0.9, beta_2=0.98, epsilon=1e-9)\n",
        "\n",
        "def accuracy(y_true, y_pred):\n",
        "  # ensure labels have shape (batch_size, MAX_LENGTH - 1)\n",
        "  y_true = tf.reshape(y_true, shape=(-1, MAX_LENGTH - 1))\n",
        "  return tf.keras.metrics.sparse_categorical_accuracy(y_true, y_pred)\n",
        "\n",
        "\n"
      ],
      "execution_count": 24,
      "outputs": []
    },
    {
      "cell_type": "markdown",
      "metadata": {
        "id": "tbkcnqpx_Veb",
        "colab_type": "text"
      },
      "source": [
        "#Building model with TPU strategy"
      ]
    },
    {
      "cell_type": "code",
      "metadata": {
        "id": "NqFNX-Ovo278",
        "colab_type": "code",
        "colab": {}
      },
      "source": [
        "with strategy.scope():\n",
        "  model = transformer(\n",
        "    vocab_size=VOCAB_SIZE,\n",
        "    num_layers=NUM_LAYERS,\n",
        "    units=UNITS,\n",
        "    d_model=D_MODEL,\n",
        "    num_heads=NUM_HEADS,\n",
        "    dropout=DROPOUT)\n",
        "  model.compile(optimizer=optimizer, loss=loss_function, metrics=[accuracy])"
      ],
      "execution_count": 25,
      "outputs": []
    },
    {
      "cell_type": "markdown",
      "metadata": {
        "id": "yoPrGD6KU9xe",
        "colab_type": "text"
      },
      "source": [
        "# Load Pre trained weights from h5 file provided\n",
        "Change saved paths accordingly"
      ]
    },
    {
      "cell_type": "code",
      "metadata": {
        "id": "_JT7kaSUMXCD",
        "colab_type": "code",
        "colab": {}
      },
      "source": [
        "model.load_weights('/mydrive/My Drive/ChatBot_Trnsfrmer_Taskmaster2/Pretrained_Weights/chat_trnsfrmer.h5')"
      ],
      "execution_count": 26,
      "outputs": []
    },
    {
      "cell_type": "markdown",
      "metadata": {
        "id": "rV5pXEmF_kmY",
        "colab_type": "text"
      },
      "source": [
        "#Evaluation and Prediction"
      ]
    },
    {
      "cell_type": "code",
      "metadata": {
        "id": "w2W874bBHCXu",
        "colab_type": "code",
        "colab": {}
      },
      "source": [
        "def evaluate(sentence):\n",
        "  sentence = preprocess_sentence(sentence)\n",
        "\n",
        "  sentence = tf.expand_dims(\n",
        "      START_TOKEN + tokenizer.encode(sentence) + END_TOKEN, axis=0)\n",
        "\n",
        "  output = tf.expand_dims(START_TOKEN, 0)\n",
        "\n",
        "  for i in range(MAX_LENGTH):\n",
        "    predictions = model(inputs=[sentence, output], training=False)\n",
        "\n",
        "    # select the last word from the seq_len dimension\n",
        "    predictions = predictions[:, -1:, :]\n",
        "    predicted_id = tf.cast(tf.argmax(predictions, axis=-1), tf.int32)\n",
        "\n",
        "    # return the result if the predicted_id is equal to the end token\n",
        "    if tf.equal(predicted_id, END_TOKEN[0]):\n",
        "      break\n",
        "\n",
        "    # concatenated the predicted_id to the output which is given to the decoder\n",
        "    # as its input.\n",
        "    output = tf.concat([output, predicted_id], axis=-1)\n",
        "\n",
        "  return tf.squeeze(output, axis=0)\n",
        "\n",
        "\n",
        "def predict(sentence):\n",
        "  prediction = evaluate(sentence)\n",
        "\n",
        "  predicted_sentence = tokenizer.decode(\n",
        "      [i for i in prediction if i < tokenizer.vocab_size])\n",
        "\n",
        "  print('You: {}'.format(sentence))\n",
        "  print('Assistant: {}'.format(predicted_sentence))\n",
        "\n",
        "  return predicted_sentence"
      ],
      "execution_count": 27,
      "outputs": []
    },
    {
      "cell_type": "markdown",
      "metadata": {
        "id": "huW0P_gJ_tcl",
        "colab_type": "text"
      },
      "source": [
        "# Test Model responses in Text"
      ]
    },
    {
      "cell_type": "code",
      "metadata": {
        "id": "fFpmbuOWHMzl",
        "colab_type": "code",
        "colab": {
          "base_uri": "https://localhost:8080/",
          "height": 51
        },
        "outputId": "8ee9d7bb-7b85-4b09-e8be-947de2de3eb7"
      },
      "source": [
        "output = predict('i would like to order food')"
      ],
      "execution_count": 28,
      "outputs": [
        {
          "output_type": "stream",
          "text": [
            "You: i would like to order food\n",
            "Assistant: what type of food would you like ?\n"
          ],
          "name": "stdout"
        }
      ]
    },
    {
      "cell_type": "markdown",
      "metadata": {
        "id": "jXIGmN_ECxM6",
        "colab_type": "text"
      },
      "source": [
        "# Setting Up Browser Speech recognition\n",
        "\n"
      ]
    },
    {
      "cell_type": "code",
      "metadata": {
        "id": "o3a2-ztC_iCD",
        "colab_type": "code",
        "colab": {}
      },
      "source": [
        "AUDIO_HTML = \"\"\"\n",
        "<script>\n",
        "var my_div = document.createElement(\"DIV\");\n",
        "var my_p = document.createElement(\"P\");\n",
        "var my_btn = document.createElement(\"BUTTON\");\n",
        "var t = document.createTextNode(\"Listening you..\");\n",
        "\n",
        "my_btn.appendChild(t);\n",
        "//my_p.appendChild(my_btn);\n",
        "my_div.appendChild(my_btn);\n",
        "document.body.appendChild(my_div);\n",
        "\n",
        "var base64data = 0;\n",
        "var reader;\n",
        "var recorder, gumStream;\n",
        "var recordButton = my_btn;\n",
        "\n",
        "var handleSuccess = function(stream) {\n",
        "  gumStream = stream;\n",
        "  var options = {\n",
        "    //bitsPerSecond: 8000, //chrome seems to ignore, always 48k\n",
        "    mimeType : 'audio/webm;codecs=opus'\n",
        "    //mimeType : 'audio/webm;codecs=pcm'\n",
        "  };            \n",
        "  //recorder = new MediaRecorder(stream, options);\n",
        "  recorder = new MediaRecorder(stream);\n",
        "  recorder.ondataavailable = function(e) {            \n",
        "    var url = URL.createObjectURL(e.data);\n",
        "    var preview = document.createElement('audio');\n",
        "    preview.controls = true;\n",
        "    preview.src = url;\n",
        "    document.body.appendChild(preview);\n",
        "\n",
        "    reader = new FileReader();\n",
        "    reader.readAsDataURL(e.data); \n",
        "    reader.onloadend = function() {\n",
        "      base64data = reader.result;\n",
        "      //console.log(\"Inside FileReader:\" + base64data);\n",
        "    }\n",
        "  };\n",
        "  recorder.start();\n",
        "  };\n",
        "\n",
        "recordButton.innerText = \"Listening you... press to stop\";\n",
        "\n",
        "navigator.mediaDevices.getUserMedia({audio: true}).then(handleSuccess);\n",
        "\n",
        "\n",
        "function toggleRecording() {\n",
        "  if (recorder && recorder.state == \"recording\") {\n",
        "      recorder.stop();\n",
        "      gumStream.getAudioTracks()[0].stop();\n",
        "      recordButton.innerText = \"Responding... pls wait!\"\n",
        "  }\n",
        "}\n",
        "\n",
        "// https://stackoverflow.com/a/951057\n",
        "function sleep(ms) {\n",
        "  return new Promise(resolve => setTimeout(resolve, ms));\n",
        "}\n",
        "\n",
        "var data = new Promise(resolve=>{\n",
        "//recordButton.addEventListener(\"click\", toggleRecording);\n",
        "recordButton.onclick = ()=>{\n",
        "toggleRecording()\n",
        "\n",
        "sleep(2000).then(() => {\n",
        "  // wait 2000ms for the data to be available...\n",
        "  // ideally this should use something like await...\n",
        "  //console.log(\"Inside data:\" + base64data)\n",
        "  resolve(base64data.toString())\n",
        "\n",
        "});\n",
        "\n",
        "}\n",
        "});\n",
        "      \n",
        "</script>\n",
        "\"\"\"\n",
        "\n",
        "def get_audio():\n",
        "  display(HTML(AUDIO_HTML))\n",
        "  data = eval_js(\"data\")\n",
        "  binary = b64decode(data.split(',')[1])\n",
        "  \n",
        "  process = (ffmpeg\n",
        "    .input('pipe:0')\n",
        "    .output('pipe:1', format='wav')\n",
        "    .run_async(pipe_stdin=True, pipe_stdout=True, pipe_stderr=True, quiet=True, overwrite_output=True)\n",
        "  )\n",
        "  output, err = process.communicate(input=binary)\n",
        "  \n",
        "  riff_chunk_size = len(output) - 8\n",
        "  # Break up the chunk size into four bytes, held in b.\n",
        "  q = riff_chunk_size\n",
        "  b = []\n",
        "  for i in range(4):\n",
        "      q, r = divmod(q, 256)\n",
        "      b.append(r)\n",
        "\n",
        "  # Replace bytes 4:8 in proc.stdout with the actual size of the RIFF chunk.\n",
        "  riff = output[:4] + bytes(b) + output[8:]\n",
        "\n",
        "  sr, audio = wav_read(io.BytesIO(riff))\n",
        "\n",
        "  return audio,sr"
      ],
      "execution_count": 29,
      "outputs": []
    },
    {
      "cell_type": "code",
      "metadata": {
        "id": "IsFps6GS_tK6",
        "colab_type": "code",
        "colab": {}
      },
      "source": [
        "\n",
        "def record_write_wav():\n",
        " \n",
        "  audio,sr= get_audio()\n",
        "  scipy.io.wavfile.write(\"recording.wav\", sr, audio)\n",
        "\n",
        "\n",
        "import speech_recognition as sr\n",
        "def recognize():\n",
        "  r = sr.Recognizer()\n",
        "  with sr.AudioFile(\"recording.wav\") as source:\n",
        "    audio = r.record(source)  # read the entire audio file\n",
        "\n",
        "\n",
        "# recognize speech using Google Speech Recognition\n",
        "  try:\n",
        "    # for testing purposes, we're just using the default API key\n",
        "    # to use another API key, use `r.recognize_google(audio, key=\"GOOGLE_SPEECH_RECOGNITION_API_KEY\")`\n",
        "    # instead of `r.recognize_google(audio)`\n",
        "    output=r.recognize_google(audio)\n",
        "    #print(\"Google Speech Recognition thinks you said \" + output)\n",
        "    return output\n",
        "\n",
        "  except sr.UnknownValueError:\n",
        "    print(\"Google Speech Recognition could not understand audio\")\n",
        "  except sr.RequestError as e:\n",
        "    print(\"Could not request results from Google Speech Recognition service; {0}\".format(e))"
      ],
      "execution_count": 30,
      "outputs": []
    },
    {
      "cell_type": "code",
      "metadata": {
        "id": "vhsoK8Tx_286",
        "colab_type": "code",
        "colab": {}
      },
      "source": [
        "def Convert_Speech_to_Text():\n",
        "  #audio,sr= get_audio()\n",
        "  record_write_wav()\n",
        "  output=recognize()\n",
        "  return output\n"
      ],
      "execution_count": 31,
      "outputs": []
    },
    {
      "cell_type": "code",
      "metadata": {
        "id": "nmgvYd_H2sxv",
        "colab_type": "code",
        "colab": {}
      },
      "source": [
        "def Start_Talking():\n",
        "  User=Convert_Speech_to_Text()\n",
        "  #print(User)\n",
        "  if(User==\"stop\"):\n",
        "    return \"stop\"\n",
        "  \n",
        "  Response=predict(User)\n",
        " \n",
        "  tts = gTTS(Response) #Provide the string to convert to speech\n",
        "  tts.save('1.wav') #save the string converted to speech as a .wav file\n",
        "  sound_file = '1.wav'\n",
        "  display(Audio(sound_file,autoplay=True))\n",
        "  return User\n",
        "  \n",
        "  \n",
        "\n"
      ],
      "execution_count": 32,
      "outputs": []
    },
    {
      "cell_type": "code",
      "metadata": {
        "id": "0BotVEqh_hz2",
        "colab_type": "code",
        "colab": {}
      },
      "source": [
        "def Speak_Fixed(sent):\n",
        "  tts = gTTS(sent) #Provide the string to convert to speech\n",
        "  tts.save('2.wav') #save the string converted to speech as a .wav file\n",
        "  bye_file = '2.wav'\n",
        "  display(Audio(bye_file,autoplay=True))"
      ],
      "execution_count": 35,
      "outputs": []
    },
    {
      "cell_type": "markdown",
      "metadata": {
        "id": "XnTLhBZl-V53",
        "colab_type": "text"
      },
      "source": [
        "# Enjoy talking to your assistant"
      ]
    },
    {
      "cell_type": "code",
      "metadata": {
        "id": "UQ6swe7o_5k7",
        "colab_type": "code",
        "colab": {
          "base_uri": "https://localhost:8080/",
          "height": 1000
        },
        "outputId": "bdca4b86-f769-487d-8e34-08209d9bc72f"
      },
      "source": [
        "while(True):\n",
        "  Command=Start_Talking()\n",
        "  if(Command==\"stop\"):\n",
        "    Speak_Fixed(\"It was nice talking to you, Have a nice day\")\n",
        "    break\n",
        "  \n",
        "  "
      ],
      "execution_count": 44,
      "outputs": [
        {
          "output_type": "display_data",
          "data": {
            "text/html": [
              "\n",
              "<script>\n",
              "var my_div = document.createElement(\"DIV\");\n",
              "var my_p = document.createElement(\"P\");\n",
              "var my_btn = document.createElement(\"BUTTON\");\n",
              "var t = document.createTextNode(\"Listening you..\");\n",
              "\n",
              "my_btn.appendChild(t);\n",
              "//my_p.appendChild(my_btn);\n",
              "my_div.appendChild(my_btn);\n",
              "document.body.appendChild(my_div);\n",
              "\n",
              "var base64data = 0;\n",
              "var reader;\n",
              "var recorder, gumStream;\n",
              "var recordButton = my_btn;\n",
              "\n",
              "var handleSuccess = function(stream) {\n",
              "  gumStream = stream;\n",
              "  var options = {\n",
              "    //bitsPerSecond: 8000, //chrome seems to ignore, always 48k\n",
              "    mimeType : 'audio/webm;codecs=opus'\n",
              "    //mimeType : 'audio/webm;codecs=pcm'\n",
              "  };            \n",
              "  //recorder = new MediaRecorder(stream, options);\n",
              "  recorder = new MediaRecorder(stream);\n",
              "  recorder.ondataavailable = function(e) {            \n",
              "    var url = URL.createObjectURL(e.data);\n",
              "    var preview = document.createElement('audio');\n",
              "    preview.controls = true;\n",
              "    preview.src = url;\n",
              "    document.body.appendChild(preview);\n",
              "\n",
              "    reader = new FileReader();\n",
              "    reader.readAsDataURL(e.data); \n",
              "    reader.onloadend = function() {\n",
              "      base64data = reader.result;\n",
              "      //console.log(\"Inside FileReader:\" + base64data);\n",
              "    }\n",
              "  };\n",
              "  recorder.start();\n",
              "  };\n",
              "\n",
              "recordButton.innerText = \"Listening you... press to stop\";\n",
              "\n",
              "navigator.mediaDevices.getUserMedia({audio: true}).then(handleSuccess);\n",
              "\n",
              "\n",
              "function toggleRecording() {\n",
              "  if (recorder && recorder.state == \"recording\") {\n",
              "      recorder.stop();\n",
              "      gumStream.getAudioTracks()[0].stop();\n",
              "      recordButton.innerText = \"Responding... pls wait!\"\n",
              "  }\n",
              "}\n",
              "\n",
              "// https://stackoverflow.com/a/951057\n",
              "function sleep(ms) {\n",
              "  return new Promise(resolve => setTimeout(resolve, ms));\n",
              "}\n",
              "\n",
              "var data = new Promise(resolve=>{\n",
              "//recordButton.addEventListener(\"click\", toggleRecording);\n",
              "recordButton.onclick = ()=>{\n",
              "toggleRecording()\n",
              "\n",
              "sleep(2000).then(() => {\n",
              "  // wait 2000ms for the data to be available...\n",
              "  // ideally this should use something like await...\n",
              "  //console.log(\"Inside data:\" + base64data)\n",
              "  resolve(base64data.toString())\n",
              "\n",
              "});\n",
              "\n",
              "}\n",
              "});\n",
              "      \n",
              "</script>\n"
            ],
            "text/plain": [
              "<IPython.core.display.HTML object>"
            ]
          },
          "metadata": {
            "tags": []
          }
        },
        {
          "output_type": "stream",
          "text": [
            "You: recommend me some movies\n",
            "Assistant: sure , i can help with that . what kind of movie are you in the mood for ?\n"
          ],
          "name": "stdout"
        },
        {
          "output_type": "display_data",
          "data": {
            "text/html": [
              "\n",
              "                <audio controls=\"controls\" autoplay=\"autoplay\">\n",
              "                    <source src=\"data:audio/x-wav;base64,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\" type=\"audio/x-wav\" />\n",
              "                    Your browser does not support the audio element.\n",
              "                </audio>\n",
              "              "
            ],
            "text/plain": [
              "<IPython.lib.display.Audio object>"
            ]
          },
          "metadata": {
            "tags": []
          }
        },
        {
          "output_type": "display_data",
          "data": {
            "text/html": [
              "\n",
              "<script>\n",
              "var my_div = document.createElement(\"DIV\");\n",
              "var my_p = document.createElement(\"P\");\n",
              "var my_btn = document.createElement(\"BUTTON\");\n",
              "var t = document.createTextNode(\"Listening you..\");\n",
              "\n",
              "my_btn.appendChild(t);\n",
              "//my_p.appendChild(my_btn);\n",
              "my_div.appendChild(my_btn);\n",
              "document.body.appendChild(my_div);\n",
              "\n",
              "var base64data = 0;\n",
              "var reader;\n",
              "var recorder, gumStream;\n",
              "var recordButton = my_btn;\n",
              "\n",
              "var handleSuccess = function(stream) {\n",
              "  gumStream = stream;\n",
              "  var options = {\n",
              "    //bitsPerSecond: 8000, //chrome seems to ignore, always 48k\n",
              "    mimeType : 'audio/webm;codecs=opus'\n",
              "    //mimeType : 'audio/webm;codecs=pcm'\n",
              "  };            \n",
              "  //recorder = new MediaRecorder(stream, options);\n",
              "  recorder = new MediaRecorder(stream);\n",
              "  recorder.ondataavailable = function(e) {            \n",
              "    var url = URL.createObjectURL(e.data);\n",
              "    var preview = document.createElement('audio');\n",
              "    preview.controls = true;\n",
              "    preview.src = url;\n",
              "    document.body.appendChild(preview);\n",
              "\n",
              "    reader = new FileReader();\n",
              "    reader.readAsDataURL(e.data); \n",
              "    reader.onloadend = function() {\n",
              "      base64data = reader.result;\n",
              "      //console.log(\"Inside FileReader:\" + base64data);\n",
              "    }\n",
              "  };\n",
              "  recorder.start();\n",
              "  };\n",
              "\n",
              "recordButton.innerText = \"Listening you... press to stop\";\n",
              "\n",
              "navigator.mediaDevices.getUserMedia({audio: true}).then(handleSuccess);\n",
              "\n",
              "\n",
              "function toggleRecording() {\n",
              "  if (recorder && recorder.state == \"recording\") {\n",
              "      recorder.stop();\n",
              "      gumStream.getAudioTracks()[0].stop();\n",
              "      recordButton.innerText = \"Responding... pls wait!\"\n",
              "  }\n",
              "}\n",
              "\n",
              "// https://stackoverflow.com/a/951057\n",
              "function sleep(ms) {\n",
              "  return new Promise(resolve => setTimeout(resolve, ms));\n",
              "}\n",
              "\n",
              "var data = new Promise(resolve=>{\n",
              "//recordButton.addEventListener(\"click\", toggleRecording);\n",
              "recordButton.onclick = ()=>{\n",
              "toggleRecording()\n",
              "\n",
              "sleep(2000).then(() => {\n",
              "  // wait 2000ms for the data to be available...\n",
              "  // ideally this should use something like await...\n",
              "  //console.log(\"Inside data:\" + base64data)\n",
              "  resolve(base64data.toString())\n",
              "\n",
              "});\n",
              "\n",
              "}\n",
              "});\n",
              "      \n",
              "</script>\n"
            ],
            "text/plain": [
              "<IPython.core.display.HTML object>"
            ]
          },
          "metadata": {
            "tags": []
          }
        },
        {
          "output_type": "stream",
          "text": [
            "You: what is a verb\n",
            "Assistant: here is the video .\n"
          ],
          "name": "stdout"
        },
        {
          "output_type": "display_data",
          "data": {
            "text/html": [
              "\n",
              "                <audio controls=\"controls\" autoplay=\"autoplay\">\n",
              "                    <source src=\"data:audio/x-wav;base64,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\" type=\"audio/x-wav\" />\n",
              "                    Your browser does not support the audio element.\n",
              "                </audio>\n",
              "              "
            ],
            "text/plain": [
              "<IPython.lib.display.Audio object>"
            ]
          },
          "metadata": {
            "tags": []
          }
        },
        {
          "output_type": "display_data",
          "data": {
            "text/html": [
              "\n",
              "<script>\n",
              "var my_div = document.createElement(\"DIV\");\n",
              "var my_p = document.createElement(\"P\");\n",
              "var my_btn = document.createElement(\"BUTTON\");\n",
              "var t = document.createTextNode(\"Listening you..\");\n",
              "\n",
              "my_btn.appendChild(t);\n",
              "//my_p.appendChild(my_btn);\n",
              "my_div.appendChild(my_btn);\n",
              "document.body.appendChild(my_div);\n",
              "\n",
              "var base64data = 0;\n",
              "var reader;\n",
              "var recorder, gumStream;\n",
              "var recordButton = my_btn;\n",
              "\n",
              "var handleSuccess = function(stream) {\n",
              "  gumStream = stream;\n",
              "  var options = {\n",
              "    //bitsPerSecond: 8000, //chrome seems to ignore, always 48k\n",
              "    mimeType : 'audio/webm;codecs=opus'\n",
              "    //mimeType : 'audio/webm;codecs=pcm'\n",
              "  };            \n",
              "  //recorder = new MediaRecorder(stream, options);\n",
              "  recorder = new MediaRecorder(stream);\n",
              "  recorder.ondataavailable = function(e) {            \n",
              "    var url = URL.createObjectURL(e.data);\n",
              "    var preview = document.createElement('audio');\n",
              "    preview.controls = true;\n",
              "    preview.src = url;\n",
              "    document.body.appendChild(preview);\n",
              "\n",
              "    reader = new FileReader();\n",
              "    reader.readAsDataURL(e.data); \n",
              "    reader.onloadend = function() {\n",
              "      base64data = reader.result;\n",
              "      //console.log(\"Inside FileReader:\" + base64data);\n",
              "    }\n",
              "  };\n",
              "  recorder.start();\n",
              "  };\n",
              "\n",
              "recordButton.innerText = \"Listening you... press to stop\";\n",
              "\n",
              "navigator.mediaDevices.getUserMedia({audio: true}).then(handleSuccess);\n",
              "\n",
              "\n",
              "function toggleRecording() {\n",
              "  if (recorder && recorder.state == \"recording\") {\n",
              "      recorder.stop();\n",
              "      gumStream.getAudioTracks()[0].stop();\n",
              "      recordButton.innerText = \"Responding... pls wait!\"\n",
              "  }\n",
              "}\n",
              "\n",
              "// https://stackoverflow.com/a/951057\n",
              "function sleep(ms) {\n",
              "  return new Promise(resolve => setTimeout(resolve, ms));\n",
              "}\n",
              "\n",
              "var data = new Promise(resolve=>{\n",
              "//recordButton.addEventListener(\"click\", toggleRecording);\n",
              "recordButton.onclick = ()=>{\n",
              "toggleRecording()\n",
              "\n",
              "sleep(2000).then(() => {\n",
              "  // wait 2000ms for the data to be available...\n",
              "  // ideally this should use something like await...\n",
              "  //console.log(\"Inside data:\" + base64data)\n",
              "  resolve(base64data.toString())\n",
              "\n",
              "});\n",
              "\n",
              "}\n",
              "});\n",
              "      \n",
              "</script>\n"
            ],
            "text/plain": [
              "<IPython.core.display.HTML object>"
            ]
          },
          "metadata": {
            "tags": []
          }
        },
        {
          "output_type": "stream",
          "text": [
            "You: show me the video\n",
            "Assistant: here is the video .\n"
          ],
          "name": "stdout"
        },
        {
          "output_type": "display_data",
          "data": {
            "text/html": [
              "\n",
              "                <audio controls=\"controls\" autoplay=\"autoplay\">\n",
              "                    <source src=\"data:audio/x-wav;base64,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\" type=\"audio/x-wav\" />\n",
              "                    Your browser does not support the audio element.\n",
              "                </audio>\n",
              "              "
            ],
            "text/plain": [
              "<IPython.lib.display.Audio object>"
            ]
          },
          "metadata": {
            "tags": []
          }
        },
        {
          "output_type": "display_data",
          "data": {
            "text/html": [
              "\n",
              "<script>\n",
              "var my_div = document.createElement(\"DIV\");\n",
              "var my_p = document.createElement(\"P\");\n",
              "var my_btn = document.createElement(\"BUTTON\");\n",
              "var t = document.createTextNode(\"Listening you..\");\n",
              "\n",
              "my_btn.appendChild(t);\n",
              "//my_p.appendChild(my_btn);\n",
              "my_div.appendChild(my_btn);\n",
              "document.body.appendChild(my_div);\n",
              "\n",
              "var base64data = 0;\n",
              "var reader;\n",
              "var recorder, gumStream;\n",
              "var recordButton = my_btn;\n",
              "\n",
              "var handleSuccess = function(stream) {\n",
              "  gumStream = stream;\n",
              "  var options = {\n",
              "    //bitsPerSecond: 8000, //chrome seems to ignore, always 48k\n",
              "    mimeType : 'audio/webm;codecs=opus'\n",
              "    //mimeType : 'audio/webm;codecs=pcm'\n",
              "  };            \n",
              "  //recorder = new MediaRecorder(stream, options);\n",
              "  recorder = new MediaRecorder(stream);\n",
              "  recorder.ondataavailable = function(e) {            \n",
              "    var url = URL.createObjectURL(e.data);\n",
              "    var preview = document.createElement('audio');\n",
              "    preview.controls = true;\n",
              "    preview.src = url;\n",
              "    document.body.appendChild(preview);\n",
              "\n",
              "    reader = new FileReader();\n",
              "    reader.readAsDataURL(e.data); \n",
              "    reader.onloadend = function() {\n",
              "      base64data = reader.result;\n",
              "      //console.log(\"Inside FileReader:\" + base64data);\n",
              "    }\n",
              "  };\n",
              "  recorder.start();\n",
              "  };\n",
              "\n",
              "recordButton.innerText = \"Listening you... press to stop\";\n",
              "\n",
              "navigator.mediaDevices.getUserMedia({audio: true}).then(handleSuccess);\n",
              "\n",
              "\n",
              "function toggleRecording() {\n",
              "  if (recorder && recorder.state == \"recording\") {\n",
              "      recorder.stop();\n",
              "      gumStream.getAudioTracks()[0].stop();\n",
              "      recordButton.innerText = \"Responding... pls wait!\"\n",
              "  }\n",
              "}\n",
              "\n",
              "// https://stackoverflow.com/a/951057\n",
              "function sleep(ms) {\n",
              "  return new Promise(resolve => setTimeout(resolve, ms));\n",
              "}\n",
              "\n",
              "var data = new Promise(resolve=>{\n",
              "//recordButton.addEventListener(\"click\", toggleRecording);\n",
              "recordButton.onclick = ()=>{\n",
              "toggleRecording()\n",
              "\n",
              "sleep(2000).then(() => {\n",
              "  // wait 2000ms for the data to be available...\n",
              "  // ideally this should use something like await...\n",
              "  //console.log(\"Inside data:\" + base64data)\n",
              "  resolve(base64data.toString())\n",
              "\n",
              "});\n",
              "\n",
              "}\n",
              "});\n",
              "      \n",
              "</script>\n"
            ],
            "text/plain": [
              "<IPython.core.display.HTML object>"
            ]
          },
          "metadata": {
            "tags": []
          }
        },
        {
          "output_type": "stream",
          "text": [
            "You: I want to book a ticket for movie near me\n",
            "Assistant: okay , what type of movie would you like to see ?\n"
          ],
          "name": "stdout"
        },
        {
          "output_type": "display_data",
          "data": {
            "text/html": [
              "\n",
              "                <audio controls=\"controls\" autoplay=\"autoplay\">\n",
              "                    <source src=\"data:audio/x-wav;base64,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\" type=\"audio/x-wav\" />\n",
              "                    Your browser does not support the audio element.\n",
              "                </audio>\n",
              "              "
            ],
            "text/plain": [
              "<IPython.lib.display.Audio object>"
            ]
          },
          "metadata": {
            "tags": []
          }
        },
        {
          "output_type": "display_data",
          "data": {
            "text/html": [
              "\n",
              "<script>\n",
              "var my_div = document.createElement(\"DIV\");\n",
              "var my_p = document.createElement(\"P\");\n",
              "var my_btn = document.createElement(\"BUTTON\");\n",
              "var t = document.createTextNode(\"Listening you..\");\n",
              "\n",
              "my_btn.appendChild(t);\n",
              "//my_p.appendChild(my_btn);\n",
              "my_div.appendChild(my_btn);\n",
              "document.body.appendChild(my_div);\n",
              "\n",
              "var base64data = 0;\n",
              "var reader;\n",
              "var recorder, gumStream;\n",
              "var recordButton = my_btn;\n",
              "\n",
              "var handleSuccess = function(stream) {\n",
              "  gumStream = stream;\n",
              "  var options = {\n",
              "    //bitsPerSecond: 8000, //chrome seems to ignore, always 48k\n",
              "    mimeType : 'audio/webm;codecs=opus'\n",
              "    //mimeType : 'audio/webm;codecs=pcm'\n",
              "  };            \n",
              "  //recorder = new MediaRecorder(stream, options);\n",
              "  recorder = new MediaRecorder(stream);\n",
              "  recorder.ondataavailable = function(e) {            \n",
              "    var url = URL.createObjectURL(e.data);\n",
              "    var preview = document.createElement('audio');\n",
              "    preview.controls = true;\n",
              "    preview.src = url;\n",
              "    document.body.appendChild(preview);\n",
              "\n",
              "    reader = new FileReader();\n",
              "    reader.readAsDataURL(e.data); \n",
              "    reader.onloadend = function() {\n",
              "      base64data = reader.result;\n",
              "      //console.log(\"Inside FileReader:\" + base64data);\n",
              "    }\n",
              "  };\n",
              "  recorder.start();\n",
              "  };\n",
              "\n",
              "recordButton.innerText = \"Listening you... press to stop\";\n",
              "\n",
              "navigator.mediaDevices.getUserMedia({audio: true}).then(handleSuccess);\n",
              "\n",
              "\n",
              "function toggleRecording() {\n",
              "  if (recorder && recorder.state == \"recording\") {\n",
              "      recorder.stop();\n",
              "      gumStream.getAudioTracks()[0].stop();\n",
              "      recordButton.innerText = \"Responding... pls wait!\"\n",
              "  }\n",
              "}\n",
              "\n",
              "// https://stackoverflow.com/a/951057\n",
              "function sleep(ms) {\n",
              "  return new Promise(resolve => setTimeout(resolve, ms));\n",
              "}\n",
              "\n",
              "var data = new Promise(resolve=>{\n",
              "//recordButton.addEventListener(\"click\", toggleRecording);\n",
              "recordButton.onclick = ()=>{\n",
              "toggleRecording()\n",
              "\n",
              "sleep(2000).then(() => {\n",
              "  // wait 2000ms for the data to be available...\n",
              "  // ideally this should use something like await...\n",
              "  //console.log(\"Inside data:\" + base64data)\n",
              "  resolve(base64data.toString())\n",
              "\n",
              "});\n",
              "\n",
              "}\n",
              "});\n",
              "      \n",
              "</script>\n"
            ],
            "text/plain": [
              "<IPython.core.display.HTML object>"
            ]
          },
          "metadata": {
            "tags": []
          }
        },
        {
          "output_type": "stream",
          "text": [
            "You: some action movie\n",
            "Assistant: okay , what else ?\n"
          ],
          "name": "stdout"
        },
        {
          "output_type": "display_data",
          "data": {
            "text/html": [
              "\n",
              "                <audio controls=\"controls\" autoplay=\"autoplay\">\n",
              "                    <source src=\"data:audio/x-wav;base64,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\" type=\"audio/x-wav\" />\n",
              "                    Your browser does not support the audio element.\n",
              "                </audio>\n",
              "              "
            ],
            "text/plain": [
              "<IPython.lib.display.Audio object>"
            ]
          },
          "metadata": {
            "tags": []
          }
        },
        {
          "output_type": "display_data",
          "data": {
            "text/html": [
              "\n",
              "<script>\n",
              "var my_div = document.createElement(\"DIV\");\n",
              "var my_p = document.createElement(\"P\");\n",
              "var my_btn = document.createElement(\"BUTTON\");\n",
              "var t = document.createTextNode(\"Listening you..\");\n",
              "\n",
              "my_btn.appendChild(t);\n",
              "//my_p.appendChild(my_btn);\n",
              "my_div.appendChild(my_btn);\n",
              "document.body.appendChild(my_div);\n",
              "\n",
              "var base64data = 0;\n",
              "var reader;\n",
              "var recorder, gumStream;\n",
              "var recordButton = my_btn;\n",
              "\n",
              "var handleSuccess = function(stream) {\n",
              "  gumStream = stream;\n",
              "  var options = {\n",
              "    //bitsPerSecond: 8000, //chrome seems to ignore, always 48k\n",
              "    mimeType : 'audio/webm;codecs=opus'\n",
              "    //mimeType : 'audio/webm;codecs=pcm'\n",
              "  };            \n",
              "  //recorder = new MediaRecorder(stream, options);\n",
              "  recorder = new MediaRecorder(stream);\n",
              "  recorder.ondataavailable = function(e) {            \n",
              "    var url = URL.createObjectURL(e.data);\n",
              "    var preview = document.createElement('audio');\n",
              "    preview.controls = true;\n",
              "    preview.src = url;\n",
              "    document.body.appendChild(preview);\n",
              "\n",
              "    reader = new FileReader();\n",
              "    reader.readAsDataURL(e.data); \n",
              "    reader.onloadend = function() {\n",
              "      base64data = reader.result;\n",
              "      //console.log(\"Inside FileReader:\" + base64data);\n",
              "    }\n",
              "  };\n",
              "  recorder.start();\n",
              "  };\n",
              "\n",
              "recordButton.innerText = \"Listening you... press to stop\";\n",
              "\n",
              "navigator.mediaDevices.getUserMedia({audio: true}).then(handleSuccess);\n",
              "\n",
              "\n",
              "function toggleRecording() {\n",
              "  if (recorder && recorder.state == \"recording\") {\n",
              "      recorder.stop();\n",
              "      gumStream.getAudioTracks()[0].stop();\n",
              "      recordButton.innerText = \"Responding... pls wait!\"\n",
              "  }\n",
              "}\n",
              "\n",
              "// https://stackoverflow.com/a/951057\n",
              "function sleep(ms) {\n",
              "  return new Promise(resolve => setTimeout(resolve, ms));\n",
              "}\n",
              "\n",
              "var data = new Promise(resolve=>{\n",
              "//recordButton.addEventListener(\"click\", toggleRecording);\n",
              "recordButton.onclick = ()=>{\n",
              "toggleRecording()\n",
              "\n",
              "sleep(2000).then(() => {\n",
              "  // wait 2000ms for the data to be available...\n",
              "  // ideally this should use something like await...\n",
              "  //console.log(\"Inside data:\" + base64data)\n",
              "  resolve(base64data.toString())\n",
              "\n",
              "});\n",
              "\n",
              "}\n",
              "});\n",
              "      \n",
              "</script>\n"
            ],
            "text/plain": [
              "<IPython.core.display.HTML object>"
            ]
          },
          "metadata": {
            "tags": []
          }
        },
        {
          "output_type": "stream",
          "text": [
            "You: nothing nothing else\n",
            "Assistant: okay , i will send you the flight details . enjoy your trip .\n"
          ],
          "name": "stdout"
        },
        {
          "output_type": "display_data",
          "data": {
            "text/html": [
              "\n",
              "                <audio controls=\"controls\" autoplay=\"autoplay\">\n",
              "                    <source src=\"data:audio/x-wav;base64,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\" type=\"audio/x-wav\" />\n",
              "                    Your browser does not support the audio element.\n",
              "                </audio>\n",
              "              "
            ],
            "text/plain": [
              "<IPython.lib.display.Audio object>"
            ]
          },
          "metadata": {
            "tags": []
          }
        },
        {
          "output_type": "display_data",
          "data": {
            "text/html": [
              "\n",
              "<script>\n",
              "var my_div = document.createElement(\"DIV\");\n",
              "var my_p = document.createElement(\"P\");\n",
              "var my_btn = document.createElement(\"BUTTON\");\n",
              "var t = document.createTextNode(\"Listening you..\");\n",
              "\n",
              "my_btn.appendChild(t);\n",
              "//my_p.appendChild(my_btn);\n",
              "my_div.appendChild(my_btn);\n",
              "document.body.appendChild(my_div);\n",
              "\n",
              "var base64data = 0;\n",
              "var reader;\n",
              "var recorder, gumStream;\n",
              "var recordButton = my_btn;\n",
              "\n",
              "var handleSuccess = function(stream) {\n",
              "  gumStream = stream;\n",
              "  var options = {\n",
              "    //bitsPerSecond: 8000, //chrome seems to ignore, always 48k\n",
              "    mimeType : 'audio/webm;codecs=opus'\n",
              "    //mimeType : 'audio/webm;codecs=pcm'\n",
              "  };            \n",
              "  //recorder = new MediaRecorder(stream, options);\n",
              "  recorder = new MediaRecorder(stream);\n",
              "  recorder.ondataavailable = function(e) {            \n",
              "    var url = URL.createObjectURL(e.data);\n",
              "    var preview = document.createElement('audio');\n",
              "    preview.controls = true;\n",
              "    preview.src = url;\n",
              "    document.body.appendChild(preview);\n",
              "\n",
              "    reader = new FileReader();\n",
              "    reader.readAsDataURL(e.data); \n",
              "    reader.onloadend = function() {\n",
              "      base64data = reader.result;\n",
              "      //console.log(\"Inside FileReader:\" + base64data);\n",
              "    }\n",
              "  };\n",
              "  recorder.start();\n",
              "  };\n",
              "\n",
              "recordButton.innerText = \"Listening you... press to stop\";\n",
              "\n",
              "navigator.mediaDevices.getUserMedia({audio: true}).then(handleSuccess);\n",
              "\n",
              "\n",
              "function toggleRecording() {\n",
              "  if (recorder && recorder.state == \"recording\") {\n",
              "      recorder.stop();\n",
              "      gumStream.getAudioTracks()[0].stop();\n",
              "      recordButton.innerText = \"Responding... pls wait!\"\n",
              "  }\n",
              "}\n",
              "\n",
              "// https://stackoverflow.com/a/951057\n",
              "function sleep(ms) {\n",
              "  return new Promise(resolve => setTimeout(resolve, ms));\n",
              "}\n",
              "\n",
              "var data = new Promise(resolve=>{\n",
              "//recordButton.addEventListener(\"click\", toggleRecording);\n",
              "recordButton.onclick = ()=>{\n",
              "toggleRecording()\n",
              "\n",
              "sleep(2000).then(() => {\n",
              "  // wait 2000ms for the data to be available...\n",
              "  // ideally this should use something like await...\n",
              "  //console.log(\"Inside data:\" + base64data)\n",
              "  resolve(base64data.toString())\n",
              "\n",
              "});\n",
              "\n",
              "}\n",
              "});\n",
              "      \n",
              "</script>\n"
            ],
            "text/plain": [
              "<IPython.core.display.HTML object>"
            ]
          },
          "metadata": {
            "tags": []
          }
        },
        {
          "output_type": "error",
          "ename": "KeyboardInterrupt",
          "evalue": "ignored",
          "traceback": [
            "\u001b[0;31m---------------------------------------------------------------------------\u001b[0m",
            "\u001b[0;31mKeyboardInterrupt\u001b[0m                         Traceback (most recent call last)",
            "\u001b[0;32m<ipython-input-44-5d78348afd01>\u001b[0m in \u001b[0;36m<module>\u001b[0;34m()\u001b[0m\n\u001b[1;32m      1\u001b[0m \u001b[0;32mwhile\u001b[0m\u001b[0;34m(\u001b[0m\u001b[0;32mTrue\u001b[0m\u001b[0;34m)\u001b[0m\u001b[0;34m:\u001b[0m\u001b[0;34m\u001b[0m\u001b[0;34m\u001b[0m\u001b[0m\n\u001b[0;32m----> 2\u001b[0;31m   \u001b[0mCommand\u001b[0m\u001b[0;34m=\u001b[0m\u001b[0mStart_Talking\u001b[0m\u001b[0;34m(\u001b[0m\u001b[0;34m)\u001b[0m\u001b[0;34m\u001b[0m\u001b[0;34m\u001b[0m\u001b[0m\n\u001b[0m\u001b[1;32m      3\u001b[0m   \u001b[0;32mif\u001b[0m\u001b[0;34m(\u001b[0m\u001b[0mCommand\u001b[0m\u001b[0;34m==\u001b[0m\u001b[0;34m\"stop\"\u001b[0m\u001b[0;34m)\u001b[0m\u001b[0;34m:\u001b[0m\u001b[0;34m\u001b[0m\u001b[0;34m\u001b[0m\u001b[0m\n\u001b[1;32m      4\u001b[0m     \u001b[0mSpeak_Fixed\u001b[0m\u001b[0;34m(\u001b[0m\u001b[0;34m\"It was nice talking to you, Have a nice day\"\u001b[0m\u001b[0;34m)\u001b[0m\u001b[0;34m\u001b[0m\u001b[0;34m\u001b[0m\u001b[0m\n\u001b[1;32m      5\u001b[0m     \u001b[0;32mbreak\u001b[0m\u001b[0;34m\u001b[0m\u001b[0;34m\u001b[0m\u001b[0m\n",
            "\u001b[0;32m<ipython-input-32-0ee2840d8012>\u001b[0m in \u001b[0;36mStart_Talking\u001b[0;34m()\u001b[0m\n\u001b[1;32m      1\u001b[0m \u001b[0;32mdef\u001b[0m \u001b[0mStart_Talking\u001b[0m\u001b[0;34m(\u001b[0m\u001b[0;34m)\u001b[0m\u001b[0;34m:\u001b[0m\u001b[0;34m\u001b[0m\u001b[0;34m\u001b[0m\u001b[0m\n\u001b[0;32m----> 2\u001b[0;31m   \u001b[0mUser\u001b[0m\u001b[0;34m=\u001b[0m\u001b[0mConvert_Speech_to_Text\u001b[0m\u001b[0;34m(\u001b[0m\u001b[0;34m)\u001b[0m\u001b[0;34m\u001b[0m\u001b[0;34m\u001b[0m\u001b[0m\n\u001b[0m\u001b[1;32m      3\u001b[0m   \u001b[0;31m#print(User)\u001b[0m\u001b[0;34m\u001b[0m\u001b[0;34m\u001b[0m\u001b[0;34m\u001b[0m\u001b[0m\n\u001b[1;32m      4\u001b[0m   \u001b[0;32mif\u001b[0m\u001b[0;34m(\u001b[0m\u001b[0mUser\u001b[0m\u001b[0;34m==\u001b[0m\u001b[0;34m\"stop\"\u001b[0m\u001b[0;34m)\u001b[0m\u001b[0;34m:\u001b[0m\u001b[0;34m\u001b[0m\u001b[0;34m\u001b[0m\u001b[0m\n\u001b[1;32m      5\u001b[0m     \u001b[0;32mreturn\u001b[0m \u001b[0;34m\"stop\"\u001b[0m\u001b[0;34m\u001b[0m\u001b[0;34m\u001b[0m\u001b[0m\n",
            "\u001b[0;32m<ipython-input-31-faad9c3f613c>\u001b[0m in \u001b[0;36mConvert_Speech_to_Text\u001b[0;34m()\u001b[0m\n\u001b[1;32m      1\u001b[0m \u001b[0;32mdef\u001b[0m \u001b[0mConvert_Speech_to_Text\u001b[0m\u001b[0;34m(\u001b[0m\u001b[0;34m)\u001b[0m\u001b[0;34m:\u001b[0m\u001b[0;34m\u001b[0m\u001b[0;34m\u001b[0m\u001b[0m\n\u001b[1;32m      2\u001b[0m   \u001b[0;31m#audio,sr= get_audio()\u001b[0m\u001b[0;34m\u001b[0m\u001b[0;34m\u001b[0m\u001b[0;34m\u001b[0m\u001b[0m\n\u001b[0;32m----> 3\u001b[0;31m   \u001b[0mrecord_write_wav\u001b[0m\u001b[0;34m(\u001b[0m\u001b[0;34m)\u001b[0m\u001b[0;34m\u001b[0m\u001b[0;34m\u001b[0m\u001b[0m\n\u001b[0m\u001b[1;32m      4\u001b[0m   \u001b[0moutput\u001b[0m\u001b[0;34m=\u001b[0m\u001b[0mrecognize\u001b[0m\u001b[0;34m(\u001b[0m\u001b[0;34m)\u001b[0m\u001b[0;34m\u001b[0m\u001b[0;34m\u001b[0m\u001b[0m\n\u001b[1;32m      5\u001b[0m   \u001b[0;32mreturn\u001b[0m \u001b[0moutput\u001b[0m\u001b[0;34m\u001b[0m\u001b[0;34m\u001b[0m\u001b[0m\n",
            "\u001b[0;32m<ipython-input-30-9e5d140f6724>\u001b[0m in \u001b[0;36mrecord_write_wav\u001b[0;34m()\u001b[0m\n\u001b[1;32m      2\u001b[0m \u001b[0;32mdef\u001b[0m \u001b[0mrecord_write_wav\u001b[0m\u001b[0;34m(\u001b[0m\u001b[0;34m)\u001b[0m\u001b[0;34m:\u001b[0m\u001b[0;34m\u001b[0m\u001b[0;34m\u001b[0m\u001b[0m\n\u001b[1;32m      3\u001b[0m \u001b[0;34m\u001b[0m\u001b[0m\n\u001b[0;32m----> 4\u001b[0;31m   \u001b[0maudio\u001b[0m\u001b[0;34m,\u001b[0m\u001b[0msr\u001b[0m\u001b[0;34m=\u001b[0m \u001b[0mget_audio\u001b[0m\u001b[0;34m(\u001b[0m\u001b[0;34m)\u001b[0m\u001b[0;34m\u001b[0m\u001b[0;34m\u001b[0m\u001b[0m\n\u001b[0m\u001b[1;32m      5\u001b[0m   \u001b[0mscipy\u001b[0m\u001b[0;34m.\u001b[0m\u001b[0mio\u001b[0m\u001b[0;34m.\u001b[0m\u001b[0mwavfile\u001b[0m\u001b[0;34m.\u001b[0m\u001b[0mwrite\u001b[0m\u001b[0;34m(\u001b[0m\u001b[0;34m\"recording.wav\"\u001b[0m\u001b[0;34m,\u001b[0m \u001b[0msr\u001b[0m\u001b[0;34m,\u001b[0m \u001b[0maudio\u001b[0m\u001b[0;34m)\u001b[0m\u001b[0;34m\u001b[0m\u001b[0;34m\u001b[0m\u001b[0m\n\u001b[1;32m      6\u001b[0m \u001b[0;34m\u001b[0m\u001b[0m\n",
            "\u001b[0;32m<ipython-input-29-233623d4a0f1>\u001b[0m in \u001b[0;36mget_audio\u001b[0;34m()\u001b[0m\n\u001b[1;32m     81\u001b[0m \u001b[0;32mdef\u001b[0m \u001b[0mget_audio\u001b[0m\u001b[0;34m(\u001b[0m\u001b[0;34m)\u001b[0m\u001b[0;34m:\u001b[0m\u001b[0;34m\u001b[0m\u001b[0;34m\u001b[0m\u001b[0m\n\u001b[1;32m     82\u001b[0m   \u001b[0mdisplay\u001b[0m\u001b[0;34m(\u001b[0m\u001b[0mHTML\u001b[0m\u001b[0;34m(\u001b[0m\u001b[0mAUDIO_HTML\u001b[0m\u001b[0;34m)\u001b[0m\u001b[0;34m)\u001b[0m\u001b[0;34m\u001b[0m\u001b[0;34m\u001b[0m\u001b[0m\n\u001b[0;32m---> 83\u001b[0;31m   \u001b[0mdata\u001b[0m \u001b[0;34m=\u001b[0m \u001b[0meval_js\u001b[0m\u001b[0;34m(\u001b[0m\u001b[0;34m\"data\"\u001b[0m\u001b[0;34m)\u001b[0m\u001b[0;34m\u001b[0m\u001b[0;34m\u001b[0m\u001b[0m\n\u001b[0m\u001b[1;32m     84\u001b[0m   \u001b[0mbinary\u001b[0m \u001b[0;34m=\u001b[0m \u001b[0mb64decode\u001b[0m\u001b[0;34m(\u001b[0m\u001b[0mdata\u001b[0m\u001b[0;34m.\u001b[0m\u001b[0msplit\u001b[0m\u001b[0;34m(\u001b[0m\u001b[0;34m','\u001b[0m\u001b[0;34m)\u001b[0m\u001b[0;34m[\u001b[0m\u001b[0;36m1\u001b[0m\u001b[0;34m]\u001b[0m\u001b[0;34m)\u001b[0m\u001b[0;34m\u001b[0m\u001b[0;34m\u001b[0m\u001b[0m\n\u001b[1;32m     85\u001b[0m \u001b[0;34m\u001b[0m\u001b[0m\n",
            "\u001b[0;32m/usr/local/lib/python3.6/dist-packages/google/colab/output/_js.py\u001b[0m in \u001b[0;36meval_js\u001b[0;34m(script, ignore_result)\u001b[0m\n\u001b[1;32m     37\u001b[0m   \u001b[0;32mif\u001b[0m \u001b[0mignore_result\u001b[0m\u001b[0;34m:\u001b[0m\u001b[0;34m\u001b[0m\u001b[0;34m\u001b[0m\u001b[0m\n\u001b[1;32m     38\u001b[0m     \u001b[0;32mreturn\u001b[0m\u001b[0;34m\u001b[0m\u001b[0;34m\u001b[0m\u001b[0m\n\u001b[0;32m---> 39\u001b[0;31m   \u001b[0;32mreturn\u001b[0m \u001b[0m_message\u001b[0m\u001b[0;34m.\u001b[0m\u001b[0mread_reply_from_input\u001b[0m\u001b[0;34m(\u001b[0m\u001b[0mrequest_id\u001b[0m\u001b[0;34m)\u001b[0m\u001b[0;34m\u001b[0m\u001b[0;34m\u001b[0m\u001b[0m\n\u001b[0m\u001b[1;32m     40\u001b[0m \u001b[0;34m\u001b[0m\u001b[0m\n\u001b[1;32m     41\u001b[0m \u001b[0;34m\u001b[0m\u001b[0m\n",
            "\u001b[0;32m/usr/local/lib/python3.6/dist-packages/google/colab/_message.py\u001b[0m in \u001b[0;36mread_reply_from_input\u001b[0;34m(message_id, timeout_sec)\u001b[0m\n\u001b[1;32m     99\u001b[0m     \u001b[0mreply\u001b[0m \u001b[0;34m=\u001b[0m \u001b[0m_read_next_input_message\u001b[0m\u001b[0;34m(\u001b[0m\u001b[0;34m)\u001b[0m\u001b[0;34m\u001b[0m\u001b[0;34m\u001b[0m\u001b[0m\n\u001b[1;32m    100\u001b[0m     \u001b[0;32mif\u001b[0m \u001b[0mreply\u001b[0m \u001b[0;34m==\u001b[0m \u001b[0m_NOT_READY\u001b[0m \u001b[0;32mor\u001b[0m \u001b[0;32mnot\u001b[0m \u001b[0misinstance\u001b[0m\u001b[0;34m(\u001b[0m\u001b[0mreply\u001b[0m\u001b[0;34m,\u001b[0m \u001b[0mdict\u001b[0m\u001b[0;34m)\u001b[0m\u001b[0;34m:\u001b[0m\u001b[0;34m\u001b[0m\u001b[0;34m\u001b[0m\u001b[0m\n\u001b[0;32m--> 101\u001b[0;31m       \u001b[0mtime\u001b[0m\u001b[0;34m.\u001b[0m\u001b[0msleep\u001b[0m\u001b[0;34m(\u001b[0m\u001b[0;36m0.025\u001b[0m\u001b[0;34m)\u001b[0m\u001b[0;34m\u001b[0m\u001b[0;34m\u001b[0m\u001b[0m\n\u001b[0m\u001b[1;32m    102\u001b[0m       \u001b[0;32mcontinue\u001b[0m\u001b[0;34m\u001b[0m\u001b[0;34m\u001b[0m\u001b[0m\n\u001b[1;32m    103\u001b[0m     if (reply.get('type') == 'colab_reply' and\n",
            "\u001b[0;31mKeyboardInterrupt\u001b[0m: "
          ]
        }
      ]
    },
    {
      "cell_type": "code",
      "metadata": {
        "id": "aLDG7bCzFayr",
        "colab_type": "code",
        "colab": {}
      },
      "source": [
        "\n",
        "  \n"
      ],
      "execution_count": null,
      "outputs": []
    }
  ]
}
