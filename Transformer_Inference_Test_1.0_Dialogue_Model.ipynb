{
  "nbformat": 4,
  "nbformat_minor": 0,
  "metadata": {
    "colab": {
      "name": "Welcome To Colaboratory",
      "provenance": [],
      "collapsed_sections": [],
      "toc_visible": true
    },
    "kernelspec": {
      "display_name": "Python 3",
      "language": "python",
      "name": "python3"
    },
    "accelerator": "TPU"
  },
  "cells": [
    {
      "cell_type": "markdown",
      "metadata": {
        "id": "V27IM_Vf8iOz",
        "colab_type": "text"
      },
      "source": [
        "# Transformer based Dialogue Model on Google  TaskMaster-2 DataSet\n",
        "\n",
        "Follow on Github : https://github.com/shahid-kh/ChatBot_Transformer\n",
        "\n",
        "\n",
        "Follow on Linkedin: http://linkedin.com/in/shahid-khan-3abab5193\n",
        "\n",
        "\n",
        "This code is inspired from official Tutorial of tensorflow:\n",
        "https://blog.tensorflow.org/2019/05/transformer-chatbot-tutorial-with-tensorflow-2.html\n",
        "\n",
        "I extended this work to use different dataset called Google Taskmaster-2 to see interesting results on General chats as assistant for various tasks of daily routine eg. Food ordering,Flight booking etc."
      ]
    },
    {
      "cell_type": "markdown",
      "metadata": {
        "id": "f1rJ8RN080Dc",
        "colab_type": "text"
      },
      "source": [
        "# Mount your Drive for DataSet Loading"
      ]
    },
    {
      "cell_type": "code",
      "metadata": {
        "colab_type": "code",
        "id": "WSfGUJsbGqir",
        "colab": {
          "base_uri": "https://localhost:8080/",
          "height": 122
        },
        "outputId": "15c209e6-86df-4820-8e2f-5cb5fcdb3879"
      },
      "source": [
        "from google.colab import drive\n",
        "drive.mount(\"/mydrive\")"
      ],
      "execution_count": 1,
      "outputs": [
        {
          "output_type": "stream",
          "text": [
            "Go to this URL in a browser: https://accounts.google.com/o/oauth2/auth?client_id=947318989803-6bn6qk8qdgf4n4g3pfee6491hc0brc4i.apps.googleusercontent.com&redirect_uri=urn%3aietf%3awg%3aoauth%3a2.0%3aoob&scope=email%20https%3a%2f%2fwww.googleapis.com%2fauth%2fdocs.test%20https%3a%2f%2fwww.googleapis.com%2fauth%2fdrive%20https%3a%2f%2fwww.googleapis.com%2fauth%2fdrive.photos.readonly%20https%3a%2f%2fwww.googleapis.com%2fauth%2fpeopleapi.readonly&response_type=code\n",
            "\n",
            "Enter your authorization code:\n",
            "··········\n",
            "Mounted at /mydrive\n"
          ],
          "name": "stdout"
        }
      ]
    },
    {
      "cell_type": "markdown",
      "metadata": {
        "id": "l4nqTAua89xn",
        "colab_type": "text"
      },
      "source": [
        "#Necessary imports"
      ]
    },
    {
      "cell_type": "code",
      "metadata": {
        "colab_type": "code",
        "id": "92KNGsPqGbli",
        "colab": {
          "base_uri": "https://localhost:8080/",
          "height": 513
        },
        "outputId": "940395af-2ea1-45aa-a2e5-6d6e8b202e7a"
      },
      "source": [
        "import json\n",
        "import tensorflow as tf\n",
        "assert tf.__version__.startswith('2')\n",
        "tf.random.set_seed(1234)\n",
        "\n",
        "!pip install tensorflow-datasets==1.2.0\n",
        "import tensorflow_datasets as tfds\n",
        "\n",
        "import os\n",
        "import re\n",
        "import numpy as np\n",
        "\n",
        "import matplotlib.pyplot as plt"
      ],
      "execution_count": 2,
      "outputs": [
        {
          "output_type": "stream",
          "text": [
            "Collecting tensorflow-datasets==1.2.0\n",
            "\u001b[?25l  Downloading https://files.pythonhosted.org/packages/6c/34/ff424223ed4331006aaa929efc8360b6459d427063dc59fc7b75d7e4bab3/tensorflow_datasets-1.2.0-py3-none-any.whl (2.3MB)\n",
            "\r\u001b[K     |▏                               | 10kB 17.7MB/s eta 0:00:01\r\u001b[K     |▎                               | 20kB 2.2MB/s eta 0:00:02\r\u001b[K     |▍                               | 30kB 2.8MB/s eta 0:00:01\r\u001b[K     |▋                               | 40kB 3.0MB/s eta 0:00:01\r\u001b[K     |▊                               | 51kB 2.5MB/s eta 0:00:01\r\u001b[K     |▉                               | 61kB 2.8MB/s eta 0:00:01\r\u001b[K     |█                               | 71kB 3.1MB/s eta 0:00:01\r\u001b[K     |█▏                              | 81kB 3.4MB/s eta 0:00:01\r\u001b[K     |█▎                              | 92kB 3.5MB/s eta 0:00:01\r\u001b[K     |█▌                              | 102kB 3.5MB/s eta 0:00:01\r\u001b[K     |█▋                              | 112kB 3.5MB/s eta 0:00:01\r\u001b[K     |█▊                              | 122kB 3.5MB/s eta 0:00:01\r\u001b[K     |█▉                              | 133kB 3.5MB/s eta 0:00:01\r\u001b[K     |██                              | 143kB 3.5MB/s eta 0:00:01\r\u001b[K     |██▏                             | 153kB 3.5MB/s eta 0:00:01\r\u001b[K     |██▎                             | 163kB 3.5MB/s eta 0:00:01\r\u001b[K     |██▌                             | 174kB 3.5MB/s eta 0:00:01\r\u001b[K     |██▋                             | 184kB 3.5MB/s eta 0:00:01\r\u001b[K     |██▊                             | 194kB 3.5MB/s eta 0:00:01\r\u001b[K     |███                             | 204kB 3.5MB/s eta 0:00:01\r\u001b[K     |███                             | 215kB 3.5MB/s eta 0:00:01\r\u001b[K     |███▏                            | 225kB 3.5MB/s eta 0:00:01\r\u001b[K     |███▎                            | 235kB 3.5MB/s eta 0:00:01\r\u001b[K     |███▌                            | 245kB 3.5MB/s eta 0:00:01\r\u001b[K     |███▋                            | 256kB 3.5MB/s eta 0:00:01\r\u001b[K     |███▊                            | 266kB 3.5MB/s eta 0:00:01\r\u001b[K     |████                            | 276kB 3.5MB/s eta 0:00:01\r\u001b[K     |████                            | 286kB 3.5MB/s eta 0:00:01\r\u001b[K     |████▏                           | 296kB 3.5MB/s eta 0:00:01\r\u001b[K     |████▍                           | 307kB 3.5MB/s eta 0:00:01\r\u001b[K     |████▌                           | 317kB 3.5MB/s eta 0:00:01\r\u001b[K     |████▋                           | 327kB 3.5MB/s eta 0:00:01\r\u001b[K     |████▉                           | 337kB 3.5MB/s eta 0:00:01\r\u001b[K     |█████                           | 348kB 3.5MB/s eta 0:00:01\r\u001b[K     |█████                           | 358kB 3.5MB/s eta 0:00:01\r\u001b[K     |█████▏                          | 368kB 3.5MB/s eta 0:00:01\r\u001b[K     |█████▍                          | 378kB 3.5MB/s eta 0:00:01\r\u001b[K     |█████▌                          | 389kB 3.5MB/s eta 0:00:01\r\u001b[K     |█████▋                          | 399kB 3.5MB/s eta 0:00:01\r\u001b[K     |█████▉                          | 409kB 3.5MB/s eta 0:00:01\r\u001b[K     |██████                          | 419kB 3.5MB/s eta 0:00:01\r\u001b[K     |██████                          | 430kB 3.5MB/s eta 0:00:01\r\u001b[K     |██████▎                         | 440kB 3.5MB/s eta 0:00:01\r\u001b[K     |██████▍                         | 450kB 3.5MB/s eta 0:00:01\r\u001b[K     |██████▌                         | 460kB 3.5MB/s eta 0:00:01\r\u001b[K     |██████▋                         | 471kB 3.5MB/s eta 0:00:01\r\u001b[K     |██████▉                         | 481kB 3.5MB/s eta 0:00:01\r\u001b[K     |███████                         | 491kB 3.5MB/s eta 0:00:01\r\u001b[K     |███████                         | 501kB 3.5MB/s eta 0:00:01\r\u001b[K     |███████▎                        | 512kB 3.5MB/s eta 0:00:01\r\u001b[K     |███████▍                        | 522kB 3.5MB/s eta 0:00:01\r\u001b[K     |███████▌                        | 532kB 3.5MB/s eta 0:00:01\r\u001b[K     |███████▊                        | 542kB 3.5MB/s eta 0:00:01\r\u001b[K     |███████▉                        | 552kB 3.5MB/s eta 0:00:01\r\u001b[K     |████████                        | 563kB 3.5MB/s eta 0:00:01\r\u001b[K     |████████▏                       | 573kB 3.5MB/s eta 0:00:01\r\u001b[K     |████████▎                       | 583kB 3.5MB/s eta 0:00:01\r\u001b[K     |████████▍                       | 593kB 3.5MB/s eta 0:00:01\r\u001b[K     |████████▌                       | 604kB 3.5MB/s eta 0:00:01\r\u001b[K     |████████▊                       | 614kB 3.5MB/s eta 0:00:01\r\u001b[K     |████████▉                       | 624kB 3.5MB/s eta 0:00:01\r\u001b[K     |█████████                       | 634kB 3.5MB/s eta 0:00:01\r\u001b[K     |█████████▏                      | 645kB 3.5MB/s eta 0:00:01\r\u001b[K     |█████████▎                      | 655kB 3.5MB/s eta 0:00:01\r\u001b[K     |█████████▍                      | 665kB 3.5MB/s eta 0:00:01\r\u001b[K     |█████████▋                      | 675kB 3.5MB/s eta 0:00:01\r\u001b[K     |█████████▊                      | 686kB 3.5MB/s eta 0:00:01\r\u001b[K     |█████████▉                      | 696kB 3.5MB/s eta 0:00:01\r\u001b[K     |██████████                      | 706kB 3.5MB/s eta 0:00:01\r\u001b[K     |██████████▏                     | 716kB 3.5MB/s eta 0:00:01\r\u001b[K     |██████████▎                     | 727kB 3.5MB/s eta 0:00:01\r\u001b[K     |██████████▍                     | 737kB 3.5MB/s eta 0:00:01\r\u001b[K     |██████████▋                     | 747kB 3.5MB/s eta 0:00:01\r\u001b[K     |██████████▊                     | 757kB 3.5MB/s eta 0:00:01\r\u001b[K     |██████████▉                     | 768kB 3.5MB/s eta 0:00:01\r\u001b[K     |███████████                     | 778kB 3.5MB/s eta 0:00:01\r\u001b[K     |███████████▏                    | 788kB 3.5MB/s eta 0:00:01\r\u001b[K     |███████████▎                    | 798kB 3.5MB/s eta 0:00:01\r\u001b[K     |███████████▌                    | 808kB 3.5MB/s eta 0:00:01\r\u001b[K     |███████████▋                    | 819kB 3.5MB/s eta 0:00:01\r\u001b[K     |███████████▊                    | 829kB 3.5MB/s eta 0:00:01\r\u001b[K     |███████████▉                    | 839kB 3.5MB/s eta 0:00:01\r\u001b[K     |████████████                    | 849kB 3.5MB/s eta 0:00:01\r\u001b[K     |████████████▏                   | 860kB 3.5MB/s eta 0:00:01\r\u001b[K     |████████████▎                   | 870kB 3.5MB/s eta 0:00:01\r\u001b[K     |████████████▌                   | 880kB 3.5MB/s eta 0:00:01\r\u001b[K     |████████████▋                   | 890kB 3.5MB/s eta 0:00:01\r\u001b[K     |████████████▊                   | 901kB 3.5MB/s eta 0:00:01\r\u001b[K     |█████████████                   | 911kB 3.5MB/s eta 0:00:01\r\u001b[K     |█████████████                   | 921kB 3.5MB/s eta 0:00:01\r\u001b[K     |█████████████▏                  | 931kB 3.5MB/s eta 0:00:01\r\u001b[K     |█████████████▎                  | 942kB 3.5MB/s eta 0:00:01\r\u001b[K     |█████████████▌                  | 952kB 3.5MB/s eta 0:00:01\r\u001b[K     |█████████████▋                  | 962kB 3.5MB/s eta 0:00:01\r\u001b[K     |█████████████▊                  | 972kB 3.5MB/s eta 0:00:01\r\u001b[K     |██████████████                  | 983kB 3.5MB/s eta 0:00:01\r\u001b[K     |██████████████                  | 993kB 3.5MB/s eta 0:00:01\r\u001b[K     |██████████████▏                 | 1.0MB 3.5MB/s eta 0:00:01\r\u001b[K     |██████████████▍                 | 1.0MB 3.5MB/s eta 0:00:01\r\u001b[K     |██████████████▌                 | 1.0MB 3.5MB/s eta 0:00:01\r\u001b[K     |██████████████▋                 | 1.0MB 3.5MB/s eta 0:00:01\r\u001b[K     |██████████████▉                 | 1.0MB 3.5MB/s eta 0:00:01\r\u001b[K     |███████████████                 | 1.1MB 3.5MB/s eta 0:00:01\r\u001b[K     |███████████████                 | 1.1MB 3.5MB/s eta 0:00:01\r\u001b[K     |███████████████▏                | 1.1MB 3.5MB/s eta 0:00:01\r\u001b[K     |███████████████▍                | 1.1MB 3.5MB/s eta 0:00:01\r\u001b[K     |███████████████▌                | 1.1MB 3.5MB/s eta 0:00:01\r\u001b[K     |███████████████▋                | 1.1MB 3.5MB/s eta 0:00:01\r\u001b[K     |███████████████▉                | 1.1MB 3.5MB/s eta 0:00:01\r\u001b[K     |████████████████                | 1.1MB 3.5MB/s eta 0:00:01\r\u001b[K     |████████████████                | 1.1MB 3.5MB/s eta 0:00:01\r\u001b[K     |████████████████▎               | 1.1MB 3.5MB/s eta 0:00:01\r\u001b[K     |████████████████▍               | 1.2MB 3.5MB/s eta 0:00:01\r\u001b[K     |████████████████▌               | 1.2MB 3.5MB/s eta 0:00:01\r\u001b[K     |████████████████▋               | 1.2MB 3.5MB/s eta 0:00:01\r\u001b[K     |████████████████▉               | 1.2MB 3.5MB/s eta 0:00:01\r\u001b[K     |█████████████████               | 1.2MB 3.5MB/s eta 0:00:01\r\u001b[K     |█████████████████               | 1.2MB 3.5MB/s eta 0:00:01\r\u001b[K     |█████████████████▎              | 1.2MB 3.5MB/s eta 0:00:01\r\u001b[K     |█████████████████▍              | 1.2MB 3.5MB/s eta 0:00:01\r\u001b[K     |█████████████████▌              | 1.2MB 3.5MB/s eta 0:00:01\r\u001b[K     |█████████████████▊              | 1.2MB 3.5MB/s eta 0:00:01\r\u001b[K     |█████████████████▉              | 1.3MB 3.5MB/s eta 0:00:01\r\u001b[K     |██████████████████              | 1.3MB 3.5MB/s eta 0:00:01\r\u001b[K     |██████████████████▏             | 1.3MB 3.5MB/s eta 0:00:01\r\u001b[K     |██████████████████▎             | 1.3MB 3.5MB/s eta 0:00:01\r\u001b[K     |██████████████████▍             | 1.3MB 3.5MB/s eta 0:00:01\r\u001b[K     |██████████████████▌             | 1.3MB 3.5MB/s eta 0:00:01\r\u001b[K     |██████████████████▊             | 1.3MB 3.5MB/s eta 0:00:01\r\u001b[K     |██████████████████▉             | 1.3MB 3.5MB/s eta 0:00:01\r\u001b[K     |███████████████████             | 1.3MB 3.5MB/s eta 0:00:01\r\u001b[K     |███████████████████▏            | 1.4MB 3.5MB/s eta 0:00:01\r\u001b[K     |███████████████████▎            | 1.4MB 3.5MB/s eta 0:00:01\r\u001b[K     |███████████████████▍            | 1.4MB 3.5MB/s eta 0:00:01\r\u001b[K     |███████████████████▋            | 1.4MB 3.5MB/s eta 0:00:01\r\u001b[K     |███████████████████▊            | 1.4MB 3.5MB/s eta 0:00:01\r\u001b[K     |███████████████████▉            | 1.4MB 3.5MB/s eta 0:00:01\r\u001b[K     |████████████████████            | 1.4MB 3.5MB/s eta 0:00:01\r\u001b[K     |████████████████████▏           | 1.4MB 3.5MB/s eta 0:00:01\r\u001b[K     |████████████████████▎           | 1.4MB 3.5MB/s eta 0:00:01\r\u001b[K     |████████████████████▍           | 1.4MB 3.5MB/s eta 0:00:01\r\u001b[K     |████████████████████▋           | 1.5MB 3.5MB/s eta 0:00:01\r\u001b[K     |████████████████████▊           | 1.5MB 3.5MB/s eta 0:00:01\r\u001b[K     |████████████████████▉           | 1.5MB 3.5MB/s eta 0:00:01\r\u001b[K     |█████████████████████           | 1.5MB 3.5MB/s eta 0:00:01\r\u001b[K     |█████████████████████▏          | 1.5MB 3.5MB/s eta 0:00:01\r\u001b[K     |█████████████████████▎          | 1.5MB 3.5MB/s eta 0:00:01\r\u001b[K     |█████████████████████▌          | 1.5MB 3.5MB/s eta 0:00:01\r\u001b[K     |█████████████████████▋          | 1.5MB 3.5MB/s eta 0:00:01\r\u001b[K     |█████████████████████▊          | 1.5MB 3.5MB/s eta 0:00:01\r\u001b[K     |█████████████████████▉          | 1.5MB 3.5MB/s eta 0:00:01\r\u001b[K     |██████████████████████          | 1.6MB 3.5MB/s eta 0:00:01\r\u001b[K     |██████████████████████▏         | 1.6MB 3.5MB/s eta 0:00:01\r\u001b[K     |██████████████████████▎         | 1.6MB 3.5MB/s eta 0:00:01\r\u001b[K     |██████████████████████▌         | 1.6MB 3.5MB/s eta 0:00:01\r\u001b[K     |██████████████████████▋         | 1.6MB 3.5MB/s eta 0:00:01\r\u001b[K     |██████████████████████▊         | 1.6MB 3.5MB/s eta 0:00:01\r\u001b[K     |███████████████████████         | 1.6MB 3.5MB/s eta 0:00:01\r\u001b[K     |███████████████████████         | 1.6MB 3.5MB/s eta 0:00:01\r\u001b[K     |███████████████████████▏        | 1.6MB 3.5MB/s eta 0:00:01\r\u001b[K     |███████████████████████▎        | 1.6MB 3.5MB/s eta 0:00:01\r\u001b[K     |███████████████████████▌        | 1.7MB 3.5MB/s eta 0:00:01\r\u001b[K     |███████████████████████▋        | 1.7MB 3.5MB/s eta 0:00:01\r\u001b[K     |███████████████████████▊        | 1.7MB 3.5MB/s eta 0:00:01\r\u001b[K     |████████████████████████        | 1.7MB 3.5MB/s eta 0:00:01\r\u001b[K     |████████████████████████        | 1.7MB 3.5MB/s eta 0:00:01\r\u001b[K     |████████████████████████▏       | 1.7MB 3.5MB/s eta 0:00:01\r\u001b[K     |████████████████████████▍       | 1.7MB 3.5MB/s eta 0:00:01\r\u001b[K     |████████████████████████▌       | 1.7MB 3.5MB/s eta 0:00:01\r\u001b[K     |████████████████████████▋       | 1.7MB 3.5MB/s eta 0:00:01\r\u001b[K     |████████████████████████▉       | 1.8MB 3.5MB/s eta 0:00:01\r\u001b[K     |█████████████████████████       | 1.8MB 3.5MB/s eta 0:00:01\r\u001b[K     |█████████████████████████       | 1.8MB 3.5MB/s eta 0:00:01\r\u001b[K     |█████████████████████████▏      | 1.8MB 3.5MB/s eta 0:00:01\r\u001b[K     |█████████████████████████▍      | 1.8MB 3.5MB/s eta 0:00:01\r\u001b[K     |█████████████████████████▌      | 1.8MB 3.5MB/s eta 0:00:01\r\u001b[K     |█████████████████████████▋      | 1.8MB 3.5MB/s eta 0:00:01\r\u001b[K     |█████████████████████████▉      | 1.8MB 3.5MB/s eta 0:00:01\r\u001b[K     |██████████████████████████      | 1.8MB 3.5MB/s eta 0:00:01\r\u001b[K     |██████████████████████████      | 1.8MB 3.5MB/s eta 0:00:01\r\u001b[K     |██████████████████████████▎     | 1.9MB 3.5MB/s eta 0:00:01\r\u001b[K     |██████████████████████████▍     | 1.9MB 3.5MB/s eta 0:00:01\r\u001b[K     |██████████████████████████▌     | 1.9MB 3.5MB/s eta 0:00:01\r\u001b[K     |██████████████████████████▋     | 1.9MB 3.5MB/s eta 0:00:01\r\u001b[K     |██████████████████████████▉     | 1.9MB 3.5MB/s eta 0:00:01\r\u001b[K     |███████████████████████████     | 1.9MB 3.5MB/s eta 0:00:01\r\u001b[K     |███████████████████████████     | 1.9MB 3.5MB/s eta 0:00:01\r\u001b[K     |███████████████████████████▎    | 1.9MB 3.5MB/s eta 0:00:01\r\u001b[K     |███████████████████████████▍    | 1.9MB 67kB/s eta 0:00:05\r\u001b[K     |███████████████████████████▌    | 1.9MB 67kB/s eta 0:00:05\r\u001b[K     |███████████████████████████▊    | 2.0MB 67kB/s eta 0:00:05\r\u001b[K     |███████████████████████████▉    | 2.0MB 67kB/s eta 0:00:05\r\u001b[K     |████████████████████████████    | 2.0MB 67kB/s eta 0:00:05\r\u001b[K     |████████████████████████████    | 2.0MB 67kB/s eta 0:00:05\r\u001b[K     |████████████████████████████▎   | 2.0MB 67kB/s eta 0:00:04\r\u001b[K     |████████████████████████████▍   | 2.0MB 67kB/s eta 0:00:04\r\u001b[K     |████████████████████████████▌   | 2.0MB 67kB/s eta 0:00:04\r\u001b[K     |████████████████████████████▊   | 2.0MB 67kB/s eta 0:00:04\r\u001b[K     |████████████████████████████▉   | 2.0MB 67kB/s eta 0:00:04\r\u001b[K     |█████████████████████████████   | 2.0MB 67kB/s eta 0:00:04\r\u001b[K     |█████████████████████████████▏  | 2.1MB 67kB/s eta 0:00:04\r\u001b[K     |█████████████████████████████▎  | 2.1MB 67kB/s eta 0:00:03\r\u001b[K     |█████████████████████████████▍  | 2.1MB 67kB/s eta 0:00:03\r\u001b[K     |█████████████████████████████▋  | 2.1MB 67kB/s eta 0:00:03\r\u001b[K     |█████████████████████████████▊  | 2.1MB 67kB/s eta 0:00:03\r\u001b[K     |█████████████████████████████▉  | 2.1MB 67kB/s eta 0:00:03\r\u001b[K     |██████████████████████████████  | 2.1MB 67kB/s eta 0:00:03\r\u001b[K     |██████████████████████████████▏ | 2.1MB 67kB/s eta 0:00:02\r\u001b[K     |██████████████████████████████▎ | 2.1MB 67kB/s eta 0:00:02\r\u001b[K     |██████████████████████████████▍ | 2.2MB 67kB/s eta 0:00:02\r\u001b[K     |██████████████████████████████▋ | 2.2MB 67kB/s eta 0:00:02\r\u001b[K     |██████████████████████████████▊ | 2.2MB 67kB/s eta 0:00:02\r\u001b[K     |██████████████████████████████▉ | 2.2MB 67kB/s eta 0:00:02\r\u001b[K     |███████████████████████████████ | 2.2MB 67kB/s eta 0:00:02\r\u001b[K     |███████████████████████████████▏| 2.2MB 67kB/s eta 0:00:01\r\u001b[K     |███████████████████████████████▎| 2.2MB 67kB/s eta 0:00:01\r\u001b[K     |███████████████████████████████▍| 2.2MB 67kB/s eta 0:00:01\r\u001b[K     |███████████████████████████████▋| 2.2MB 67kB/s eta 0:00:01\r\u001b[K     |███████████████████████████████▊| 2.2MB 67kB/s eta 0:00:01\r\u001b[K     |███████████████████████████████▉| 2.3MB 67kB/s eta 0:00:01\r\u001b[K     |████████████████████████████████| 2.3MB 67kB/s \n",
            "\u001b[?25hRequirement already satisfied: future in /usr/local/lib/python3.6/dist-packages (from tensorflow-datasets==1.2.0) (0.16.0)\n",
            "Requirement already satisfied: protobuf>=3.6.1 in /usr/local/lib/python3.6/dist-packages (from tensorflow-datasets==1.2.0) (3.12.4)\n",
            "Requirement already satisfied: termcolor in /usr/local/lib/python3.6/dist-packages (from tensorflow-datasets==1.2.0) (1.1.0)\n",
            "Requirement already satisfied: tqdm in /usr/local/lib/python3.6/dist-packages (from tensorflow-datasets==1.2.0) (4.41.1)\n",
            "Requirement already satisfied: promise in /usr/local/lib/python3.6/dist-packages (from tensorflow-datasets==1.2.0) (2.3)\n",
            "Requirement already satisfied: absl-py in /usr/local/lib/python3.6/dist-packages (from tensorflow-datasets==1.2.0) (0.9.0)\n",
            "Requirement already satisfied: requests>=2.19.0 in /usr/local/lib/python3.6/dist-packages (from tensorflow-datasets==1.2.0) (2.23.0)\n",
            "Requirement already satisfied: tensorflow-metadata in /usr/local/lib/python3.6/dist-packages (from tensorflow-datasets==1.2.0) (0.22.2)\n",
            "Requirement already satisfied: six in /usr/local/lib/python3.6/dist-packages (from tensorflow-datasets==1.2.0) (1.15.0)\n",
            "Requirement already satisfied: numpy in /usr/local/lib/python3.6/dist-packages (from tensorflow-datasets==1.2.0) (1.18.5)\n",
            "Requirement already satisfied: psutil in /usr/local/lib/python3.6/dist-packages (from tensorflow-datasets==1.2.0) (5.4.8)\n",
            "Requirement already satisfied: wrapt in /usr/local/lib/python3.6/dist-packages (from tensorflow-datasets==1.2.0) (1.12.1)\n",
            "Requirement already satisfied: dill in /usr/local/lib/python3.6/dist-packages (from tensorflow-datasets==1.2.0) (0.3.2)\n",
            "Requirement already satisfied: attrs in /usr/local/lib/python3.6/dist-packages (from tensorflow-datasets==1.2.0) (19.3.0)\n",
            "Requirement already satisfied: setuptools in /usr/local/lib/python3.6/dist-packages (from protobuf>=3.6.1->tensorflow-datasets==1.2.0) (49.2.0)\n",
            "Requirement already satisfied: certifi>=2017.4.17 in /usr/local/lib/python3.6/dist-packages (from requests>=2.19.0->tensorflow-datasets==1.2.0) (2020.6.20)\n",
            "Requirement already satisfied: chardet<4,>=3.0.2 in /usr/local/lib/python3.6/dist-packages (from requests>=2.19.0->tensorflow-datasets==1.2.0) (3.0.4)\n",
            "Requirement already satisfied: urllib3!=1.25.0,!=1.25.1,<1.26,>=1.21.1 in /usr/local/lib/python3.6/dist-packages (from requests>=2.19.0->tensorflow-datasets==1.2.0) (1.24.3)\n",
            "Requirement already satisfied: idna<3,>=2.5 in /usr/local/lib/python3.6/dist-packages (from requests>=2.19.0->tensorflow-datasets==1.2.0) (2.10)\n",
            "Requirement already satisfied: googleapis-common-protos in /usr/local/lib/python3.6/dist-packages (from tensorflow-metadata->tensorflow-datasets==1.2.0) (1.52.0)\n",
            "Installing collected packages: tensorflow-datasets\n",
            "  Found existing installation: tensorflow-datasets 2.1.0\n",
            "    Uninstalling tensorflow-datasets-2.1.0:\n",
            "      Successfully uninstalled tensorflow-datasets-2.1.0\n",
            "Successfully installed tensorflow-datasets-1.2.0\n"
          ],
          "name": "stdout"
        }
      ]
    },
    {
      "cell_type": "markdown",
      "metadata": {
        "id": "xfCWmmVH9Cs7",
        "colab_type": "text"
      },
      "source": [
        "#Configuring TPU Strategy\n",
        "Dont forget to change runtime type to TPU before running this Colab"
      ]
    },
    {
      "cell_type": "code",
      "metadata": {
        "id": "hgEKMq2wnQtL",
        "colab_type": "code",
        "colab": {
          "base_uri": "https://localhost:8080/",
          "height": 751
        },
        "outputId": "bc73ea6b-039d-47b6-a210-8dcfb417ec7e"
      },
      "source": [
        "resolver = tf.distribute.cluster_resolver.TPUClusterResolver(tpu='grpc://' + os.environ['COLAB_TPU_ADDR'])\n",
        "tf.config.experimental_connect_to_cluster(resolver)\n",
        "# This is the TPU initialization code that has to be at the beginning.\n",
        "tf.tpu.experimental.initialize_tpu_system(resolver)\n",
        "print(\"All devices: \", tf.config.list_logical_devices('TPU'))\n",
        "strategy = tf.distribute.experimental.TPUStrategy(resolver)\n"
      ],
      "execution_count": 3,
      "outputs": [
        {
          "output_type": "stream",
          "text": [
            "INFO:tensorflow:Initializing the TPU system: grpc://10.65.162.90:8470\n"
          ],
          "name": "stdout"
        },
        {
          "output_type": "stream",
          "text": [
            "INFO:tensorflow:Initializing the TPU system: grpc://10.65.162.90:8470\n"
          ],
          "name": "stderr"
        },
        {
          "output_type": "stream",
          "text": [
            "INFO:tensorflow:Clearing out eager caches\n"
          ],
          "name": "stdout"
        },
        {
          "output_type": "stream",
          "text": [
            "INFO:tensorflow:Clearing out eager caches\n"
          ],
          "name": "stderr"
        },
        {
          "output_type": "stream",
          "text": [
            "INFO:tensorflow:Finished initializing TPU system.\n"
          ],
          "name": "stdout"
        },
        {
          "output_type": "stream",
          "text": [
            "INFO:tensorflow:Finished initializing TPU system.\n",
            "WARNING:absl:`tf.distribute.experimental.TPUStrategy` is deprecated, please use  the non experimental symbol `tf.distribute.TPUStrategy` instead.\n"
          ],
          "name": "stderr"
        },
        {
          "output_type": "stream",
          "text": [
            "All devices:  [LogicalDevice(name='/job:worker/replica:0/task:0/device:TPU:7', device_type='TPU'), LogicalDevice(name='/job:worker/replica:0/task:0/device:TPU:6', device_type='TPU'), LogicalDevice(name='/job:worker/replica:0/task:0/device:TPU:5', device_type='TPU'), LogicalDevice(name='/job:worker/replica:0/task:0/device:TPU:4', device_type='TPU'), LogicalDevice(name='/job:worker/replica:0/task:0/device:TPU:0', device_type='TPU'), LogicalDevice(name='/job:worker/replica:0/task:0/device:TPU:1', device_type='TPU'), LogicalDevice(name='/job:worker/replica:0/task:0/device:TPU:2', device_type='TPU'), LogicalDevice(name='/job:worker/replica:0/task:0/device:TPU:3', device_type='TPU')]\n",
            "INFO:tensorflow:Found TPU system:\n"
          ],
          "name": "stdout"
        },
        {
          "output_type": "stream",
          "text": [
            "INFO:tensorflow:Found TPU system:\n"
          ],
          "name": "stderr"
        },
        {
          "output_type": "stream",
          "text": [
            "INFO:tensorflow:*** Num TPU Cores: 8\n"
          ],
          "name": "stdout"
        },
        {
          "output_type": "stream",
          "text": [
            "INFO:tensorflow:*** Num TPU Cores: 8\n"
          ],
          "name": "stderr"
        },
        {
          "output_type": "stream",
          "text": [
            "INFO:tensorflow:*** Num TPU Workers: 1\n"
          ],
          "name": "stdout"
        },
        {
          "output_type": "stream",
          "text": [
            "INFO:tensorflow:*** Num TPU Workers: 1\n"
          ],
          "name": "stderr"
        },
        {
          "output_type": "stream",
          "text": [
            "INFO:tensorflow:*** Num TPU Cores Per Worker: 8\n"
          ],
          "name": "stdout"
        },
        {
          "output_type": "stream",
          "text": [
            "INFO:tensorflow:*** Num TPU Cores Per Worker: 8\n"
          ],
          "name": "stderr"
        },
        {
          "output_type": "stream",
          "text": [
            "INFO:tensorflow:*** Available Device: _DeviceAttributes(/job:localhost/replica:0/task:0/device:CPU:0, CPU, 0, 0)\n"
          ],
          "name": "stdout"
        },
        {
          "output_type": "stream",
          "text": [
            "INFO:tensorflow:*** Available Device: _DeviceAttributes(/job:localhost/replica:0/task:0/device:CPU:0, CPU, 0, 0)\n"
          ],
          "name": "stderr"
        },
        {
          "output_type": "stream",
          "text": [
            "INFO:tensorflow:*** Available Device: _DeviceAttributes(/job:localhost/replica:0/task:0/device:XLA_CPU:0, XLA_CPU, 0, 0)\n"
          ],
          "name": "stdout"
        },
        {
          "output_type": "stream",
          "text": [
            "INFO:tensorflow:*** Available Device: _DeviceAttributes(/job:localhost/replica:0/task:0/device:XLA_CPU:0, XLA_CPU, 0, 0)\n"
          ],
          "name": "stderr"
        },
        {
          "output_type": "stream",
          "text": [
            "INFO:tensorflow:*** Available Device: _DeviceAttributes(/job:worker/replica:0/task:0/device:CPU:0, CPU, 0, 0)\n"
          ],
          "name": "stdout"
        },
        {
          "output_type": "stream",
          "text": [
            "INFO:tensorflow:*** Available Device: _DeviceAttributes(/job:worker/replica:0/task:0/device:CPU:0, CPU, 0, 0)\n"
          ],
          "name": "stderr"
        },
        {
          "output_type": "stream",
          "text": [
            "INFO:tensorflow:*** Available Device: _DeviceAttributes(/job:worker/replica:0/task:0/device:TPU:0, TPU, 0, 0)\n"
          ],
          "name": "stdout"
        },
        {
          "output_type": "stream",
          "text": [
            "INFO:tensorflow:*** Available Device: _DeviceAttributes(/job:worker/replica:0/task:0/device:TPU:0, TPU, 0, 0)\n"
          ],
          "name": "stderr"
        },
        {
          "output_type": "stream",
          "text": [
            "INFO:tensorflow:*** Available Device: _DeviceAttributes(/job:worker/replica:0/task:0/device:TPU:1, TPU, 0, 0)\n"
          ],
          "name": "stdout"
        },
        {
          "output_type": "stream",
          "text": [
            "INFO:tensorflow:*** Available Device: _DeviceAttributes(/job:worker/replica:0/task:0/device:TPU:1, TPU, 0, 0)\n"
          ],
          "name": "stderr"
        },
        {
          "output_type": "stream",
          "text": [
            "INFO:tensorflow:*** Available Device: _DeviceAttributes(/job:worker/replica:0/task:0/device:TPU:2, TPU, 0, 0)\n"
          ],
          "name": "stdout"
        },
        {
          "output_type": "stream",
          "text": [
            "INFO:tensorflow:*** Available Device: _DeviceAttributes(/job:worker/replica:0/task:0/device:TPU:2, TPU, 0, 0)\n"
          ],
          "name": "stderr"
        },
        {
          "output_type": "stream",
          "text": [
            "INFO:tensorflow:*** Available Device: _DeviceAttributes(/job:worker/replica:0/task:0/device:TPU:3, TPU, 0, 0)\n"
          ],
          "name": "stdout"
        },
        {
          "output_type": "stream",
          "text": [
            "INFO:tensorflow:*** Available Device: _DeviceAttributes(/job:worker/replica:0/task:0/device:TPU:3, TPU, 0, 0)\n"
          ],
          "name": "stderr"
        },
        {
          "output_type": "stream",
          "text": [
            "INFO:tensorflow:*** Available Device: _DeviceAttributes(/job:worker/replica:0/task:0/device:TPU:4, TPU, 0, 0)\n"
          ],
          "name": "stdout"
        },
        {
          "output_type": "stream",
          "text": [
            "INFO:tensorflow:*** Available Device: _DeviceAttributes(/job:worker/replica:0/task:0/device:TPU:4, TPU, 0, 0)\n"
          ],
          "name": "stderr"
        },
        {
          "output_type": "stream",
          "text": [
            "INFO:tensorflow:*** Available Device: _DeviceAttributes(/job:worker/replica:0/task:0/device:TPU:5, TPU, 0, 0)\n"
          ],
          "name": "stdout"
        },
        {
          "output_type": "stream",
          "text": [
            "INFO:tensorflow:*** Available Device: _DeviceAttributes(/job:worker/replica:0/task:0/device:TPU:5, TPU, 0, 0)\n"
          ],
          "name": "stderr"
        },
        {
          "output_type": "stream",
          "text": [
            "INFO:tensorflow:*** Available Device: _DeviceAttributes(/job:worker/replica:0/task:0/device:TPU:6, TPU, 0, 0)\n"
          ],
          "name": "stdout"
        },
        {
          "output_type": "stream",
          "text": [
            "INFO:tensorflow:*** Available Device: _DeviceAttributes(/job:worker/replica:0/task:0/device:TPU:6, TPU, 0, 0)\n"
          ],
          "name": "stderr"
        },
        {
          "output_type": "stream",
          "text": [
            "INFO:tensorflow:*** Available Device: _DeviceAttributes(/job:worker/replica:0/task:0/device:TPU:7, TPU, 0, 0)\n"
          ],
          "name": "stdout"
        },
        {
          "output_type": "stream",
          "text": [
            "INFO:tensorflow:*** Available Device: _DeviceAttributes(/job:worker/replica:0/task:0/device:TPU:7, TPU, 0, 0)\n"
          ],
          "name": "stderr"
        },
        {
          "output_type": "stream",
          "text": [
            "INFO:tensorflow:*** Available Device: _DeviceAttributes(/job:worker/replica:0/task:0/device:TPU_SYSTEM:0, TPU_SYSTEM, 0, 0)\n"
          ],
          "name": "stdout"
        },
        {
          "output_type": "stream",
          "text": [
            "INFO:tensorflow:*** Available Device: _DeviceAttributes(/job:worker/replica:0/task:0/device:TPU_SYSTEM:0, TPU_SYSTEM, 0, 0)\n"
          ],
          "name": "stderr"
        },
        {
          "output_type": "stream",
          "text": [
            "INFO:tensorflow:*** Available Device: _DeviceAttributes(/job:worker/replica:0/task:0/device:XLA_CPU:0, XLA_CPU, 0, 0)\n"
          ],
          "name": "stdout"
        },
        {
          "output_type": "stream",
          "text": [
            "INFO:tensorflow:*** Available Device: _DeviceAttributes(/job:worker/replica:0/task:0/device:XLA_CPU:0, XLA_CPU, 0, 0)\n"
          ],
          "name": "stderr"
        }
      ]
    },
    {
      "cell_type": "code",
      "metadata": {
        "id": "3UN3Fa44APq_",
        "colab_type": "code",
        "colab": {}
      },
      "source": [
        "def preprocess_sentence(sentence):\n",
        "  sentence = sentence.lower().strip()\n",
        "  # creating a space between a word and the punctuation following it\n",
        "  # eg: \"he is a boy.\" => \"he is a boy .\"\n",
        "  sentence = re.sub(r\"([?.!,])\", r\" \\1 \", sentence)\n",
        "  sentence = re.sub(r'[\" \"]+', \" \", sentence)\n",
        "  # replacing everything with space except (a-z, A-Z, \".\", \"?\", \"!\", \",\")\n",
        "  sentence = re.sub(r\"[^a-zA-Z?.!,]+\", \" \", sentence)\n",
        "  sentence = sentence.strip()\n",
        "  # adding a start and an end token to the sentence\n",
        "  return sentence\n"
      ],
      "execution_count": 27,
      "outputs": []
    },
    {
      "cell_type": "code",
      "metadata": {
        "id": "RwWWA8CaL8iP",
        "colab_type": "code",
        "colab": {}
      },
      "source": [
        "import pickle\n",
        "with open('/mydrive/My Drive/ChatBot_Trnsfrmer_Taskmaster2/Pretrained_Weights/tokenizer_chatbot.pickle', 'rb') as handle:\n",
        "    tokenizer = pickle.load(handle)\n",
        "\n",
        "VOCAB_SIZE=tokenizer.vocab_size\n"
      ],
      "execution_count": 22,
      "outputs": []
    },
    {
      "cell_type": "code",
      "metadata": {
        "id": "KScJpddLNG78",
        "colab_type": "code",
        "colab": {}
      },
      "source": [
        "START_TOKEN, END_TOKEN = [tokenizer.vocab_size], [tokenizer.vocab_size+1]\n",
        "MAX_LENGTH = 40"
      ],
      "execution_count": 45,
      "outputs": []
    },
    {
      "cell_type": "markdown",
      "metadata": {
        "id": "9YjZrp4e-qOP",
        "colab_type": "text"
      },
      "source": [
        "# Attention Codes"
      ]
    },
    {
      "cell_type": "code",
      "metadata": {
        "id": "AnqDAhUJEg8Y",
        "colab_type": "code",
        "colab": {}
      },
      "source": [
        "def scaled_dot_product_attention(query, key, value, mask):\n",
        "  \"\"\"Calculate the attention weights. \"\"\"\n",
        "  matmul_qk = tf.matmul(query, key, transpose_b=True)\n",
        "\n",
        "  # scale matmul_qk\n",
        "  depth = tf.cast(tf.shape(key)[-1], tf.float32)\n",
        "  logits = matmul_qk / tf.math.sqrt(depth)\n",
        "\n",
        "  # add the mask to zero out padding tokens\n",
        "  if mask is not None:\n",
        "    logits += (mask * -1e9)\n",
        "\n",
        "  # softmax is normalized on the last axis (seq_len_k)\n",
        "  attention_weights = tf.nn.softmax(logits, axis=-1)\n",
        "\n",
        "  output = tf.matmul(attention_weights, value)\n",
        "\n",
        "  return output"
      ],
      "execution_count": 4,
      "outputs": []
    },
    {
      "cell_type": "code",
      "metadata": {
        "id": "45LTs5chExAo",
        "colab_type": "code",
        "colab": {}
      },
      "source": [
        "class MultiHeadAttention(tf.keras.layers.Layer):\n",
        "\n",
        "  def __init__(self, d_model, num_heads, name=\"multi_head_attention\"):\n",
        "    super(MultiHeadAttention, self).__init__(name=name)\n",
        "    self.num_heads = num_heads\n",
        "    self.d_model = d_model\n",
        "\n",
        "    assert d_model % self.num_heads == 0\n",
        "\n",
        "    self.depth = d_model // self.num_heads\n",
        "\n",
        "    self.query_dense = tf.keras.layers.Dense(units=d_model)\n",
        "    self.key_dense = tf.keras.layers.Dense(units=d_model)\n",
        "    self.value_dense = tf.keras.layers.Dense(units=d_model)\n",
        "\n",
        "    self.dense = tf.keras.layers.Dense(units=d_model)\n",
        "\n",
        "  def split_heads(self, inputs, batch_size):\n",
        "    inputs = tf.reshape(\n",
        "        inputs, shape=(batch_size, -1, self.num_heads, self.depth))\n",
        "    return tf.transpose(inputs, perm=[0, 2, 1, 3])\n",
        "\n",
        "  def call(self, inputs):\n",
        "    query, key, value, mask = inputs['query'], inputs['key'], inputs[\n",
        "        'value'], inputs['mask']\n",
        "    batch_size = tf.shape(query)[0]\n",
        "\n",
        "    # linear layers\n",
        "    query = self.query_dense(query)\n",
        "    key = self.key_dense(key)\n",
        "    value = self.value_dense(value)\n",
        "\n",
        "    # split heads\n",
        "    query = self.split_heads(query, batch_size)\n",
        "    key = self.split_heads(key, batch_size)\n",
        "    value = self.split_heads(value, batch_size)\n",
        "\n",
        "    # scaled dot-product attention\n",
        "    scaled_attention = scaled_dot_product_attention(query, key, value, mask)\n",
        "\n",
        "    scaled_attention = tf.transpose(scaled_attention, perm=[0, 2, 1, 3])\n",
        "\n",
        "    # concatenation of heads\n",
        "    concat_attention = tf.reshape(scaled_attention,\n",
        "                                  (batch_size, -1, self.d_model))\n",
        "\n",
        "    # final linear layer\n",
        "    outputs = self.dense(concat_attention)\n",
        "\n",
        "    return outputs"
      ],
      "execution_count": 5,
      "outputs": []
    },
    {
      "cell_type": "markdown",
      "metadata": {
        "id": "_q92zdwH-vfe",
        "colab_type": "text"
      },
      "source": [
        "#Masks as per paper from Transfomers architecture"
      ]
    },
    {
      "cell_type": "code",
      "metadata": {
        "id": "-4VKpsR-FHVv",
        "colab_type": "code",
        "colab": {}
      },
      "source": [
        "def create_padding_mask(x):\n",
        "  mask = tf.cast(tf.math.equal(x, 0), tf.float32)\n",
        "  # (batch_size, 1, 1, sequence length)\n",
        "  return mask[:, tf.newaxis, tf.newaxis, :]"
      ],
      "execution_count": 6,
      "outputs": []
    },
    {
      "cell_type": "code",
      "metadata": {
        "id": "wsaIYkf0FLCa",
        "colab_type": "code",
        "colab": {}
      },
      "source": [
        "def create_look_ahead_mask(x):\n",
        "  seq_len = tf.shape(x)[1]\n",
        "  look_ahead_mask = 1 - tf.linalg.band_part(tf.ones((seq_len, seq_len)), -1, 0)\n",
        "  padding_mask = create_padding_mask(x)\n",
        "  return tf.maximum(look_ahead_mask, padding_mask)"
      ],
      "execution_count": 7,
      "outputs": []
    },
    {
      "cell_type": "markdown",
      "metadata": {
        "id": "p0YVdih7-3Fu",
        "colab_type": "text"
      },
      "source": [
        "#Positional encoding as we are not using RNN/LSTMs."
      ]
    },
    {
      "cell_type": "code",
      "metadata": {
        "id": "1BED5y4YFSPR",
        "colab_type": "code",
        "colab": {}
      },
      "source": [
        "class PositionalEncoding(tf.keras.layers.Layer):\n",
        "\n",
        "  def __init__(self, position, d_model):\n",
        "    super(PositionalEncoding, self).__init__()\n",
        "    self.pos_encoding = self.positional_encoding(position, d_model)\n",
        "\n",
        "  def get_angles(self, position, i, d_model):\n",
        "    angles = 1 / tf.pow(10000, (2 * (i // 2)) / tf.cast(d_model, tf.float32))\n",
        "    return position * angles\n",
        "\n",
        "  def positional_encoding(self, position, d_model):\n",
        "    angle_rads = self.get_angles(\n",
        "        position=tf.range(position, dtype=tf.float32)[:, tf.newaxis],\n",
        "        i=tf.range(d_model, dtype=tf.float32)[tf.newaxis, :],\n",
        "        d_model=d_model)\n",
        "    # apply sin to even index in the array\n",
        "    sines = tf.math.sin(angle_rads[:, 0::2])\n",
        "    # apply cos to odd index in the array\n",
        "    cosines = tf.math.cos(angle_rads[:, 1::2])\n",
        "\n",
        "    pos_encoding = tf.concat([sines, cosines], axis=-1)\n",
        "    pos_encoding = pos_encoding[tf.newaxis, ...]\n",
        "    return tf.cast(pos_encoding, tf.float32)\n",
        "\n",
        "  def call(self, inputs):\n",
        "    return inputs + self.pos_encoding[:, :tf.shape(inputs)[1], :]"
      ],
      "execution_count": 8,
      "outputs": []
    },
    {
      "cell_type": "markdown",
      "metadata": {
        "id": "aONnbQak-_oy",
        "colab_type": "text"
      },
      "source": [
        "#Encoder"
      ]
    },
    {
      "cell_type": "code",
      "metadata": {
        "id": "KqX_dqYCFfeX",
        "colab_type": "code",
        "colab": {}
      },
      "source": [
        "def encoder_layer(units, d_model, num_heads, dropout, name=\"encoder_layer\"):\n",
        "  inputs = tf.keras.Input(shape=(None, d_model), name=\"inputs\")\n",
        "  padding_mask = tf.keras.Input(shape=(1, 1, None), name=\"padding_mask\")\n",
        "\n",
        "  attention = MultiHeadAttention(\n",
        "      d_model, num_heads, name=\"attention\")({\n",
        "          'query': inputs,\n",
        "          'key': inputs,\n",
        "          'value': inputs,\n",
        "          'mask': padding_mask\n",
        "      })\n",
        "  attention = tf.keras.layers.Dropout(rate=dropout)(attention)\n",
        "  attention = tf.keras.layers.LayerNormalization(\n",
        "      epsilon=1e-6)(inputs + attention)\n",
        "\n",
        "  outputs = tf.keras.layers.Dense(units=units, activation='relu')(attention)\n",
        "  outputs = tf.keras.layers.Dense(units=d_model)(outputs)\n",
        "  outputs = tf.keras.layers.Dropout(rate=dropout)(outputs)\n",
        "  outputs = tf.keras.layers.LayerNormalization(\n",
        "      epsilon=1e-6)(attention + outputs)\n",
        "\n",
        "  return tf.keras.Model(\n",
        "      inputs=[inputs, padding_mask], outputs=outputs, name=name)"
      ],
      "execution_count": 9,
      "outputs": []
    },
    {
      "cell_type": "code",
      "metadata": {
        "id": "6tguZtIKFuu3",
        "colab_type": "code",
        "colab": {}
      },
      "source": [
        "def encoder(vocab_size,\n",
        "            num_layers,\n",
        "            units,\n",
        "            d_model,\n",
        "            num_heads,\n",
        "            dropout,\n",
        "            name=\"encoder\"):\n",
        "  inputs = tf.keras.Input(shape=(None,), name=\"inputs\")\n",
        "  padding_mask = tf.keras.Input(shape=(1, 1, None), name=\"padding_mask\")\n",
        "\n",
        "  embeddings = tf.keras.layers.Embedding(vocab_size, d_model)(inputs)\n",
        "  embeddings *= tf.math.sqrt(tf.cast(d_model, tf.float32))\n",
        "  embeddings = PositionalEncoding(vocab_size, d_model)(embeddings)\n",
        "\n",
        "  outputs = tf.keras.layers.Dropout(rate=dropout)(embeddings)\n",
        "\n",
        "  for i in range(num_layers):\n",
        "    outputs = encoder_layer(\n",
        "        units=units,\n",
        "        d_model=d_model,\n",
        "        num_heads=num_heads,\n",
        "        dropout=dropout,\n",
        "        name=\"encoder_layer_{}\".format(i),\n",
        "    )([outputs, padding_mask])\n",
        "\n",
        "  return tf.keras.Model(\n",
        "      inputs=[inputs, padding_mask], outputs=outputs, name=name)"
      ],
      "execution_count": 10,
      "outputs": []
    },
    {
      "cell_type": "markdown",
      "metadata": {
        "id": "VD_xoYPw_CLQ",
        "colab_type": "text"
      },
      "source": [
        "#Decoder"
      ]
    },
    {
      "cell_type": "code",
      "metadata": {
        "id": "X8HFSma3F_pO",
        "colab_type": "code",
        "colab": {}
      },
      "source": [
        "def decoder_layer(units, d_model, num_heads, dropout, name=\"decoder_layer\"):\n",
        "  inputs = tf.keras.Input(shape=(None, d_model), name=\"inputs\")\n",
        "  enc_outputs = tf.keras.Input(shape=(None, d_model), name=\"encoder_outputs\")\n",
        "  look_ahead_mask = tf.keras.Input(\n",
        "      shape=(1, None, None), name=\"look_ahead_mask\")\n",
        "  padding_mask = tf.keras.Input(shape=(1, 1, None), name='padding_mask')\n",
        "\n",
        "  attention1 = MultiHeadAttention(\n",
        "      d_model, num_heads, name=\"attention_1\")(inputs={\n",
        "          'query': inputs,\n",
        "          'key': inputs,\n",
        "          'value': inputs,\n",
        "          'mask': look_ahead_mask\n",
        "      })\n",
        "  attention1 = tf.keras.layers.LayerNormalization(\n",
        "      epsilon=1e-6)(attention1 + inputs)\n",
        "\n",
        "  attention2 = MultiHeadAttention(\n",
        "      d_model, num_heads, name=\"attention_2\")(inputs={\n",
        "          'query': attention1,\n",
        "          'key': enc_outputs,\n",
        "          'value': enc_outputs,\n",
        "          'mask': padding_mask\n",
        "      })\n",
        "  attention2 = tf.keras.layers.Dropout(rate=dropout)(attention2)\n",
        "  attention2 = tf.keras.layers.LayerNormalization(\n",
        "      epsilon=1e-6)(attention2 + attention1)\n",
        "\n",
        "  outputs = tf.keras.layers.Dense(units=units, activation='relu')(attention2)\n",
        "  outputs = tf.keras.layers.Dense(units=d_model)(outputs)\n",
        "  outputs = tf.keras.layers.Dropout(rate=dropout)(outputs)\n",
        "  outputs = tf.keras.layers.LayerNormalization(\n",
        "      epsilon=1e-6)(outputs + attention2)\n",
        "\n",
        "  return tf.keras.Model(\n",
        "      inputs=[inputs, enc_outputs, look_ahead_mask, padding_mask],\n",
        "      outputs=outputs,\n",
        "      name=name)"
      ],
      "execution_count": 11,
      "outputs": []
    },
    {
      "cell_type": "code",
      "metadata": {
        "id": "z73I5VbJGD-2",
        "colab_type": "code",
        "colab": {}
      },
      "source": [
        "def decoder(vocab_size,\n",
        "            num_layers,\n",
        "            units,\n",
        "            d_model,\n",
        "            num_heads,\n",
        "            dropout,\n",
        "            name='decoder'):\n",
        "  inputs = tf.keras.Input(shape=(None,), name='inputs')\n",
        "  enc_outputs = tf.keras.Input(shape=(None, d_model), name='encoder_outputs')\n",
        "  look_ahead_mask = tf.keras.Input(\n",
        "      shape=(1, None, None), name='look_ahead_mask')\n",
        "  padding_mask = tf.keras.Input(shape=(1, 1, None), name='padding_mask')\n",
        "  \n",
        "  embeddings = tf.keras.layers.Embedding(vocab_size, d_model)(inputs)\n",
        "  embeddings *= tf.math.sqrt(tf.cast(d_model, tf.float32))\n",
        "  embeddings = PositionalEncoding(vocab_size, d_model)(embeddings)\n",
        "\n",
        "  outputs = tf.keras.layers.Dropout(rate=dropout)(embeddings)\n",
        "\n",
        "  for i in range(num_layers):\n",
        "    outputs = decoder_layer(\n",
        "        units=units,\n",
        "        d_model=d_model,\n",
        "        num_heads=num_heads,\n",
        "        dropout=dropout,\n",
        "        name='decoder_layer_{}'.format(i),\n",
        "    )(inputs=[outputs, enc_outputs, look_ahead_mask, padding_mask])\n",
        "\n",
        "  return tf.keras.Model(\n",
        "      inputs=[inputs, enc_outputs, look_ahead_mask, padding_mask],\n",
        "      outputs=outputs,\n",
        "      name=name)"
      ],
      "execution_count": 12,
      "outputs": []
    },
    {
      "cell_type": "markdown",
      "metadata": {
        "id": "flHQXSdQ_Ee4",
        "colab_type": "text"
      },
      "source": [
        "#Transformer "
      ]
    },
    {
      "cell_type": "code",
      "metadata": {
        "id": "00cE7vkaGGg-",
        "colab_type": "code",
        "colab": {}
      },
      "source": [
        "def transformer(vocab_size,\n",
        "                num_layers,\n",
        "                units,\n",
        "                d_model,\n",
        "                num_heads,\n",
        "                dropout,\n",
        "                name=\"transformer\"):\n",
        "  inputs = tf.keras.Input(shape=(None,), name=\"inputs\")\n",
        "  dec_inputs = tf.keras.Input(shape=(None,), name=\"dec_inputs\")\n",
        "\n",
        "  enc_padding_mask = tf.keras.layers.Lambda(\n",
        "      create_padding_mask, output_shape=(1, 1, None),\n",
        "      name='enc_padding_mask')(inputs)\n",
        "  # mask the future tokens for decoder inputs at the 1st attention block\n",
        "  look_ahead_mask = tf.keras.layers.Lambda(\n",
        "      create_look_ahead_mask,\n",
        "      output_shape=(1, None, None),\n",
        "      name='look_ahead_mask')(dec_inputs)\n",
        "  # mask the encoder outputs for the 2nd attention block\n",
        "  dec_padding_mask = tf.keras.layers.Lambda(\n",
        "      create_padding_mask, output_shape=(1, 1, None),\n",
        "      name='dec_padding_mask')(inputs)\n",
        "  \n",
        "  enc_outputs = encoder(\n",
        "      vocab_size=vocab_size,\n",
        "      num_layers=num_layers,\n",
        "      units=units,\n",
        "      d_model=d_model,\n",
        "      num_heads=num_heads,\n",
        "      dropout=dropout,\n",
        "    )(inputs=[inputs, enc_padding_mask])\n",
        "\n",
        "  dec_outputs = decoder(\n",
        "      vocab_size=vocab_size,\n",
        "      num_layers=num_layers,\n",
        "      units=units,\n",
        "      d_model=d_model,\n",
        "      num_heads=num_heads,\n",
        "      dropout=dropout,\n",
        "    )(inputs=[dec_inputs, enc_outputs, look_ahead_mask, dec_padding_mask])\n",
        "\n",
        "  outputs = tf.keras.layers.Dense(units=vocab_size, name=\"outputs\")(dec_outputs)\n",
        "\n",
        "  return tf.keras.Model(inputs=[inputs, dec_inputs], outputs=outputs, name=name)\n",
        "  "
      ],
      "execution_count": 13,
      "outputs": []
    },
    {
      "cell_type": "markdown",
      "metadata": {
        "id": "iwkc16a5_IMK",
        "colab_type": "text"
      },
      "source": [
        "# Hyperparameters"
      ]
    },
    {
      "cell_type": "code",
      "metadata": {
        "id": "C1VBZCQjGUlx",
        "colab_type": "code",
        "colab": {}
      },
      "source": [
        "tf.keras.backend.clear_session()\n",
        "\n",
        "# Hyper-parameters\n",
        "NUM_LAYERS = 6 #2,6\n",
        "D_MODEL = 256\n",
        "NUM_HEADS = 8  #8\n",
        "UNITS = 512\n",
        "DROPOUT = 0.1\n",
        "\n"
      ],
      "execution_count": 14,
      "outputs": []
    },
    {
      "cell_type": "markdown",
      "metadata": {
        "id": "R1DUGnwn_MO-",
        "colab_type": "text"
      },
      "source": [
        "#Loss Function,Accuracy and Custom learning rate scheduler\n",
        "Feel free to experiment with learning rate "
      ]
    },
    {
      "cell_type": "code",
      "metadata": {
        "id": "QiTRJel9Ga8f",
        "colab_type": "code",
        "colab": {}
      },
      "source": [
        "def loss_function(y_true, y_pred):\n",
        "  y_true = tf.reshape(y_true, shape=(-1, MAX_LENGTH - 1))\n",
        "  \n",
        "  loss = tf.keras.losses.SparseCategoricalCrossentropy(\n",
        "      from_logits=True, reduction='none')(y_true, y_pred)\n",
        "\n",
        "  mask = tf.cast(tf.not_equal(y_true, 0), tf.float32)\n",
        "  loss = tf.multiply(loss, mask)\n",
        "\n",
        "  return tf.reduce_mean(loss)"
      ],
      "execution_count": 15,
      "outputs": []
    },
    {
      "cell_type": "code",
      "metadata": {
        "id": "ycxhBOxYGcue",
        "colab_type": "code",
        "colab": {}
      },
      "source": [
        "class CustomSchedule(tf.keras.optimizers.schedules.LearningRateSchedule):\n",
        "\n",
        "  def __init__(self, d_model, warmup_steps=4000):\n",
        "    super(CustomSchedule, self).__init__()\n",
        "\n",
        "    self.d_model = d_model\n",
        "    self.d_model = tf.cast(self.d_model, tf.float32)\n",
        "\n",
        "    self.warmup_steps = warmup_steps\n",
        "\n",
        "  def __call__(self, step):\n",
        "    arg1 = tf.math.rsqrt(step)\n",
        "    arg2 = step * (self.warmup_steps**-1.5)\n",
        "\n",
        "    return tf.math.rsqrt(self.d_model) * tf.math.minimum(arg1, arg2)"
      ],
      "execution_count": 16,
      "outputs": []
    },
    {
      "cell_type": "code",
      "metadata": {
        "id": "DrUssHnwGlCI",
        "colab_type": "code",
        "colab": {}
      },
      "source": [
        "import datetime\n",
        "learning_rate = CustomSchedule(D_MODEL)\n",
        "\n",
        "optimizer = tf.keras.optimizers.Adam(\n",
        "    learning_rate, beta_1=0.9, beta_2=0.98, epsilon=1e-9)\n",
        "\n",
        "def accuracy(y_true, y_pred):\n",
        "  # ensure labels have shape (batch_size, MAX_LENGTH - 1)\n",
        "  y_true = tf.reshape(y_true, shape=(-1, MAX_LENGTH - 1))\n",
        "  return tf.keras.metrics.sparse_categorical_accuracy(y_true, y_pred)\n",
        "\n",
        "\n"
      ],
      "execution_count": 17,
      "outputs": []
    },
    {
      "cell_type": "markdown",
      "metadata": {
        "id": "tbkcnqpx_Veb",
        "colab_type": "text"
      },
      "source": [
        "#Building model with TPU strategy"
      ]
    },
    {
      "cell_type": "code",
      "metadata": {
        "id": "NqFNX-Ovo278",
        "colab_type": "code",
        "colab": {}
      },
      "source": [
        "with strategy.scope():\n",
        "  model = transformer(\n",
        "    vocab_size=VOCAB_SIZE,\n",
        "    num_layers=NUM_LAYERS,\n",
        "    units=UNITS,\n",
        "    d_model=D_MODEL,\n",
        "    num_heads=NUM_HEADS,\n",
        "    dropout=DROPOUT)\n",
        "  model.compile(optimizer=optimizer, loss=loss_function, metrics=[accuracy])"
      ],
      "execution_count": 23,
      "outputs": []
    },
    {
      "cell_type": "code",
      "metadata": {
        "id": "_JT7kaSUMXCD",
        "colab_type": "code",
        "colab": {}
      },
      "source": [
        "model.load_weights('/mydrive/My Drive/ChatBot_Trnsfrmer_Taskmaster2/Pretrained_Weights/chat_trnsfrmer.h5')"
      ],
      "execution_count": 24,
      "outputs": []
    },
    {
      "cell_type": "markdown",
      "metadata": {
        "id": "rV5pXEmF_kmY",
        "colab_type": "text"
      },
      "source": [
        "#Evaluation and Prediction"
      ]
    },
    {
      "cell_type": "code",
      "metadata": {
        "id": "w2W874bBHCXu",
        "colab_type": "code",
        "colab": {}
      },
      "source": [
        "def evaluate(sentence):\n",
        "  sentence = preprocess_sentence(sentence)\n",
        "\n",
        "  sentence = tf.expand_dims(\n",
        "      START_TOKEN + tokenizer.encode(sentence) + END_TOKEN, axis=0)\n",
        "\n",
        "  output = tf.expand_dims(START_TOKEN, 0)\n",
        "\n",
        "  for i in range(MAX_LENGTH):\n",
        "    predictions = model(inputs=[sentence, output], training=False)\n",
        "\n",
        "    # select the last word from the seq_len dimension\n",
        "    predictions = predictions[:, -1:, :]\n",
        "    predicted_id = tf.cast(tf.argmax(predictions, axis=-1), tf.int32)\n",
        "\n",
        "    # return the result if the predicted_id is equal to the end token\n",
        "    if tf.equal(predicted_id, END_TOKEN[0]):\n",
        "      break\n",
        "\n",
        "    # concatenated the predicted_id to the output which is given to the decoder\n",
        "    # as its input.\n",
        "    output = tf.concat([output, predicted_id], axis=-1)\n",
        "\n",
        "  return tf.squeeze(output, axis=0)\n",
        "\n",
        "\n",
        "def predict(sentence):\n",
        "  prediction = evaluate(sentence)\n",
        "\n",
        "  predicted_sentence = tokenizer.decode(\n",
        "      [i for i in prediction if i < tokenizer.vocab_size])\n",
        "\n",
        "  print('Input: {}'.format(sentence))\n",
        "  print('Output: {}'.format(predicted_sentence))\n",
        "\n",
        "  return predicted_sentence"
      ],
      "execution_count": 46,
      "outputs": []
    },
    {
      "cell_type": "markdown",
      "metadata": {
        "id": "huW0P_gJ_tcl",
        "colab_type": "text"
      },
      "source": [
        "# Talk with your newly trained Friend"
      ]
    },
    {
      "cell_type": "code",
      "metadata": {
        "id": "fFpmbuOWHMzl",
        "colab_type": "code",
        "colab": {
          "base_uri": "https://localhost:8080/",
          "height": 51
        },
        "outputId": "eb0cc94f-e9a4-47f1-dd6e-006e90c9e2e3"
      },
      "source": [
        "output = predict('i would like to order food')"
      ],
      "execution_count": 47,
      "outputs": [
        {
          "output_type": "stream",
          "text": [
            "Input: i would like to order food\n",
            "Output: what type of food would you like ?\n"
          ],
          "name": "stdout"
        }
      ]
    },
    {
      "cell_type": "markdown",
      "metadata": {
        "id": "x0J3-OJgCP2C",
        "colab_type": "text"
      },
      "source": [
        "# Future Scope\n",
        "We saw how  basic transformer even can be trained on dailogue tasks like this,though it doesnt give accuracy because we only trained for 20 epochs due to processing constraints. but this gives a fair idea how dialogue models are trained while also giving you the real taste of transformer archtectures.\n",
        "\n",
        "\n"
      ]
    },
    {
      "cell_type": "markdown",
      "metadata": {
        "id": "jXIGmN_ECxM6",
        "colab_type": "text"
      },
      "source": [
        "# Happy Leaning ,Happy Coding\n",
        "\n"
      ]
    }
  ]
}